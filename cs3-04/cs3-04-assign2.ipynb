{
 "cells": [
  {
   "cell_type": "code",
   "execution_count": 1,
   "id": "f6409982-a762-4811-b409-1401cfeb6f27",
   "metadata": {},
   "outputs": [],
   "source": [
    "import pandas as pd\n",
    "import numpy as np"
   ]
  },
  {
   "cell_type": "code",
   "execution_count": 2,
   "id": "95edd293-9eca-4f52-bf9d-96ee4f23ece5",
   "metadata": {},
   "outputs": [
    {
     "data": {
      "text/html": [
       "<div>\n",
       "<style scoped>\n",
       "    .dataframe tbody tr th:only-of-type {\n",
       "        vertical-align: middle;\n",
       "    }\n",
       "\n",
       "    .dataframe tbody tr th {\n",
       "        vertical-align: top;\n",
       "    }\n",
       "\n",
       "    .dataframe thead th {\n",
       "        text-align: right;\n",
       "    }\n",
       "</style>\n",
       "<table border=\"1\" class=\"dataframe\">\n",
       "  <thead>\n",
       "    <tr style=\"text-align: right;\">\n",
       "      <th></th>\n",
       "      <th>Channel</th>\n",
       "      <th>Region</th>\n",
       "      <th>Fresh</th>\n",
       "      <th>Milk</th>\n",
       "      <th>Grocery</th>\n",
       "      <th>Frozen</th>\n",
       "      <th>Detergents_Paper</th>\n",
       "      <th>Delicatessen</th>\n",
       "    </tr>\n",
       "  </thead>\n",
       "  <tbody>\n",
       "    <tr>\n",
       "      <th>0</th>\n",
       "      <td>2</td>\n",
       "      <td>Other</td>\n",
       "      <td>12669</td>\n",
       "      <td>NaN</td>\n",
       "      <td>7561</td>\n",
       "      <td>214.0</td>\n",
       "      <td>2674</td>\n",
       "      <td>1338</td>\n",
       "    </tr>\n",
       "    <tr>\n",
       "      <th>1</th>\n",
       "      <td>2</td>\n",
       "      <td>other</td>\n",
       "      <td>7057</td>\n",
       "      <td>9810.0</td>\n",
       "      <td>9568</td>\n",
       "      <td>1762.0</td>\n",
       "      <td>3293</td>\n",
       "      <td>1776</td>\n",
       "    </tr>\n",
       "    <tr>\n",
       "      <th>2</th>\n",
       "      <td>2</td>\n",
       "      <td>Otheer</td>\n",
       "      <td>6353</td>\n",
       "      <td>8808.0</td>\n",
       "      <td>7684</td>\n",
       "      <td>2405.0</td>\n",
       "      <td>3516</td>\n",
       "      <td>7844</td>\n",
       "    </tr>\n",
       "    <tr>\n",
       "      <th>3</th>\n",
       "      <td>2</td>\n",
       "      <td>Otheer</td>\n",
       "      <td>6353</td>\n",
       "      <td>8808.0</td>\n",
       "      <td>7684</td>\n",
       "      <td>2405.0</td>\n",
       "      <td>3516</td>\n",
       "      <td>7844</td>\n",
       "    </tr>\n",
       "    <tr>\n",
       "      <th>4</th>\n",
       "      <td>1</td>\n",
       "      <td>Other</td>\n",
       "      <td>13265</td>\n",
       "      <td>NaN</td>\n",
       "      <td>4221</td>\n",
       "      <td>NaN</td>\n",
       "      <td>507</td>\n",
       "      <td>1788</td>\n",
       "    </tr>\n",
       "  </tbody>\n",
       "</table>\n",
       "</div>"
      ],
      "text/plain": [
       "   Channel  Region  Fresh    Milk  Grocery  Frozen  Detergents_Paper  \\\n",
       "0        2   Other  12669     NaN     7561   214.0              2674   \n",
       "1        2   other   7057  9810.0     9568  1762.0              3293   \n",
       "2        2  Otheer   6353  8808.0     7684  2405.0              3516   \n",
       "3        2  Otheer   6353  8808.0     7684  2405.0              3516   \n",
       "4        1   Other  13265     NaN     4221     NaN               507   \n",
       "\n",
       "   Delicatessen  \n",
       "0          1338  \n",
       "1          1776  \n",
       "2          7844  \n",
       "3          7844  \n",
       "4          1788  "
      ]
     },
     "metadata": {},
     "output_type": "display_data"
    }
   ],
   "source": [
    "df = pd.read_csv(\"wholesale_customers-with-errors.csv\", skiprows=13, header=0, sep=\",\")\n",
    "display(df.head())"
   ]
  },
  {
   "cell_type": "markdown",
   "id": "8cba7428-163c-4627-80b1-33745b5090d7",
   "metadata": {},
   "source": [
    "#### 重複したデータを表示し、重複を削除。"
   ]
  },
  {
   "cell_type": "code",
   "execution_count": 3,
   "id": "7f8c5131-e813-4b48-ba78-418252427734",
   "metadata": {},
   "outputs": [
    {
     "data": {
      "text/html": [
       "<div>\n",
       "<style scoped>\n",
       "    .dataframe tbody tr th:only-of-type {\n",
       "        vertical-align: middle;\n",
       "    }\n",
       "\n",
       "    .dataframe tbody tr th {\n",
       "        vertical-align: top;\n",
       "    }\n",
       "\n",
       "    .dataframe thead th {\n",
       "        text-align: right;\n",
       "    }\n",
       "</style>\n",
       "<table border=\"1\" class=\"dataframe\">\n",
       "  <thead>\n",
       "    <tr style=\"text-align: right;\">\n",
       "      <th></th>\n",
       "      <th>Channel</th>\n",
       "      <th>Region</th>\n",
       "      <th>Fresh</th>\n",
       "      <th>Milk</th>\n",
       "      <th>Grocery</th>\n",
       "      <th>Frozen</th>\n",
       "      <th>Detergents_Paper</th>\n",
       "      <th>Delicatessen</th>\n",
       "    </tr>\n",
       "  </thead>\n",
       "  <tbody>\n",
       "    <tr>\n",
       "      <th>2</th>\n",
       "      <td>2</td>\n",
       "      <td>Otheer</td>\n",
       "      <td>6353</td>\n",
       "      <td>8808.0</td>\n",
       "      <td>7684</td>\n",
       "      <td>2405.0</td>\n",
       "      <td>3516</td>\n",
       "      <td>7844</td>\n",
       "    </tr>\n",
       "    <tr>\n",
       "      <th>3</th>\n",
       "      <td>2</td>\n",
       "      <td>Otheer</td>\n",
       "      <td>6353</td>\n",
       "      <td>8808.0</td>\n",
       "      <td>7684</td>\n",
       "      <td>2405.0</td>\n",
       "      <td>3516</td>\n",
       "      <td>7844</td>\n",
       "    </tr>\n",
       "    <tr>\n",
       "      <th>310</th>\n",
       "      <td>1</td>\n",
       "      <td>Oporto</td>\n",
       "      <td>7034</td>\n",
       "      <td>1492.0</td>\n",
       "      <td>2405</td>\n",
       "      <td>12569.0</td>\n",
       "      <td>299</td>\n",
       "      <td>1117</td>\n",
       "    </tr>\n",
       "    <tr>\n",
       "      <th>311</th>\n",
       "      <td>1</td>\n",
       "      <td>Oporto</td>\n",
       "      <td>7034</td>\n",
       "      <td>1492.0</td>\n",
       "      <td>2405</td>\n",
       "      <td>12569.0</td>\n",
       "      <td>299</td>\n",
       "      <td>1117</td>\n",
       "    </tr>\n",
       "    <tr>\n",
       "      <th>312</th>\n",
       "      <td>1</td>\n",
       "      <td>Oporto</td>\n",
       "      <td>7034</td>\n",
       "      <td>1492.0</td>\n",
       "      <td>2405</td>\n",
       "      <td>12569.0</td>\n",
       "      <td>299</td>\n",
       "      <td>1117</td>\n",
       "    </tr>\n",
       "  </tbody>\n",
       "</table>\n",
       "</div>"
      ],
      "text/plain": [
       "     Channel  Region  Fresh    Milk  Grocery   Frozen  Detergents_Paper  \\\n",
       "2          2  Otheer   6353  8808.0     7684   2405.0              3516   \n",
       "3          2  Otheer   6353  8808.0     7684   2405.0              3516   \n",
       "310        1  Oporto   7034  1492.0     2405  12569.0               299   \n",
       "311        1  Oporto   7034  1492.0     2405  12569.0               299   \n",
       "312        1  Oporto   7034  1492.0     2405  12569.0               299   \n",
       "\n",
       "     Delicatessen  \n",
       "2            7844  \n",
       "3            7844  \n",
       "310          1117  \n",
       "311          1117  \n",
       "312          1117  "
      ]
     },
     "metadata": {},
     "output_type": "display_data"
    }
   ],
   "source": [
    "display(df[df.duplicated(keep=False)])"
   ]
  },
  {
   "cell_type": "code",
   "execution_count": 4,
   "id": "f965352f-d98f-406f-adc7-05a61793b440",
   "metadata": {},
   "outputs": [],
   "source": [
    "df = df.drop_duplicates().reset_index(drop=True)"
   ]
  },
  {
   "cell_type": "markdown",
   "id": "8f43fde2-fc45-4994-ab86-696ec17f7895",
   "metadata": {},
   "source": [
    "#### 2:Region列の表記ゆれを解消し、lisbon, oporto, other（すべて小文字）にそろえる。"
   ]
  },
  {
   "cell_type": "code",
   "execution_count": 12,
   "id": "fd1af5c6-48ad-4e21-b566-3606096cd847",
   "metadata": {},
   "outputs": [
    {
     "data": {
      "text/html": [
       "<div>\n",
       "<style scoped>\n",
       "    .dataframe tbody tr th:only-of-type {\n",
       "        vertical-align: middle;\n",
       "    }\n",
       "\n",
       "    .dataframe tbody tr th {\n",
       "        vertical-align: top;\n",
       "    }\n",
       "\n",
       "    .dataframe thead th {\n",
       "        text-align: right;\n",
       "    }\n",
       "</style>\n",
       "<table border=\"1\" class=\"dataframe\">\n",
       "  <thead>\n",
       "    <tr style=\"text-align: right;\">\n",
       "      <th></th>\n",
       "      <th>Region</th>\n",
       "    </tr>\n",
       "  </thead>\n",
       "  <tbody>\n",
       "    <tr>\n",
       "      <th>0</th>\n",
       "      <td>Other</td>\n",
       "    </tr>\n",
       "    <tr>\n",
       "      <th>1</th>\n",
       "      <td>other</td>\n",
       "    </tr>\n",
       "    <tr>\n",
       "      <th>2</th>\n",
       "      <td>Otheer</td>\n",
       "    </tr>\n",
       "    <tr>\n",
       "      <th>3</th>\n",
       "      <td>Other</td>\n",
       "    </tr>\n",
       "    <tr>\n",
       "      <th>4</th>\n",
       "      <td>Other</td>\n",
       "    </tr>\n",
       "  </tbody>\n",
       "</table>\n",
       "</div>"
      ],
      "text/plain": [
       "   Region\n",
       "0   Other\n",
       "1   other\n",
       "2  Otheer\n",
       "3   Other\n",
       "4   Other"
      ]
     },
     "metadata": {},
     "output_type": "display_data"
    }
   ],
   "source": [
    "display(df.loc[:, \"Region\":\"Region\"].head())"
   ]
  },
  {
   "cell_type": "markdown",
   "id": "82632ebe-ad28-41b7-b316-bfaadff6e660",
   "metadata": {},
   "source": [
    "#### 3: 欠損のあるデータを表示し、欠損地を各列の平均値で埋める"
   ]
  },
  {
   "cell_type": "code",
   "execution_count": null,
   "id": "12cce3de-c2c5-421b-98f7-60c78f335879",
   "metadata": {},
   "outputs": [],
   "source": []
  },
  {
   "cell_type": "markdown",
   "id": "dc4c2a65-34a9-4332-bf13-e40b2a31ca02",
   "metadata": {},
   "source": [
    "#### 4: dfの内容をwholesale_costomers_fill_average.csvという名前で保存。"
   ]
  },
  {
   "cell_type": "code",
   "execution_count": null,
   "id": "19e387c7-ec0f-4c29-9310-abfb36a2dc78",
   "metadata": {},
   "outputs": [],
   "source": []
  }
 ],
 "metadata": {
  "kernelspec": {
   "display_name": "Python 3 (ipykernel)",
   "language": "python",
   "name": "python3"
  },
  "language_info": {
   "codemirror_mode": {
    "name": "ipython",
    "version": 3
   },
   "file_extension": ".py",
   "mimetype": "text/x-python",
   "name": "python",
   "nbconvert_exporter": "python",
   "pygments_lexer": "ipython3",
   "version": "3.9.15"
  }
 },
 "nbformat": 4,
 "nbformat_minor": 5
}
