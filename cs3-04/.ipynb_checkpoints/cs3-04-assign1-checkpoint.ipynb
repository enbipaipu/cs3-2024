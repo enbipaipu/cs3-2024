{
 "cells": [
  {
   "cell_type": "markdown",
   "id": "34e35cb7-845b-4d29-b998-2215ac653cba",
   "metadata": {},
   "source": [
    "#### 必要なライブラリのインポート"
   ]
  },
  {
   "cell_type": "code",
   "execution_count": 1,
   "id": "c9e7f161-aa35-4de7-8bbe-38cedcd78ed9",
   "metadata": {},
   "outputs": [],
   "source": [
    "import pandas as pd\n",
    "import numpy as np"
   ]
  },
  {
   "cell_type": "markdown",
   "id": "69690332-e5c4-40cb-a44d-0aa2acb4e7ee",
   "metadata": {},
   "source": [
    "#### データの読み込みと代入"
   ]
  },
  {
   "cell_type": "code",
   "execution_count": 2,
   "id": "bb4d5703-9db5-40b8-92b4-96015552a60c",
   "metadata": {},
   "outputs": [],
   "source": [
    "df1 = pd.read_csv(\"running.csv\", sep=\",\", header=0)"
   ]
  },
  {
   "cell_type": "markdown",
   "id": "a33a9607-1d2c-4a4c-9243-c61b3cde34c9",
   "metadata": {},
   "source": [
    "#### 3: df1の情報を表示"
   ]
  },
  {
   "cell_type": "code",
   "execution_count": 3,
   "id": "d8451bd9-1ba5-4e7a-acf5-5d0319e0a7a8",
   "metadata": {},
   "outputs": [
    {
     "name": "stdout",
     "output_type": "stream",
     "text": [
      "(47, 4)\n",
      "<class 'pandas.core.frame.DataFrame'>\n",
      "RangeIndex: 47 entries, 0 to 46\n",
      "Data columns (total 4 columns):\n",
      " #   Column  Non-Null Count  Dtype \n",
      "---  ------  --------------  ----- \n",
      " 0   ID      47 non-null     int64 \n",
      " 1   Univ    47 non-null     object\n",
      " 2   Grade   47 non-null     int64 \n",
      " 3   Time    47 non-null     int64 \n",
      "dtypes: int64(3), object(1)\n",
      "memory usage: 1.6+ KB\n",
      "None\n"
     ]
    },
    {
     "data": {
      "text/html": [
       "<div>\n",
       "<style scoped>\n",
       "    .dataframe tbody tr th:only-of-type {\n",
       "        vertical-align: middle;\n",
       "    }\n",
       "\n",
       "    .dataframe tbody tr th {\n",
       "        vertical-align: top;\n",
       "    }\n",
       "\n",
       "    .dataframe thead th {\n",
       "        text-align: right;\n",
       "    }\n",
       "</style>\n",
       "<table border=\"1\" class=\"dataframe\">\n",
       "  <thead>\n",
       "    <tr style=\"text-align: right;\">\n",
       "      <th></th>\n",
       "      <th>ID</th>\n",
       "      <th>Univ</th>\n",
       "      <th>Grade</th>\n",
       "      <th>Time</th>\n",
       "    </tr>\n",
       "  </thead>\n",
       "  <tbody>\n",
       "    <tr>\n",
       "      <th>0</th>\n",
       "      <td>1001</td>\n",
       "      <td>D</td>\n",
       "      <td>3</td>\n",
       "      <td>1870</td>\n",
       "    </tr>\n",
       "    <tr>\n",
       "      <th>1</th>\n",
       "      <td>1004</td>\n",
       "      <td>C</td>\n",
       "      <td>1</td>\n",
       "      <td>1957</td>\n",
       "    </tr>\n",
       "    <tr>\n",
       "      <th>2</th>\n",
       "      <td>1006</td>\n",
       "      <td>D</td>\n",
       "      <td>2</td>\n",
       "      <td>2063</td>\n",
       "    </tr>\n",
       "    <tr>\n",
       "      <th>3</th>\n",
       "      <td>1007</td>\n",
       "      <td>D</td>\n",
       "      <td>3</td>\n",
       "      <td>1839</td>\n",
       "    </tr>\n",
       "    <tr>\n",
       "      <th>4</th>\n",
       "      <td>1008</td>\n",
       "      <td>C</td>\n",
       "      <td>2</td>\n",
       "      <td>1740</td>\n",
       "    </tr>\n",
       "  </tbody>\n",
       "</table>\n",
       "</div>"
      ],
      "text/plain": [
       "     ID Univ  Grade  Time\n",
       "0  1001    D      3  1870\n",
       "1  1004    C      1  1957\n",
       "2  1006    D      2  2063\n",
       "3  1007    D      3  1839\n",
       "4  1008    C      2  1740"
      ]
     },
     "metadata": {},
     "output_type": "display_data"
    }
   ],
   "source": [
    "print(df1.shape)\n",
    "print(df1.info())\n",
    "display(df1.head())"
   ]
  },
  {
   "cell_type": "markdown",
   "id": "37d4b16a-3d7b-4d4d-b776-1005f3d8da36",
   "metadata": {},
   "source": [
    "#### 4: df1のuniv列の値ごとのデータ数"
   ]
  },
  {
   "cell_type": "code",
   "execution_count": 4,
   "id": "9927c50d-8312-4b5a-add8-76442c99cbbb",
   "metadata": {},
   "outputs": [
    {
     "data": {
      "text/plain": [
       "Univ\n",
       "A    16\n",
       "D    15\n",
       "C     8\n",
       "B     8\n",
       "Name: count, dtype: int64"
      ]
     },
     "metadata": {},
     "output_type": "display_data"
    }
   ],
   "source": [
    "display(df1[\"Univ\"].value_counts())"
   ]
  },
  {
   "cell_type": "markdown",
   "id": "e9551e0f-7536-41a7-8d58-555768ba7ca0",
   "metadata": {},
   "source": [
    "#### 5: df1をtime列の降順にソートしたものをdf2に代入"
   ]
  },
  {
   "cell_type": "code",
   "execution_count": 5,
   "id": "07c52689-a929-46f1-8b9f-47e627d053e2",
   "metadata": {},
   "outputs": [
    {
     "data": {
      "text/html": [
       "<div>\n",
       "<style scoped>\n",
       "    .dataframe tbody tr th:only-of-type {\n",
       "        vertical-align: middle;\n",
       "    }\n",
       "\n",
       "    .dataframe tbody tr th {\n",
       "        vertical-align: top;\n",
       "    }\n",
       "\n",
       "    .dataframe thead th {\n",
       "        text-align: right;\n",
       "    }\n",
       "</style>\n",
       "<table border=\"1\" class=\"dataframe\">\n",
       "  <thead>\n",
       "    <tr style=\"text-align: right;\">\n",
       "      <th></th>\n",
       "      <th>ID</th>\n",
       "      <th>Univ</th>\n",
       "      <th>Grade</th>\n",
       "      <th>Time</th>\n",
       "    </tr>\n",
       "  </thead>\n",
       "  <tbody>\n",
       "    <tr>\n",
       "      <th>11</th>\n",
       "      <td>1015</td>\n",
       "      <td>A</td>\n",
       "      <td>2</td>\n",
       "      <td>2123</td>\n",
       "    </tr>\n",
       "    <tr>\n",
       "      <th>5</th>\n",
       "      <td>1009</td>\n",
       "      <td>B</td>\n",
       "      <td>3</td>\n",
       "      <td>2082</td>\n",
       "    </tr>\n",
       "    <tr>\n",
       "      <th>2</th>\n",
       "      <td>1006</td>\n",
       "      <td>D</td>\n",
       "      <td>2</td>\n",
       "      <td>2063</td>\n",
       "    </tr>\n",
       "    <tr>\n",
       "      <th>17</th>\n",
       "      <td>1021</td>\n",
       "      <td>B</td>\n",
       "      <td>3</td>\n",
       "      <td>2052</td>\n",
       "    </tr>\n",
       "    <tr>\n",
       "      <th>6</th>\n",
       "      <td>1010</td>\n",
       "      <td>C</td>\n",
       "      <td>4</td>\n",
       "      <td>2045</td>\n",
       "    </tr>\n",
       "  </tbody>\n",
       "</table>\n",
       "</div>"
      ],
      "text/plain": [
       "      ID Univ  Grade  Time\n",
       "11  1015    A      2  2123\n",
       "5   1009    B      3  2082\n",
       "2   1006    D      2  2063\n",
       "17  1021    B      3  2052\n",
       "6   1010    C      4  2045"
      ]
     },
     "metadata": {},
     "output_type": "display_data"
    }
   ],
   "source": [
    "df2 = df1.sort_values(by=\"Time\", ascending=False)\n",
    "display(df2.head())"
   ]
  },
  {
   "cell_type": "markdown",
   "id": "4a3a2d8d-d87c-42e3-80fa-af0c4d88ce13",
   "metadata": {},
   "source": [
    "#### 6: df2のtime列の値を60で割って単位を分にしたものをMinTime列として追加"
   ]
  },
  {
   "cell_type": "code",
   "execution_count": 6,
   "id": "f53d2f84-561d-4d23-8a84-cd5e4bc58f8b",
   "metadata": {},
   "outputs": [
    {
     "data": {
      "text/html": [
       "<div>\n",
       "<style scoped>\n",
       "    .dataframe tbody tr th:only-of-type {\n",
       "        vertical-align: middle;\n",
       "    }\n",
       "\n",
       "    .dataframe tbody tr th {\n",
       "        vertical-align: top;\n",
       "    }\n",
       "\n",
       "    .dataframe thead th {\n",
       "        text-align: right;\n",
       "    }\n",
       "</style>\n",
       "<table border=\"1\" class=\"dataframe\">\n",
       "  <thead>\n",
       "    <tr style=\"text-align: right;\">\n",
       "      <th></th>\n",
       "      <th>ID</th>\n",
       "      <th>Univ</th>\n",
       "      <th>Grade</th>\n",
       "      <th>Time</th>\n",
       "      <th>MinTIme</th>\n",
       "    </tr>\n",
       "  </thead>\n",
       "  <tbody>\n",
       "    <tr>\n",
       "      <th>11</th>\n",
       "      <td>1015</td>\n",
       "      <td>A</td>\n",
       "      <td>2</td>\n",
       "      <td>2123</td>\n",
       "      <td>35.383333</td>\n",
       "    </tr>\n",
       "    <tr>\n",
       "      <th>5</th>\n",
       "      <td>1009</td>\n",
       "      <td>B</td>\n",
       "      <td>3</td>\n",
       "      <td>2082</td>\n",
       "      <td>34.700000</td>\n",
       "    </tr>\n",
       "    <tr>\n",
       "      <th>2</th>\n",
       "      <td>1006</td>\n",
       "      <td>D</td>\n",
       "      <td>2</td>\n",
       "      <td>2063</td>\n",
       "      <td>34.383333</td>\n",
       "    </tr>\n",
       "    <tr>\n",
       "      <th>17</th>\n",
       "      <td>1021</td>\n",
       "      <td>B</td>\n",
       "      <td>3</td>\n",
       "      <td>2052</td>\n",
       "      <td>34.200000</td>\n",
       "    </tr>\n",
       "    <tr>\n",
       "      <th>6</th>\n",
       "      <td>1010</td>\n",
       "      <td>C</td>\n",
       "      <td>4</td>\n",
       "      <td>2045</td>\n",
       "      <td>34.083333</td>\n",
       "    </tr>\n",
       "  </tbody>\n",
       "</table>\n",
       "</div>"
      ],
      "text/plain": [
       "      ID Univ  Grade  Time    MinTIme\n",
       "11  1015    A      2  2123  35.383333\n",
       "5   1009    B      3  2082  34.700000\n",
       "2   1006    D      2  2063  34.383333\n",
       "17  1021    B      3  2052  34.200000\n",
       "6   1010    C      4  2045  34.083333"
      ]
     },
     "metadata": {},
     "output_type": "display_data"
    }
   ],
   "source": [
    "df2[\"MinTIme\"] = df2[\"Time\"] / 60\n",
    "display(df2.head())"
   ]
  },
  {
   "cell_type": "markdown",
   "id": "e87337aa-e120-4b49-bce2-5793a3772b28",
   "metadata": {},
   "source": [
    "#### 7: df2からuniv列を削除したものをdf3へ"
   ]
  },
  {
   "cell_type": "code",
   "execution_count": 7,
   "id": "2e08a717-494b-47bc-aff7-4a90fd244496",
   "metadata": {},
   "outputs": [
    {
     "data": {
      "text/html": [
       "<div>\n",
       "<style scoped>\n",
       "    .dataframe tbody tr th:only-of-type {\n",
       "        vertical-align: middle;\n",
       "    }\n",
       "\n",
       "    .dataframe tbody tr th {\n",
       "        vertical-align: top;\n",
       "    }\n",
       "\n",
       "    .dataframe thead th {\n",
       "        text-align: right;\n",
       "    }\n",
       "</style>\n",
       "<table border=\"1\" class=\"dataframe\">\n",
       "  <thead>\n",
       "    <tr style=\"text-align: right;\">\n",
       "      <th></th>\n",
       "      <th>ID</th>\n",
       "      <th>Grade</th>\n",
       "      <th>Time</th>\n",
       "      <th>MinTIme</th>\n",
       "    </tr>\n",
       "  </thead>\n",
       "  <tbody>\n",
       "    <tr>\n",
       "      <th>11</th>\n",
       "      <td>1015</td>\n",
       "      <td>2</td>\n",
       "      <td>2123</td>\n",
       "      <td>35.383333</td>\n",
       "    </tr>\n",
       "    <tr>\n",
       "      <th>5</th>\n",
       "      <td>1009</td>\n",
       "      <td>3</td>\n",
       "      <td>2082</td>\n",
       "      <td>34.700000</td>\n",
       "    </tr>\n",
       "    <tr>\n",
       "      <th>2</th>\n",
       "      <td>1006</td>\n",
       "      <td>2</td>\n",
       "      <td>2063</td>\n",
       "      <td>34.383333</td>\n",
       "    </tr>\n",
       "    <tr>\n",
       "      <th>17</th>\n",
       "      <td>1021</td>\n",
       "      <td>3</td>\n",
       "      <td>2052</td>\n",
       "      <td>34.200000</td>\n",
       "    </tr>\n",
       "    <tr>\n",
       "      <th>6</th>\n",
       "      <td>1010</td>\n",
       "      <td>4</td>\n",
       "      <td>2045</td>\n",
       "      <td>34.083333</td>\n",
       "    </tr>\n",
       "  </tbody>\n",
       "</table>\n",
       "</div>"
      ],
      "text/plain": [
       "      ID  Grade  Time    MinTIme\n",
       "11  1015      2  2123  35.383333\n",
       "5   1009      3  2082  34.700000\n",
       "2   1006      2  2063  34.383333\n",
       "17  1021      3  2052  34.200000\n",
       "6   1010      4  2045  34.083333"
      ]
     },
     "metadata": {},
     "output_type": "display_data"
    }
   ],
   "source": [
    "df3 = df2.drop(columns=\"Univ\")\n",
    "display(df3.head())"
   ]
  },
  {
   "cell_type": "code",
   "execution_count": null,
   "id": "29428dac-958f-4495-9bf0-909ebb366cab",
   "metadata": {},
   "outputs": [],
   "source": []
  }
 ],
 "metadata": {
  "kernelspec": {
   "display_name": "Python 3 (ipykernel)",
   "language": "python",
   "name": "python3"
  },
  "language_info": {
   "codemirror_mode": {
    "name": "ipython",
    "version": 3
   },
   "file_extension": ".py",
   "mimetype": "text/x-python",
   "name": "python",
   "nbconvert_exporter": "python",
   "pygments_lexer": "ipython3",
   "version": "3.9.15"
  }
 },
 "nbformat": 4,
 "nbformat_minor": 5
}
