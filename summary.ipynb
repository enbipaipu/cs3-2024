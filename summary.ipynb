{
 "cells": [
  {
   "cell_type": "code",
   "execution_count": 2,
   "id": "1a8ce1e9-fab2-4c7e-8ae2-0c18eff1fcd0",
   "metadata": {},
   "outputs": [],
   "source": [
    "import numpy as np\n",
    "import pandas as pd"
   ]
  },
  {
   "cell_type": "markdown",
   "id": "50bf3dd0-7712-43cd-81f9-ab67d7ec1bed",
   "metadata": {},
   "source": [
    "#### ndarrayの作り方とlistとの違い"
   ]
  },
  {
   "cell_type": "code",
   "execution_count": 5,
   "id": "4c3f4c4a-c14a-4d95-9f49-e181e04ad548",
   "metadata": {},
   "outputs": [
    {
     "name": "stdout",
     "output_type": "stream",
     "text": [
      "[0, 1, 2, 0, 1, 2]\n",
      "[0 2 4]\n"
     ]
    }
   ],
   "source": [
    "lst = [0, 1, 2]\n",
    "nd = np.array(lst)\n",
    "print(lst * 2)\n",
    "print(nd*2)"
   ]
  },
  {
   "cell_type": "markdown",
   "id": "e5d9f50d-b79b-4902-9d34-fe2aa76eee2e",
   "metadata": {},
   "source": [
    "#### listとndaarrayの演算の違い"
   ]
  },
  {
   "cell_type": "code",
   "execution_count": null,
   "id": "f93d53ad-ebee-463b-a3b0-9e8d6684ae9f",
   "metadata": {},
   "outputs": [],
   "source": []
  }
 ],
 "metadata": {
  "kernelspec": {
   "display_name": "Python 3 (ipykernel)",
   "language": "python",
   "name": "python3"
  },
  "language_info": {
   "codemirror_mode": {
    "name": "ipython",
    "version": 3
   },
   "file_extension": ".py",
   "mimetype": "text/x-python",
   "name": "python",
   "nbconvert_exporter": "python",
   "pygments_lexer": "ipython3",
   "version": "3.9.15"
  }
 },
 "nbformat": 4,
 "nbformat_minor": 5
}
