{
 "cells": [
  {
   "cell_type": "code",
   "execution_count": 8,
   "id": "ba783b9e-a5f2-445e-9814-678a797850cf",
   "metadata": {},
   "outputs": [],
   "source": [
    "class Student:\n",
    "  def __init__(self, name):\n",
    "      self.name = name\n",
    "\n",
    "  def greeting(self):\n",
    "      print(\"Hi, my name is \" + self.name)"
   ]
  },
  {
   "cell_type": "code",
   "execution_count": 9,
   "id": "9377ddda-e1ed-4a0e-97e0-402ef51bc720",
   "metadata": {},
   "outputs": [
    {
     "name": "stdout",
     "output_type": "stream",
     "text": [
      "Hi, my name is Taro\n"
     ]
    }
   ],
   "source": [
    "s1 = Student(\"Taro\")\n",
    "\n",
    "s1.greeting()\n",
    "\n"
   ]
  },
  {
   "cell_type": "code",
   "execution_count": null,
   "id": "c14ecfd2-c3b5-4d09-b551-54909eac8416",
   "metadata": {},
   "outputs": [],
   "source": []
  }
 ],
 "metadata": {
  "kernelspec": {
   "display_name": "Python 3 (ipykernel)",
   "language": "python",
   "name": "python3"
  },
  "language_info": {
   "codemirror_mode": {
    "name": "ipython",
    "version": 3
   },
   "file_extension": ".py",
   "mimetype": "text/x-python",
   "name": "python",
   "nbconvert_exporter": "python",
   "pygments_lexer": "ipython3",
   "version": "3.9.15"
  }
 },
 "nbformat": 4,
 "nbformat_minor": 5
}
