{
 "cells": [
  {
   "cell_type": "code",
   "execution_count": 1,
   "id": "5a2470ff-df8c-4e0d-a371-c06243e534fa",
   "metadata": {},
   "outputs": [],
   "source": [
    "import random\n",
    "import pandas as pd"
   ]
  },
  {
   "cell_type": "markdown",
   "id": "1342dbae-ed5a-4d69-9f3f-656c75bf5e08",
   "metadata": {},
   "source": [
    "グー：0\n",
    "チョキ：1\n",
    "ぱー：2\n",
    "\n",
    "winner -> 0:あいこ　1:player1 2:player2"
   ]
  },
  {
   "cell_type": "code",
   "execution_count": 2,
   "id": "46cc2982-61bd-4f25-939e-086a57a466e6",
   "metadata": {},
   "outputs": [],
   "source": [
    "def judge(player1, player2):\n",
    "    winner = 0\n",
    "    if player1 == 2 and player2 == 0 or player1 < player2:\n",
    "        winner = 1\n",
    "    elif player1 == player2:\n",
    "        winner = 0\n",
    "    else:\n",
    "        winner = 2\n",
    "    return winner"
   ]
  },
  {
   "cell_type": "code",
   "execution_count": 4,
   "id": "09cb86fc-2331-4ead-94bb-68d8e5a5014c",
   "metadata": {},
   "outputs": [
    {
     "data": {
      "text/html": [
       "<div>\n",
       "<style scoped>\n",
       "    .dataframe tbody tr th:only-of-type {\n",
       "        vertical-align: middle;\n",
       "    }\n",
       "\n",
       "    .dataframe tbody tr th {\n",
       "        vertical-align: top;\n",
       "    }\n",
       "\n",
       "    .dataframe thead th {\n",
       "        text-align: right;\n",
       "    }\n",
       "</style>\n",
       "<table border=\"1\" class=\"dataframe\">\n",
       "  <thead>\n",
       "    <tr style=\"text-align: right;\">\n",
       "      <th></th>\n",
       "      <th>p1_G</th>\n",
       "      <th>p1_Tyo</th>\n",
       "      <th>p1_P</th>\n",
       "    </tr>\n",
       "  </thead>\n",
       "  <tbody>\n",
       "    <tr>\n",
       "      <th>p2_G</th>\n",
       "      <td>109</td>\n",
       "      <td>101</td>\n",
       "      <td>112</td>\n",
       "    </tr>\n",
       "    <tr>\n",
       "      <th>p2_Tyo</th>\n",
       "      <td>97</td>\n",
       "      <td>124</td>\n",
       "      <td>107</td>\n",
       "    </tr>\n",
       "    <tr>\n",
       "      <th>p2_P</th>\n",
       "      <td>119</td>\n",
       "      <td>112</td>\n",
       "      <td>119</td>\n",
       "    </tr>\n",
       "  </tbody>\n",
       "</table>\n",
       "</div>"
      ],
      "text/plain": [
       "        p1_G  p1_Tyo  p1_P\n",
       "p2_G     109     101   112\n",
       "p2_Tyo    97     124   107\n",
       "p2_P     119     112   119"
      ]
     },
     "metadata": {},
     "output_type": "display_data"
    },
    {
     "name": "stdout",
     "output_type": "stream",
     "text": [
      "p1_G      119\n",
      "p1_Tyo    124\n",
      "p1_P      119\n",
      "dtype: int64\n"
     ]
    }
   ],
   "source": [
    "for _ in range(1):\n",
    "    df = pd.DataFrame([[0, 0, 0],[0, 0, 0],[0, 0, 0]], columns = ['p1_G','p1_Tyo','p1_P'], index = ['p2_G','p2_Tyo','p2_P'])\n",
    "    for _ in range(1000):\n",
    "        player1 = random.randrange(3)\n",
    "        player2 = random.randrange(3)\n",
    "        df.iat[player2, player1] += 1\n",
    "    display(df)\n",
    "    print(df.max())"
   ]
  }
 ],
 "metadata": {
  "kernelspec": {
   "display_name": "Python 3 (ipykernel)",
   "language": "python",
   "name": "python3"
  },
  "language_info": {
   "codemirror_mode": {
    "name": "ipython",
    "version": 3
   },
   "file_extension": ".py",
   "mimetype": "text/x-python",
   "name": "python",
   "nbconvert_exporter": "python",
   "pygments_lexer": "ipython3",
   "version": "3.9.15"
  }
 },
 "nbformat": 4,
 "nbformat_minor": 5
}
