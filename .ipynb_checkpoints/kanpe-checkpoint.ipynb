{
 "cells": [
  {
   "cell_type": "code",
   "execution_count": 2,
   "id": "ecd7007a-37ec-4856-a8d7-391558e1d316",
   "metadata": {},
   "outputs": [],
   "source": [
    "import scipy.stats as ss"
   ]
  },
  {
   "cell_type": "markdown",
   "id": "abefe379-cb13-44e2-aa66-7e632aa90550",
   "metadata": {},
   "source": [
    "### 離散型確率分布"
   ]
  },
  {
   "cell_type": "markdown",
   "id": "49b57854-4e74-475f-88b3-09ba7edfb02b",
   "metadata": {},
   "source": [
    "#### 共通のメソッド\n",
    "- rvs / 乱数を返す\n",
    "- pmf / 確率質量関数の値を返す\n",
    "- cdf / 累積確率の値を返す\n",
    "- stats / 統計量を返す"
   ]
  },
  {
   "cell_type": "markdown",
   "id": "b020d366-0b88-46cf-bcc5-b08160a50e3a",
   "metadata": {},
   "source": [
    "#### 離散一様分布\n",
    "確率変数 x が　{low, low+1, ..., high-1} である場合に、すべての事象の起こる確率が等しい分布"
   ]
  },
  {
   "cell_type": "code",
   "execution_count": null,
   "id": "6e1a762a-1f9c-4ae6-91d5-55f262c6eb6a",
   "metadata": {},
   "outputs": [],
   "source": [
    "# サイコロの目の出る確率を考える\n",
    "# 4の目が出る確率は\n",
    "ss.randint.pmf(k=4, low=1, high=7)\n",
    "\n",
    "# 4 \"以下\" の目が出る確率を求める\n",
    "ss.randint.cdf(k=4, low=1, high=7)\n",
    "\n",
    "# 一様分布の統計量(平均 m, 分散 v, 尖度 s, 歪度 k)\n",
    "# を求める\n",
    "ss.randint.stats(low=1, high=7, moments=\"mvsk\")\n",
    "\n",
    "# 一様分布の乱数を 100 個生成する\n",
    "ss.randint.rvs(low=1, high=7, size=100)"
   ]
  },
  {
   "cell_type": "markdown",
   "id": "4d599c6e-61a3-4414-ad96-0cf0df147bab",
   "metadata": {},
   "source": [
    "#### 超幾何分布\n",
    "二種類 A, B からなる M 個のものがあり、個数の構成をそれぞれ n, M-n とする。\n",
    "この集団から N 個取り出したときに A が x 個, B が N - x 個である確率"
   ]
  },
  {
   "cell_type": "code",
   "execution_count": 5,
   "id": "df083c76-1d16-4e58-884c-c42e945479e6",
   "metadata": {},
   "outputs": [],
   "source": [
    "# 計 100 枚のくじがあり、そのうち 20 枚があたり\n",
    "# 10 回くじを引いてあたりが 4 枚 出たときの確率は？\n",
    "ss.hypergeom.pmf(k=4, M=100, n=20, N=10)\n",
    "\n",
    "# 10 回くじを引いてあたりが 4 枚以下である確率は？\n",
    "ss.hypergeom.cdf(k=4, M=100, n=20, N=10)\n",
    "\n",
    "# 超幾何分布の統計量 (平均 m, 分散 v) を求める\n",
    "ss.hypergeom.stats(M=100, n=20, N=10, moments=\"mv\")\n",
    "\n",
    "# 超幾何分布の乱数を 100 個生成\n",
    "ss.hypergeom.rvs(M=100, n=20, N=10, size=100)"
   ]
  },
  {
   "cell_type": "markdown",
   "id": "c83c5909-2436-458a-8f7a-f3402460165a",
   "metadata": {},
   "source": [
    "#### 二項分布\n",
    "1回の試行あたり2つの結果(仮に成功S, 失敗Fとする)だけが起こる実験において、\n",
    "それぞれの確率を p, 1-p とする。\n",
    "このとき、 n 回の試行で起こった S の回数を x とする"
   ]
  },
  {
   "cell_type": "code",
   "execution_count": 13,
   "id": "4025e42f-e17a-4ddf-a790-6df9875267a8",
   "metadata": {},
   "outputs": [],
   "source": [
    "# ある野球選手の打率を 0.275 であるとする。\n",
    "# この選手が 10 打席中 4 打席ヒットを打つ確率を求める\n",
    "ss.binom.pmf(k=4, n=10, p=0.275)\n",
    "\n",
    "# 10 打席中 3 打席以上ヒットを打つ確率を求める\n",
    "# (1 から　2打席以下の累積確率を引く)\n",
    "1 - ss.binom.cdf(k=2, n=10, p=0.275)\n",
    "\n",
    "# 二項分布の統計量(平均 m) を求める\n",
    "ss.binom.stats(n=10, p=0.2, moments=\"m\")\n",
    "\n",
    "# 二項分布の乱数を 100 個生成する\n",
    "ss.binom.rvs(n=10, p=0.2, size=100)"
   ]
  },
  {
   "cell_type": "markdown",
   "id": "58eab66c-04ce-40e4-8f3a-37bda1c08282",
   "metadata": {},
   "source": [
    "#### ポアソン分布\n",
    "二項分布において、n が大である一方で、p が小である場合の確率分布\n",
    "ただし、np = 一定 である"
   ]
  },
  {
   "cell_type": "code",
   "execution_count": 15,
   "id": "62debe8b-db68-47a8-819f-0453c0a9432c",
   "metadata": {},
   "outputs": [],
   "source": [
    "# あるメールアドレスには、一日に平均 5 通メールが届く。\n",
    "# 一日にメールが 8 通届く確率\n",
    "ss.poisson.pmf(k=8, mu=5)\n",
    "\n",
    "# 一日にメールが 10 通以上届く確率\n",
    "1 - ss.poisson.cdf(k=9, mu=5)\n",
    "\n",
    "# ポアソン分布の統計量(分散 v) を求める\n",
    "ss.poisson.stats(mu=2, moments=\"v\")\n",
    "\n",
    "# ポアソン分布の乱数を 100 個生成する\n",
    "ss.poisson.rvs(mu=2, size=100)"
   ]
  },
  {
   "cell_type": "markdown",
   "id": "3e206fdb-6194-4847-ac76-57129407d634",
   "metadata": {},
   "source": [
    "### 連続型確率変数"
   ]
  },
  {
   "cell_type": "markdown",
   "id": "1233d744-d5b7-44d5-89f0-2c48245aaf18",
   "metadata": {},
   "source": [
    "#### 共通のメソッド\n",
    "- rvs / 乱数を返す\n",
    "- pdf / 確率密度関数の値を返す\n",
    "- cdf / 累積確率の値を返す\n",
    "- stats / 統計量を返す\n",
    "- ppf / 指定した下側確率 x におけるパーセント点の確率変数を返す\n",
    "\n",
    "##### < パーセント点 >\n",
    "- 右側の面積が x / 100 である点のことを 上側 x パーセント点\n",
    "- 左側の面積が x / 100 である点のことを 下側 x パーセント点\n",
    "- 右側と左側を合わせて全体の x / 100 である点のことを 両側 x パーセント点"
   ]
  },
  {
   "cell_type": "markdown",
   "id": "0cf7161c-90eb-4702-adad-a6fb6c1e84d4",
   "metadata": {},
   "source": [
    "#### 正規分布\n",
    "ガウス分布とも呼ばれる、よく使われる確率分布"
   ]
  },
  {
   "cell_type": "code",
   "execution_count": 18,
   "id": "b89e553a-3169-4140-a5fb-9d40446fec05",
   "metadata": {},
   "outputs": [],
   "source": [
    "# 平均2, 標準偏差1 の正規分布の確率変数 x = 4 における\n",
    "# 確率密度関数を求める\n",
    "ss.norm.pdf(x=4, loc=2, scale=1)\n",
    "\n",
    "# 標準正規分布(avg=0, σ^2=1)の\n",
    "# 確率変数 x = 4 における累積確率を求める\n",
    "ss.norm.cdf(x=4)\n",
    "\n",
    "# 平均 1.5, 標準偏差 2 の正規分布の統計量(平均 m, 分散 v)\n",
    "# を求める\n",
    "ss.norm.stats(loc=1.5, scale=2, moments=\"mv\")\n",
    "\n",
    "# 平均 1, 標準偏差 2 の正規分布の乱数を 100 個生成する\n",
    "ss.norm.rvs(loc=1, scale=2, size=100)\n",
    "\n",
    "# 平均 0, 標準偏差 0.2 の正規分布の下側90パーセント点を求める\n",
    "ss.norm.ppf(q=0.9, loc=0, scale=0.2)"
   ]
  },
  {
   "cell_type": "markdown",
   "id": "0898b64b-7ee0-4fc5-a9b8-fc1c147e5c57",
   "metadata": {},
   "source": [
    "#### 指数分布\n",
    "単位時間中にある事象が発生する平均回数を λ とするとき、\n",
    "その事象の発生間隔"
   ]
  },
  {
   "cell_type": "code",
   "execution_count": 24,
   "id": "e0607c34-36f7-4de5-984d-ad052b787c55",
   "metadata": {},
   "outputs": [],
   "source": [
    "# λ = 5 の時の指数分布の\n",
    "# 確率変数 x = 4 における確率密度関数\n",
    "ss.expon.pdf(x=4, scale=0.2)\n",
    "\n",
    "# λ = 5 の時の指数分布の\n",
    "# 確率変数 x = 4 における累積確率\n",
    "ss.expon.cdf(x=4, scale=0.2)\n",
    "\n",
    "# λ = 5 の時の指数分布の\n",
    "# 確率変数の統計量(平均 m) を求める\n",
    "ss.expon.stats(scale=0.2, moments=\"m\")\n",
    "\n",
    "# λ = 3 の時の指数分布に従う乱数を 100 個生成する\n",
    "ss.expon.rvs(scale=1/3, size=100)\n",
    "\n",
    "# λ = 3 の時の指数分布の\n",
    "# 下側 90 パーセント点を求める\n",
    "ss.expon.ppf(q=0.9, scale=1/3)"
   ]
  },
  {
   "cell_type": "markdown",
   "id": "c0e6c740-c1c5-4d65-8145-a126d15639ef",
   "metadata": {},
   "source": [
    "#### 固定化 (発展)\n",
    "パラメータを変数に保存できる"
   ]
  },
  {
   "cell_type": "code",
   "execution_count": null,
   "id": "494c396f-b966-4a91-94ed-11b4754baa8f",
   "metadata": {},
   "outputs": [],
   "source": [
    "# このような使い方ができる\n",
    "gauss = ss.norm(loc=3, scale=0.7)\n",
    "gauss.cdf(x=2)\n",
    "gauss.rvs(size=10)"
   ]
  },
  {
   "cell_type": "markdown",
   "id": "11a7d05d-e2ec-4dc4-acff-e2f68accbd9c",
   "metadata": {},
   "source": [
    "### NumPy を用いた乱数生成"
   ]
  },
  {
   "cell_type": "code",
   "execution_count": 25,
   "id": "139e3002-51b2-484f-827e-b413335479bc",
   "metadata": {},
   "outputs": [],
   "source": [
    "import numpy as np"
   ]
  },
  {
   "cell_type": "markdown",
   "id": "1231f287-6231-4618-8aa2-48d246df2e09",
   "metadata": {},
   "source": [
    "#### 離散型確率分布\n",
    "##### 離散一様分布 (randint)\n",
    "- np.random.randint(low=a, high=b, size=n)\n",
    "- low = a, high = b の時の離散一様分布の乱数を n 個生成\n",
    "\n",
    "##### 超幾何分布 (hypergeometric)\n",
    "- np.random.hypergeometric(ngood=a, nbad=b, nsample=c, size=n)\n",
    "- 当たりの数 a, 外れの数 b の中から c 個取り出すときの\n",
    "- 超幾何分布の乱数を n 個生成\n",
    "\n",
    "##### 二項分布 (binomial)\n",
    "- np.random.binomial(n=a, p=b, size=n)\n",
    "- 試行回数 a, 確率 b の時の二項分布の乱数を n 個生成\n",
    "\n",
    "##### ポアソン分布 (poisson)\n",
    "- np.random.poisson(lam=a, size=n)\n",
    "- 期待値が a の時のポアソン分布の乱数を n 個生成\n",
    "\n",
    "#### 連続型確率分布\n",
    "##### 標準正規分布 (randn)\n",
    "- np.random.randn(n)\n",
    "- 標準正規分布に従う乱数を n 個生成\n",
    "\n",
    "##### 正規分布 (normal)\n",
    "- np.random.normal(loc=a, scale=b, size=n)\n",
    "- 平均 a 標準偏差 b の正規分布に従う乱数を n 個生成\n",
    "\n",
    "##### 指数分布 (exponential)\n",
    "- np.random.exponential(scale=1/a, size=n)\n",
    "- 平均 a の指数分布に従う乱数を n 個生成\n",
    "\n",
    "##### 連続一様分布 (rand)\n",
    "- np.random.rand(n)\n",
    "- 0 以上 1 未満の連続一様分布に従う乱数を n 個生成"
   ]
  }
 ],
 "metadata": {
  "kernelspec": {
   "display_name": "Python 3 (ipykernel)",
   "language": "python",
   "name": "python3"
  },
  "language_info": {
   "codemirror_mode": {
    "name": "ipython",
    "version": 3
   },
   "file_extension": ".py",
   "mimetype": "text/x-python",
   "name": "python",
   "nbconvert_exporter": "python",
   "pygments_lexer": "ipython3",
   "version": "3.9.15"
  }
 },
 "nbformat": 4,
 "nbformat_minor": 5
}
