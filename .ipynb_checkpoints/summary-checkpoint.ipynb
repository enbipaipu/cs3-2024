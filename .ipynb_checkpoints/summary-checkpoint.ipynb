{
 "cells": [
  {
   "cell_type": "markdown",
   "id": "5514e632-5171-457d-a1c6-7b0308b4e7b5",
   "metadata": {},
   "source": [
    "### numpyのチートシート"
   ]
  },
  {
   "cell_type": "markdown",
   "id": "24b7f896-7368-4f0c-aed5-58ba26e5a5a0",
   "metadata": {},
   "source": [
    "np.array"
   ]
  },
  {
   "cell_type": "code",
   "execution_count": null,
   "id": "1a8ce1e9-fab2-4c7e-8ae2-0c18eff1fcd0",
   "metadata": {},
   "outputs": [],
   "source": []
  }
 ],
 "metadata": {
  "kernelspec": {
   "display_name": "Python 3 (ipykernel)",
   "language": "python",
   "name": "python3"
  },
  "language_info": {
   "codemirror_mode": {
    "name": "ipython",
    "version": 3
   },
   "file_extension": ".py",
   "mimetype": "text/x-python",
   "name": "python",
   "nbconvert_exporter": "python",
   "pygments_lexer": "ipython3",
   "version": "3.9.15"
  }
 },
 "nbformat": 4,
 "nbformat_minor": 5
}
