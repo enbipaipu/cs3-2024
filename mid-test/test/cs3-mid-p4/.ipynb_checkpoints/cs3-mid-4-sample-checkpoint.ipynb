{
 "cells": [
  {
   "cell_type": "code",
   "execution_count": 1,
   "id": "961ab2bf-115e-46fa-a1cc-026a19eec256",
   "metadata": {},
   "outputs": [],
   "source": [
    "# To avoid the warning about the memory leak of KMeans (Win MKL version)  \n",
    "import os\n",
    "os.environ['OMP_NUM_THREADS'] = '1'\n",
    "\n",
    "import numpy as np\n",
    "import pandas as pd\n",
    "import matplotlib.pyplot as plt\n",
    "from sklearn.cluster import KMeans\n",
    "from sklearn.preprocessing import scale"
   ]
  },
  {
   "cell_type": "code",
   "execution_count": 2,
   "id": "f88ec522-2f68-4030-a1fd-8b7834f16a38",
   "metadata": {},
   "outputs": [],
   "source": [
    "# To show all rows/columns\n",
    "pd.options.display.max_columns = 999\n",
    "pd.options.display.max_rows = 999"
   ]
  },
  {
   "cell_type": "code",
   "execution_count": 3,
   "id": "736e1fa8-db8b-4db6-9f11-6e1bc7576766",
   "metadata": {},
   "outputs": [
    {
     "data": {
      "text/html": [
       "<div>\n",
       "<style scoped>\n",
       "    .dataframe tbody tr th:only-of-type {\n",
       "        vertical-align: middle;\n",
       "    }\n",
       "\n",
       "    .dataframe tbody tr th {\n",
       "        vertical-align: top;\n",
       "    }\n",
       "\n",
       "    .dataframe thead th {\n",
       "        text-align: right;\n",
       "    }\n",
       "</style>\n",
       "<table border=\"1\" class=\"dataframe\">\n",
       "  <thead>\n",
       "    <tr style=\"text-align: right;\">\n",
       "      <th></th>\n",
       "      <th>driver_id</th>\n",
       "      <th>avg_dist_day</th>\n",
       "      <th>avg_over_speed</th>\n",
       "    </tr>\n",
       "  </thead>\n",
       "  <tbody>\n",
       "    <tr>\n",
       "      <th>0</th>\n",
       "      <td>3423311935</td>\n",
       "      <td>71.24</td>\n",
       "      <td>28</td>\n",
       "    </tr>\n",
       "    <tr>\n",
       "      <th>1</th>\n",
       "      <td>3423313212</td>\n",
       "      <td>52.53</td>\n",
       "      <td>25</td>\n",
       "    </tr>\n",
       "    <tr>\n",
       "      <th>2</th>\n",
       "      <td>3423313724</td>\n",
       "      <td>64.54</td>\n",
       "      <td>27</td>\n",
       "    </tr>\n",
       "    <tr>\n",
       "      <th>3</th>\n",
       "      <td>3423311373</td>\n",
       "      <td>55.69</td>\n",
       "      <td>22</td>\n",
       "    </tr>\n",
       "    <tr>\n",
       "      <th>4</th>\n",
       "      <td>3423310999</td>\n",
       "      <td>54.58</td>\n",
       "      <td>25</td>\n",
       "    </tr>\n",
       "  </tbody>\n",
       "</table>\n",
       "</div>"
      ],
      "text/plain": [
       "    driver_id  avg_dist_day  avg_over_speed\n",
       "0  3423311935         71.24              28\n",
       "1  3423313212         52.53              25\n",
       "2  3423313724         64.54              27\n",
       "3  3423311373         55.69              22\n",
       "4  3423310999         54.58              25"
      ]
     },
     "metadata": {},
     "output_type": "display_data"
    }
   ],
   "source": [
    "csv_in = 'driver-data.csv'\n",
    "df = pd.read_csv(csv_in, sep=\",\", header=0)\n",
    "display(df.head())"
   ]
  },
  {
   "cell_type": "code",
   "execution_count": 4,
   "id": "493ace8e-b6fb-40de-b359-bc935c2fcc3c",
   "metadata": {},
   "outputs": [],
   "source": [
    "dfX = df[[\"avg_dist_day\", \"avg_over_speed\"]]"
   ]
  },
  {
   "cell_type": "code",
   "execution_count": 5,
   "id": "0bf27f29-6d99-47c2-911c-626d24d2bdeb",
   "metadata": {},
   "outputs": [],
   "source": [
    "X_scaled = scale(dfX)"
   ]
  },
  {
   "cell_type": "code",
   "execution_count": 6,
   "id": "230b8531-fa5b-4053-bd0a-a27481c6b2d8",
   "metadata": {},
   "outputs": [],
   "source": [
    "dfX_scaled = pd.DataFrame(X_scaled, columns = dfX.columns)"
   ]
  },
  {
   "cell_type": "code",
   "execution_count": 7,
   "id": "8141e2b4-5169-4a72-b854-7d50e5581dbe",
   "metadata": {},
   "outputs": [],
   "source": [
    "kmeans = KMeans(n_clusters=4, n_init=6, random_state=12)\n",
    "cls = kmeans.fit_predict(dfX_scaled)"
   ]
  },
  {
   "cell_type": "code",
   "execution_count": 8,
   "id": "2350c168-0150-4ab2-ae7b-aa3a82c607f1",
   "metadata": {},
   "outputs": [
    {
     "name": "stdout",
     "output_type": "stream",
     "text": [
      "[-0.47952334  1.57909169]\n"
     ]
    }
   ],
   "source": [
    "print(kmeans.cluster_centers_[2])"
   ]
  },
  {
   "cell_type": "code",
   "execution_count": 9,
   "id": "114065cc-10cf-4e9d-9f77-680c277b7299",
   "metadata": {},
   "outputs": [
    {
     "data": {
      "text/html": [
       "<div>\n",
       "<style scoped>\n",
       "    .dataframe tbody tr th:only-of-type {\n",
       "        vertical-align: middle;\n",
       "    }\n",
       "\n",
       "    .dataframe tbody tr th {\n",
       "        vertical-align: top;\n",
       "    }\n",
       "\n",
       "    .dataframe thead th {\n",
       "        text-align: right;\n",
       "    }\n",
       "</style>\n",
       "<table border=\"1\" class=\"dataframe\">\n",
       "  <thead>\n",
       "    <tr style=\"text-align: right;\">\n",
       "      <th></th>\n",
       "      <th>driver_id</th>\n",
       "      <th>avg_dist_day</th>\n",
       "      <th>avg_over_speed</th>\n",
       "      <th>clstr_num</th>\n",
       "    </tr>\n",
       "  </thead>\n",
       "  <tbody>\n",
       "    <tr>\n",
       "      <th>0</th>\n",
       "      <td>3423311935</td>\n",
       "      <td>71.24</td>\n",
       "      <td>28</td>\n",
       "      <td>2</td>\n",
       "    </tr>\n",
       "    <tr>\n",
       "      <th>1</th>\n",
       "      <td>3423313212</td>\n",
       "      <td>52.53</td>\n",
       "      <td>25</td>\n",
       "      <td>2</td>\n",
       "    </tr>\n",
       "    <tr>\n",
       "      <th>2</th>\n",
       "      <td>3423313724</td>\n",
       "      <td>64.54</td>\n",
       "      <td>27</td>\n",
       "      <td>2</td>\n",
       "    </tr>\n",
       "    <tr>\n",
       "      <th>3</th>\n",
       "      <td>3423311373</td>\n",
       "      <td>55.69</td>\n",
       "      <td>22</td>\n",
       "      <td>2</td>\n",
       "    </tr>\n",
       "    <tr>\n",
       "      <th>4</th>\n",
       "      <td>3423310999</td>\n",
       "      <td>54.58</td>\n",
       "      <td>25</td>\n",
       "      <td>2</td>\n",
       "    </tr>\n",
       "  </tbody>\n",
       "</table>\n",
       "</div>"
      ],
      "text/plain": [
       "    driver_id  avg_dist_day  avg_over_speed  clstr_num\n",
       "0  3423311935         71.24              28          2\n",
       "1  3423313212         52.53              25          2\n",
       "2  3423313724         64.54              27          2\n",
       "3  3423311373         55.69              22          2\n",
       "4  3423310999         54.58              25          2"
      ]
     },
     "metadata": {},
     "output_type": "display_data"
    },
    {
     "name": "stdout",
     "output_type": "stream",
     "text": [
      "clstr_num\n",
      "0    2774\n",
      "1     695\n",
      "2     427\n",
      "3     104\n",
      "Name: count, dtype: int64\n"
     ]
    }
   ],
   "source": [
    "df[\"clstr_num\"] = cls\n",
    "display(df.head()) \n",
    "print(df[\"clstr_num\"].value_counts())"
   ]
  },
  {
   "cell_type": "code",
   "execution_count": null,
   "id": "94957927-0ed9-494a-a7d1-19b71e55b3c8",
   "metadata": {},
   "outputs": [],
   "source": []
  }
 ],
 "metadata": {
  "kernelspec": {
   "display_name": "Python 3 (ipykernel)",
   "language": "python",
   "name": "python3"
  },
  "language_info": {
   "codemirror_mode": {
    "name": "ipython",
    "version": 3
   },
   "file_extension": ".py",
   "mimetype": "text/x-python",
   "name": "python",
   "nbconvert_exporter": "python",
   "pygments_lexer": "ipython3",
   "version": "3.9.15"
  }
 },
 "nbformat": 4,
 "nbformat_minor": 5
}
