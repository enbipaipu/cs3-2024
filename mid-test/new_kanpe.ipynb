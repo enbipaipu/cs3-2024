{
 "cells": [
  {
   "cell_type": "code",
   "execution_count": 1,
   "id": "ecd7007a-37ec-4856-a8d7-391558e1d316",
   "metadata": {},
   "outputs": [],
   "source": [
    "import scipy.stats as ss\n",
    "import numpy as np\n",
    "import math"
   ]
  },
  {
   "cell_type": "code",
   "execution_count": 6,
   "id": "01533044-c08f-40a4-9068-7685a84727ed",
   "metadata": {},
   "outputs": [],
   "source": [
    "# n!\n",
    "n = 0\n",
    "math.factorial(n)\n",
    "\n",
    "# nPr\n",
    "def permutations_count(n, r):\n",
    "    return math.factorial(n) // math.factorial(n - r)\n",
    "\n",
    "# nCr\n",
    "def combinations_count(n, r):\n",
    "    return math.factorial(n) // math.factorial(n - r) // math.factorial(r)"
   ]
  },
  {
   "cell_type": "markdown",
   "id": "7debb474-228a-46a2-8228-9d08e9c62a82",
   "metadata": {},
   "source": [
    "### ベイズの定理\n",
    "#### 2つの事象A, B に対して以下が成り立つ\n",
    "### $P(B|A) = \\frac{P(A|B)\\,P(B)}{P(A)}$\n",
    "##### ほかの事象Bが起こったとわかっている場合に、事象Aの起こる確率を「Bを条件とするAの条件付確率」と呼び、P(A|B)と表す。"
   ]
  },
  {
   "cell_type": "markdown",
   "id": "01c40ced-1e86-4c39-9a3c-8d668533ac4c",
   "metadata": {},
   "source": [
    "### 全確率の定理\n",
    "#### 事象 H1, H2, ..., Hk が互いに背反でかつ、H1 or H2 or ... or Hk = Ω (標本空間全体) とする。\n",
    "#### この時、任意の事象Aに対して、\n",
    "#### $P(A) = \\sum_{j=1}^{k} P(A \\cap Hj) = \\sum_{j=1}^{k} P(Hj) \\, P(A|Hj)$\n",
    "##### が成り立つ。(この式において、1 <= j <= k とする)"
   ]
  },
  {
   "cell_type": "markdown",
   "id": "5615d4a2-78de-4a55-bac4-35ee8fb1469d",
   "metadata": {},
   "source": [
    "### ベイズの定理 + 全確率の定理\n",
    "### $P(Hi|A) =  \\frac{P(A|Hi) \\, P(Hi)}{\\sum_{j=1}^{k} P(Hj) \\, P(A | Hj)}$\n",
    "##### (この式において、1 <= j <= k とする)"
   ]
  },
  {
   "cell_type": "markdown",
   "id": "76a44cba",
   "metadata": {},
   "source": [
    "##### P(Hi)  を事前確率\n",
    "##### P(Hi|A) を事後確率"
   ]
  },
  {
   "cell_type": "markdown",
   "id": "94e656eb-d87f-46e8-8c82-c1de9b77dc13",
   "metadata": {},
   "source": [
    "### モーメント"
   ]
  },
  {
   "cell_type": "code",
   "execution_count": null,
   "id": "7e86a72b-80f9-45f5-b59f-c2e0b2b124ca",
   "metadata": {},
   "outputs": [],
   "source": [
    "# 期待値\n",
    "def get_Expect(dist):\n",
    "    return sum([x * p for x, p in dist.items()])\n",
    "\n",
    "# 分散\n",
    "def get_Variance(dist):\n",
    "    e = get_Expect(dist)\n",
    "    var = sum([((x - e) ** 2) * p for x,p in dist.items()]) \n",
    "    return var\n",
    "\n",
    "# 標準偏差\n",
    "def get_Std(dist):\n",
    "    std = np.sqrt(get_Variance(dist))\n",
    "    return std\n",
    "\n",
    "# 標準化変数\n",
    "def get_Normalization(dist):\n",
    "    exp, std = get_Expect(dist), get_Std(dist)\n",
    "    z = {(x - exp) / std: v for x, v in dist.items()}\n",
    "    return z\n",
    "\n",
    "data = df['sample'].tolist()\n",
    "expect = sum(data) / len(data)\n",
    "variance = ss.moment(data, moment=2)\n",
    "skewness = ss.kurtosis(data)\n",
    "kurtosis = ss.skew(data) \n",
    "moment = ss.moment(data, moment=5)\n",
    "\n",
    "print(\"期待値: {}\".format(expect))\n",
    "print(\"分散: {}\".format(variance))\n",
    "print(\"尖度: {}\".format(skewness))\n",
    "print(\"歪度: {}\".format(kurtosis))\n",
    "print(\"平均中心の5次モーメント: {}\".format(moment))"
   ]
  },
  {
   "cell_type": "markdown",
   "id": "1da720af-875b-4786-96e6-b1f0b6550c12",
   "metadata": {},
   "source": [
    "### チェビシェフの不等式\n",
    "##### 標本あるいは確率分布は平均の周りに、ある標準偏差をもって分布する。この分布と標準偏差の間に、どのような標本・確率分布でも成り立つ関係を示した不等式\n",
    "##### 平均から(n * 標準偏差)以上離れた値は全体の$\\frac{1}{n^2}$を超えることはない\n",
    "##### $P(|X - \\mu| >= kσ) <= (1 / k ^ 2)$\n",
    "##### ただし、$ \\mu = E(X), σ^2 = V(X)$"
   ]
  },
  {
   "cell_type": "markdown",
   "id": "abefe379-cb13-44e2-aa66-7e632aa90550",
   "metadata": {},
   "source": [
    "### 離散型確率分布"
   ]
  },
  {
   "cell_type": "markdown",
   "id": "49b57854-4e74-475f-88b3-09ba7edfb02b",
   "metadata": {},
   "source": [
    "#### 共通のメソッド\n",
    "- rvs / 乱数を返す\n",
    "- pmf / 確率質量関数の値を返す\n",
    "- cdf / 累積確率の値を返す\n",
    "- stats / 統計量を返す"
   ]
  },
  {
   "cell_type": "markdown",
   "id": "b020d366-0b88-46cf-bcc5-b08160a50e3a",
   "metadata": {},
   "source": [
    "#### 離散一様分布\n",
    "確率変数 x が　{low, low+1, ..., high-1} である場合に、すべての事象の起こる確率が等しい分布"
   ]
  },
  {
   "cell_type": "code",
   "execution_count": null,
   "id": "6e1a762a-1f9c-4ae6-91d5-55f262c6eb6a",
   "metadata": {},
   "outputs": [],
   "source": [
    "# サイコロの目の出る確率を考える\n",
    "# 4の目が出る確率は\n",
    "ss.randint.pmf(k=4, low=1, high=7)\n",
    "\n",
    "# 4 \"以下\" の目が出る確率を求める\n",
    "ss.randint.cdf(k=4, low=1, high=7)\n",
    "\n",
    "# 一様分布の統計量(平均 m, 分散 v, 尖度 s, 歪度 k)\n",
    "# を求める\n",
    "ss.randint.stats(low=1, high=7, moments=\"mvsk\")\n",
    "\n",
    "# 一様分布の乱数を 100 個生成する\n",
    "ss.randint.rvs(low=1, high=7, size=100)"
   ]
  },
  {
   "cell_type": "markdown",
   "id": "4d599c6e-61a3-4414-ad96-0cf0df147bab",
   "metadata": {},
   "source": [
    "#### 超幾何分布\n",
    "二種類 A, B からなる M 個のものがあり、個数の構成をそれぞれ n, M-n とする。\n",
    "この集団から N 個取り出したときに A が x 個, B が N - x 個である確率"
   ]
  },
  {
   "cell_type": "code",
   "execution_count": 5,
   "id": "df083c76-1d16-4e58-884c-c42e945479e6",
   "metadata": {},
   "outputs": [],
   "source": [
    "# 計 100 枚のくじがあり、そのうち 20 枚があたり\n",
    "# 10 回くじを引いてあたりが 4 枚 出たときの確率は？\n",
    "ss.hypergeom.pmf(k=4, M=100, n=20, N=10)\n",
    "\n",
    "# 10 回くじを引いてあたりが 4 枚以下である確率は？\n",
    "ss.hypergeom.cdf(k=4, M=100, n=20, N=10)\n",
    "\n",
    "# 超幾何分布の統計量 (平均 m, 分散 v) を求める\n",
    "ss.hypergeom.stats(M=100, n=20, N=10, moments=\"mv\")\n",
    "\n",
    "# 超幾何分布の乱数を 100 個生成\n",
    "ss.hypergeom.rvs(M=100, n=20, N=10, size=100)"
   ]
  },
  {
   "cell_type": "markdown",
   "id": "c83c5909-2436-458a-8f7a-f3402460165a",
   "metadata": {},
   "source": [
    "#### 二項分布\n",
    "1回の試行あたり2つの結果(仮に成功S, 失敗Fとする)だけが起こる実験において、\n",
    "それぞれの確率を p, 1-p とする。\n",
    "このとき、 n 回の試行で起こった S の回数を x とする"
   ]
  },
  {
   "cell_type": "code",
   "execution_count": 13,
   "id": "4025e42f-e17a-4ddf-a790-6df9875267a8",
   "metadata": {},
   "outputs": [],
   "source": [
    "# ある野球選手の打率を 0.275 であるとする。\n",
    "# この選手が 10 打席中 4 打席ヒットを打つ確率を求める\n",
    "ss.binom.pmf(k=4, n=10, p=0.275)\n",
    "\n",
    "# 10 打席中 3 打席以上ヒットを打つ確率を求める\n",
    "# (1 から　2打席以下の累積確率を引く)\n",
    "1 - ss.binom.cdf(k=2, n=10, p=0.275)\n",
    "\n",
    "# 二項分布の統計量(平均 m) を求める\n",
    "ss.binom.stats(n=10, p=0.2, moments=\"m\")\n",
    "\n",
    "# 二項分布の乱数を 100 個生成する\n",
    "ss.binom.rvs(n=10, p=0.2, size=100)"
   ]
  },
  {
   "cell_type": "markdown",
   "id": "58eab66c-04ce-40e4-8f3a-37bda1c08282",
   "metadata": {},
   "source": [
    "#### ポアソン分布\n",
    "二項分布において、n が大である一方で、p が小である場合の確率分布\n",
    "ただし、np = 一定 である"
   ]
  },
  {
   "cell_type": "code",
   "execution_count": 15,
   "id": "62debe8b-db68-47a8-819f-0453c0a9432c",
   "metadata": {},
   "outputs": [],
   "source": [
    "# あるメールアドレスには、一日に平均 5 通メールが届く。\n",
    "# 一日にメールが 8 通届く確率\n",
    "ss.poisson.pmf(k=8, mu=5)\n",
    "\n",
    "# 一日にメールが 10 通以上届く確率\n",
    "1 - ss.poisson.cdf(k=9, mu=5)\n",
    "\n",
    "# ポアソン分布の統計量(分散 v) を求める\n",
    "ss.poisson.stats(mu=2, moments=\"v\")\n",
    "\n",
    "# ポアソン分布の乱数を 100 個生成する\n",
    "ss.poisson.rvs(mu=2, size=100)"
   ]
  },
  {
   "cell_type": "markdown",
   "id": "3e206fdb-6194-4847-ac76-57129407d634",
   "metadata": {},
   "source": [
    "### 連続型確率変数"
   ]
  },
  {
   "cell_type": "markdown",
   "id": "1233d744-d5b7-44d5-89f0-2c48245aaf18",
   "metadata": {},
   "source": [
    "#### 共通のメソッド\n",
    "- rvs / 乱数を返す\n",
    "- pdf / 確率密度関数の値を返す\n",
    "- cdf / 累積確率の値を返す\n",
    "- stats / 統計量を返す\n",
    "- ppf / 指定した下側確率 x におけるパーセント点の確率変数を返す\n",
    "\n",
    "##### < パーセント点 >\n",
    "- 右側の面積が x / 100 である点のことを 上側 x パーセント点\n",
    "- 左側の面積が x / 100 である点のことを 下側 x パーセント点\n",
    "- 右側と左側を合わせて全体の x / 100 である点のことを 両側 x パーセント点"
   ]
  },
  {
   "cell_type": "markdown",
   "id": "0cf7161c-90eb-4702-adad-a6fb6c1e84d4",
   "metadata": {},
   "source": [
    "#### 正規分布\n",
    "ガウス分布とも呼ばれる、よく使われる確率分布"
   ]
  },
  {
   "cell_type": "code",
   "execution_count": 18,
   "id": "b89e553a-3169-4140-a5fb-9d40446fec05",
   "metadata": {},
   "outputs": [],
   "source": [
    "# 平均2, 標準偏差1 の正規分布の確率変数 x = 4 における\n",
    "# 確率密度関数を求める\n",
    "ss.norm.pdf(x=4, loc=2, scale=1)\n",
    "\n",
    "# 標準正規分布(avg=0, σ^2=1)の\n",
    "# 確率変数 x = 4 における累積確率を求める\n",
    "ss.norm.cdf(x=4)\n",
    "\n",
    "# 平均 1.5, 標準偏差 2 の正規分布の統計量(平均 m, 分散 v)\n",
    "# を求める\n",
    "ss.norm.stats(loc=1.5, scale=2, moments=\"mv\")\n",
    "\n",
    "# 平均 1, 標準偏差 2 の正規分布の乱数を 100 個生成する\n",
    "ss.norm.rvs(loc=1, scale=2, size=100)\n",
    "\n",
    "# 平均 0, 標準偏差 0.2 の正規分布の下側90パーセント点を求める\n",
    "ss.norm.ppf(q=0.9, loc=0, scale=0.2)"
   ]
  },
  {
   "cell_type": "markdown",
   "id": "0898b64b-7ee0-4fc5-a9b8-fc1c147e5c57",
   "metadata": {},
   "source": [
    "#### 指数分布\n",
    "単位時間中にある事象が発生する平均回数を λ とするとき、\n",
    "その事象の発生間隔"
   ]
  },
  {
   "cell_type": "code",
   "execution_count": 24,
   "id": "e0607c34-36f7-4de5-984d-ad052b787c55",
   "metadata": {},
   "outputs": [],
   "source": [
    "# λ = 5 の時の指数分布の\n",
    "# 確率変数 x = 4 における確率密度関数\n",
    "ss.expon.pdf(x=4, scale=0.2)\n",
    "\n",
    "# λ = 5 の時の指数分布の\n",
    "# 確率変数 x = 4 における累積確率\n",
    "ss.expon.cdf(x=4, scale=0.2)\n",
    "\n",
    "# λ = 5 の時の指数分布の\n",
    "# 確率変数の統計量(平均 m) を求める\n",
    "ss.expon.stats(scale=0.2, moments=\"m\")\n",
    "\n",
    "# λ = 3 の時の指数分布に従う乱数を 100 個生成する\n",
    "ss.expon.rvs(scale=1/3, size=100)\n",
    "\n",
    "# λ = 3 の時の指数分布の\n",
    "# 下側 90 パーセント点を求める\n",
    "ss.expon.ppf(q=0.9, scale=1/3)"
   ]
  },
  {
   "cell_type": "markdown",
   "id": "c0e6c740-c1c5-4d65-8145-a126d15639ef",
   "metadata": {},
   "source": [
    "#### 固定化 (発展)\n",
    "パラメータを変数に保存できる"
   ]
  },
  {
   "cell_type": "code",
   "execution_count": null,
   "id": "494c396f-b966-4a91-94ed-11b4754baa8f",
   "metadata": {},
   "outputs": [],
   "source": [
    "# このような使い方ができる\n",
    "gauss = ss.norm(loc=3, scale=0.7)\n",
    "gauss.cdf(x=2)\n",
    "gauss.rvs(size=10)"
   ]
  },
  {
   "cell_type": "markdown",
   "id": "11a7d05d-e2ec-4dc4-acff-e2f68accbd9c",
   "metadata": {},
   "source": [
    "### NumPy を用いた乱数生成"
   ]
  },
  {
   "cell_type": "code",
   "execution_count": 25,
   "id": "139e3002-51b2-484f-827e-b413335479bc",
   "metadata": {},
   "outputs": [],
   "source": [
    "import numpy as np"
   ]
  },
  {
   "cell_type": "markdown",
   "id": "1231f287-6231-4618-8aa2-48d246df2e09",
   "metadata": {},
   "source": [
    "#### 離散型確率分布\n",
    "##### 離散一様分布 (randint)\n",
    "- np.random.randint(low=a, high=b, size=n)\n",
    "- low = a, high = b の時の離散一様分布の乱数を n 個生成\n",
    "\n",
    "##### 超幾何分布 (hypergeometric)\n",
    "- np.random.hypergeometric(ngood=a, nbad=b, nsample=c, size=n)\n",
    "- 当たりの数 a, 外れの数 b の中から c 個取り出すときの\n",
    "- 超幾何分布の乱数を n 個生成\n",
    "\n",
    "##### 二項分布 (binomial)\n",
    "- np.random.binomial(n=a, p=b, size=n)\n",
    "- 試行回数 a, 確率 b の時の二項分布の乱数を n 個生成\n",
    "\n",
    "##### ポアソン分布 (poisson)\n",
    "- np.random.poisson(lam=a, size=n)\n",
    "- 期待値が a の時のポアソン分布の乱数を n 個生成\n",
    "\n",
    "#### 連続型確率分布\n",
    "##### 標準正規分布 (randn)\n",
    "- np.random.randn(n)\n",
    "- 標準正規分布に従う乱数を n 個生成\n",
    "\n",
    "##### 正規分布 (normal)\n",
    "- np.random.normal(loc=a, scale=b, size=n)\n",
    "- 平均 a 標準偏差 b の正規分布に従う乱数を n 個生成\n",
    "\n",
    "##### 指数分布 (exponential)\n",
    "- np.random.exponential(scale=1/a, size=n)\n",
    "- 平均 a の指数分布に従う乱数を n 個生成\n",
    "\n",
    "##### 連続一様分布 (rand)\n",
    "- np.random.rand(n)\n",
    "- 0 以上 1 未満の連続一様分布に従う乱数を n 個生成"
   ]
  },
  {
   "cell_type": "markdown",
   "id": "47d19cec-719d-4f69-9253-4af2b018157a",
   "metadata": {},
   "source": [
    "### 統計的推定・最尤推定"
   ]
  },
  {
   "cell_type": "code",
   "execution_count": 11,
   "id": "30229861-6e7a-4f1a-825c-0ca5e5143320",
   "metadata": {},
   "outputs": [
    {
     "name": "stdout",
     "output_type": "stream",
     "text": [
      "5.125\n",
      "3.859375\n"
     ]
    }
   ],
   "source": [
    "# 最尤推定\n",
    "data = np.array([1, 5, 7, 4, 8, 6, 5, 5])\n",
    "\n",
    "# 平均の最尤推定値\n",
    "print(data.mean())\n",
    "\n",
    "# 分散の最尤推定値\n",
    "print(data.var())"
   ]
  },
  {
   "cell_type": "markdown",
   "id": "b7d1430b-c515-4989-8f7e-5544a1bd858c",
   "metadata": {},
   "source": [
    "### KL計算量\n",
    "- 離散型分布の場合"
   ]
  },
  {
   "cell_type": "code",
   "execution_count": 4,
   "id": "209802e6-0e52-493d-b21a-4cc222d51236",
   "metadata": {},
   "outputs": [
    {
     "name": "stdout",
     "output_type": "stream",
     "text": [
      "0.0\n"
     ]
    }
   ],
   "source": [
    "def kl_divergence_discrete(x, y):\n",
    "    return np.sum(np.where(x != 0, x * np.log(x / y), 0))\n",
    "\n",
    "a = np.array([])\n",
    "b = np.array([])\n",
    "print(kl_divergence_discrete(a, b))"
   ]
  },
  {
   "cell_type": "markdown",
   "id": "0a362b31-b092-47b4-b201-419584520143",
   "metadata": {},
   "source": [
    "- 連続型分布の場合"
   ]
  },
  {
   "cell_type": "code",
   "execution_count": 15,
   "id": "3a84b97a-d041-4d80-9652-3941c40fb04f",
   "metadata": {},
   "outputs": [
    {
     "name": "stdout",
     "output_type": "stream",
     "text": [
      "0.5000000000002773\n"
     ]
    }
   ],
   "source": [
    "def kl_divergence_conti(x, y, dx):\n",
    "    return np.sum(np.where(x != 0, x * np.log(x / y), 0)) * dx\n",
    "\n",
    "delta_x = 0.001\n",
    "x = np.arange(-10, 10, delta_x)\n",
    "a = ss.norm.pdf(x, 0, 1)\n",
    "b = ss.norm.pdf(x, 1, 1)\n",
    "print(kl_divergence_conti(a, b, delta_x))"
   ]
  },
  {
   "cell_type": "markdown",
   "id": "f50e28cd-e970-462f-8f53-766b4f5d506f",
   "metadata": {},
   "source": [
    "### 母平均の区間推定"
   ]
  },
  {
   "cell_type": "markdown",
   "id": "ad5965bb-47e3-4951-9cfc-223b3a764ea7",
   "metadata": {},
   "source": [
    "#### 母分散が既知である場合\n",
    "- 正規分布を用いて推定する\n",
    "##### 95%信頼区間を求める場合、以下の式が成り立つ。\n",
    "- -1.96 <= (Xavg - μ) / (σ / √n) <= 1.96 \n",
    "- Xavg - 1.96 * (σ / √n) <= μ <= Xavg + 1.96 * (σ / √n)"
   ]
  },
  {
   "cell_type": "code",
   "execution_count": 7,
   "id": "d6d0087f-8f5f-494a-afe2-7cebc75e88b5",
   "metadata": {},
   "outputs": [
    {
     "data": {
      "text/plain": [
       "(108.24021609275968, 131.75978390724032)"
      ]
     },
     "execution_count": 7,
     "metadata": {},
     "output_type": "execute_result"
    }
   ],
   "source": [
    "# 実測値 120, 標準偏差 6, 母平均 ? のとき\n",
    "x = np.array([120])\n",
    "n = x.size\n",
    "x_mean = x.mean()\n",
    "x_sd = 6\n",
    "\n",
    "ss.norm.interval(confidence=0.95, loc=x_mean, scale=x_sd / np.sqrt(n))"
   ]
  },
  {
   "cell_type": "markdown",
   "id": "df566a38-a3bc-4bc3-8749-66168cb9bbd3",
   "metadata": {},
   "source": [
    "#### 母分散が未知である場合\n",
    "- t分布を用いて推定する\n",
    "##### 95%信頼区間を求める場合、以下の式が成り立つ\n",
    "- Xavg - tn-1(0.05 / 2) * S(√n) <= μ <= Xavg + tn-1(0.05 / 2) * S(√n)\n",
    "- なお、tn-1 は 自由度 n - 1 の t 分布を表す"
   ]
  },
  {
   "cell_type": "code",
   "execution_count": 10,
   "id": "38563170-8183-408b-9828-555a02739c38",
   "metadata": {},
   "outputs": [
    {
     "data": {
      "text/plain": [
       "(7.820445974652658, 7.903554025347343)"
      ]
     },
     "execution_count": 10,
     "metadata": {},
     "output_type": "execute_result"
    }
   ],
   "source": [
    "# 実測値 [7.86, 7.89, 7.84, 7.90, 7.82]\n",
    "# 母分散は 未知\n",
    "x = np.array([7.86, 7.89, 7.84, 7.90, 7.82])\n",
    "n = x.size\n",
    "x_mean = x.mean()\n",
    "x_sd = np.std(x, ddof=1) # \n",
    "ss.t.interval(confidence=0.95, df=n-1, loc=x_mean, scale=x_sd/np.sqrt(n))"
   ]
  }
 ],
 "metadata": {
  "kernelspec": {
   "display_name": "Python 3 (ipykernel)",
   "language": "python",
   "name": "python3"
  },
  "language_info": {
   "codemirror_mode": {
    "name": "ipython",
    "version": 3
   },
   "file_extension": ".py",
   "mimetype": "text/x-python",
   "name": "python",
   "nbconvert_exporter": "python",
   "pygments_lexer": "ipython3",
   "version": "3.9.15"
  }
 },
 "nbformat": 4,
 "nbformat_minor": 5
}
