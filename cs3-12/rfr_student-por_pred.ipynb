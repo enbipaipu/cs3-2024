{
 "cells": [
  {
   "cell_type": "markdown",
   "id": "55a59ce0-0275-4be5-985c-5e98bb3f8d82",
   "metadata": {},
   "source": [
    "### RFR (ファイルからモデルを読み取る)"
   ]
  },
  {
   "cell_type": "code",
   "execution_count": 1,
   "id": "8c1bf9f9-7d02-45cc-a9db-5c0933b34666",
   "metadata": {},
   "outputs": [],
   "source": [
    "import numpy as np\n",
    "import pandas as pd\n",
    "import matplotlib.pyplot as plt\n",
    "from sklearn.ensemble import RandomForestRegressor\n",
    "from sklearn.model_selection import train_test_split\n",
    "from sklearn.metrics import mean_squared_error\n",
    "from joblib import load"
   ]
  },
  {
   "cell_type": "code",
   "execution_count": 11,
   "id": "77c11937-5c9d-4fc5-adee-2690491f7ea5",
   "metadata": {},
   "outputs": [],
   "source": [
    "# 下準備\n",
    "csv_in = '../cs3-08/student-por-gp.csv'\n",
    "df = pd.read_csv(csv_in, sep=',', skiprows=0, header=0)\n",
    "X = df.drop(columns='G3')  # features\n",
    "y = df['G3']  # true values    \n",
    "\n",
    "# 整数割り当て\n",
    "X['studytime'] = X['studytime'].replace(\n",
    "    {'<2 hours':'1', '2 to 5 hours':'2',\n",
    "     '5 to 10 hours':'3', '>10 hours':'4',\n",
    "    }\n",
    ").astype('int')\n",
    "# ダミー変数化\n",
    "X_dumm = pd.get_dummies(X, drop_first=True, dtype='uint8')\n",
    "\n",
    "X_train, X_test, y_train, y_test = train_test_split(\n",
    "    X_dumm, y, test_size=0.3, random_state=13)"
   ]
  },
  {
   "cell_type": "markdown",
   "id": "51443791-7a03-479b-905a-286f960da338",
   "metadata": {},
   "source": [
    "### RFRの読み込み\n",
    "- load(model_file)　ファイルの読み込み"
   ]
  },
  {
   "cell_type": "code",
   "execution_count": 9,
   "id": "30a00598-def3-40ca-a56c-dd8989e22ac9",
   "metadata": {},
   "outputs": [
    {
     "name": "stdout",
     "output_type": "stream",
     "text": [
      "RandomForestRegressor(n_estimators=500, random_state=17)\n"
     ]
    }
   ],
   "source": [
    "tag = 'student-por'\n",
    "model_file = 'rfr_{}.joblib'.format(tag)\n",
    "rfr = load(model_file)　\n",
    "print(rfr)"
   ]
  },
  {
   "cell_type": "markdown",
   "id": "159b659c-5538-42fd-bbf5-21e92b8551a6",
   "metadata": {},
   "source": [
    "### 予測"
   ]
  },
  {
   "cell_type": "code",
   "execution_count": 12,
   "id": "95a80621-25f6-41e4-9155-acbf911d7ff6",
   "metadata": {},
   "outputs": [],
   "source": [
    "y_test_pred = rfr.predict(X_test)"
   ]
  },
  {
   "cell_type": "code",
   "execution_count": 13,
   "id": "02b2b0fb-c9c5-463b-b586-43ba7f93346a",
   "metadata": {},
   "outputs": [
    {
     "data": {
      "image/png": "[encoded data removed]",
      "text/plain": [
       "<Figure size 640x480 with 1 Axes>"
      ]
     },
     "metadata": {},
     "output_type": "display_data"
    }
   ],
   "source": [
    "y_min = np.append(y_test_pred, y_test).min()\n",
    "y_max = np.append(y_test_pred, y_test).max()\n",
    "y_margin = (y_max - y_min) * 0.1\n",
    "y_min -= y_margin\n",
    "y_max += y_margin\n",
    "\n",
    "plt.scatter(y_test_pred, y_test, alpha=0.3)\n",
    "plt.plot([y_min,y_max], [y_min,y_max])\n",
    "plt.gca().set_aspect('equal', adjustable='box')\n",
    "plt.xlim(y_min, y_max)\n",
    "plt.ylim(y_min, y_max)\n",
    "plt.title('Test data')\n",
    "plt.xlabel('Pred')\n",
    "plt.ylabel('True')\n",
    "plt.show()"
   ]
  },
  {
   "cell_type": "code",
   "execution_count": 15,
   "id": "d31a3a5f-72f4-4f36-b7a3-8f602945b67f",
   "metadata": {},
   "outputs": [
    {
     "name": "stdout",
     "output_type": "stream",
     "text": [
      "MSE:  5.755409694620138\n",
      "RMSE for test data:  2.3990434957749596\n"
     ]
    }
   ],
   "source": [
    "mse = mean_squared_error(y_test, y_test_pred)\n",
    "print('MSE: ', mse)\n",
    "print(\"RMSE for test data: \", np.sqrt(mse))"
   ]
  },
  {
   "cell_type": "code",
   "execution_count": 17,
   "id": "41c24340-b506-4ee0-8581-930dc6848224",
   "metadata": {},
   "outputs": [
    {
     "name": "stdout",
     "output_type": "stream",
     "text": [
      "予測のためのX:\n"
     ]
    },
    {
     "data": {
      "text/html": [
       "<div>\n",
       "<style scoped>\n",
       "    .dataframe tbody tr th:only-of-type {\n",
       "        vertical-align: middle;\n",
       "    }\n",
       "\n",
       "    .dataframe tbody tr th {\n",
       "        vertical-align: top;\n",
       "    }\n",
       "\n",
       "    .dataframe thead th {\n",
       "        text-align: right;\n",
       "    }\n",
       "</style>\n",
       "<table border=\"1\" class=\"dataframe\">\n",
       "  <thead>\n",
       "    <tr style=\"text-align: right;\">\n",
       "      <th></th>\n",
       "      <th>age</th>\n",
       "      <th>studytime</th>\n",
       "      <th>failures</th>\n",
       "      <th>schoolsup</th>\n",
       "      <th>higher</th>\n",
       "      <th>goout</th>\n",
       "      <th>health</th>\n",
       "      <th>absences</th>\n",
       "      <th>reason_home</th>\n",
       "      <th>reason_other</th>\n",
       "      <th>reason_reputation</th>\n",
       "    </tr>\n",
       "  </thead>\n",
       "  <tbody>\n",
       "    <tr>\n",
       "      <th>0</th>\n",
       "      <td>18</td>\n",
       "      <td>4</td>\n",
       "      <td>0</td>\n",
       "      <td>0</td>\n",
       "      <td>1</td>\n",
       "      <td>1</td>\n",
       "      <td>2</td>\n",
       "      <td>0</td>\n",
       "      <td>0</td>\n",
       "      <td>0</td>\n",
       "      <td>1</td>\n",
       "    </tr>\n",
       "    <tr>\n",
       "      <th>1</th>\n",
       "      <td>15</td>\n",
       "      <td>1</td>\n",
       "      <td>3</td>\n",
       "      <td>1</td>\n",
       "      <td>0</td>\n",
       "      <td>4</td>\n",
       "      <td>3</td>\n",
       "      <td>10</td>\n",
       "      <td>0</td>\n",
       "      <td>1</td>\n",
       "      <td>0</td>\n",
       "    </tr>\n",
       "  </tbody>\n",
       "</table>\n",
       "</div>"
      ],
      "text/plain": [
       "   age  studytime  failures  schoolsup  higher  goout  health  absences  \\\n",
       "0   18          4         0          0       1      1       2         0   \n",
       "1   15          1         3          1       0      4       3        10   \n",
       "\n",
       "   reason_home  reason_other  reason_reputation  \n",
       "0            0             0                  1  \n",
       "1            0             1                  0  "
      ]
     },
     "metadata": {},
     "output_type": "display_data"
    }
   ],
   "source": [
    "X_test2 = pd.DataFrame([[18, 4, 0, 0, 1, 1,\n",
    "                        2, 0, 0, 0, 1],\n",
    "                       [15, 1, 3, 1, 0, 4,\n",
    "                        3, 10, 0, 1, 0],\n",
    "                        ],\n",
    "                        columns=X_dumm.columns)  # example\n",
    "print('予測のためのX:')\n",
    "display(X_test2)"
   ]
  },
  {
   "cell_type": "code",
   "execution_count": 18,
   "id": "9ffac4d3-b469-47e2-be21-35dfb816e638",
   "metadata": {},
   "outputs": [
    {
     "name": "stdout",
     "output_type": "stream",
     "text": [
      "予測 y:\n",
      "[16.63   7.194]\n"
     ]
    }
   ],
   "source": [
    "y_test_pred2 = rfr.predict(X_test2)\n",
    "print('予測 y:')\n",
    "print(y_test_pred2)"
   ]
  },
  {
   "cell_type": "code",
   "execution_count": null,
   "id": "60c57241-d6b8-4fab-93b7-dc1ec2c3eb0c",
   "metadata": {},
   "outputs": [],
   "source": []
  }
 ],
 "metadata": {
  "kernelspec": {
   "display_name": "Python 3 (ipykernel)",
   "language": "python",
   "name": "python3"
  },
  "language_info": {
   "codemirror_mode": {
    "name": "ipython",
    "version": 3
   },
   "file_extension": ".py",
   "mimetype": "text/x-python",
   "name": "python",
   "nbconvert_exporter": "python",
   "pygments_lexer": "ipython3",
   "version": "3.9.15"
  }
 },
 "nbformat": 4,
 "nbformat_minor": 5
}
