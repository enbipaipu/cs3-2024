{
 "cells": [
  {
   "cell_type": "code",
   "execution_count": 1,
   "id": "463af8d0-9a57-4eb6-9896-52d3e2408df6",
   "metadata": {},
   "outputs": [],
   "source": [
    "import pandas as pd\n",
    "import matplotlib.pyplot as plt"
   ]
  },
  {
   "cell_type": "markdown",
   "id": "6c9e6412-a636-4ff3-90eb-8977ca0a749b",
   "metadata": {},
   "source": [
    "#### csvファイルを読み込みdf1に"
   ]
  },
  {
   "cell_type": "code",
   "execution_count": 2,
   "id": "49843b88-0004-4880-9218-907c741a13db",
   "metadata": {},
   "outputs": [],
   "source": [
    "df1 = pd.read_csv(\"../cs3-02/running_tab.csv\", sep='\\t', skiprows=0, header=0)"
   ]
  },
  {
   "cell_type": "markdown",
   "id": "12598205-66f5-4e2f-99ef-40693097da90",
   "metadata": {},
   "source": [
    "#### df1の行数と列数、各列のデータ型と欠損地でないデータの数、先頭の５行の表示"
   ]
  },
  {
   "cell_type": "code",
   "execution_count": 3,
   "id": "8918133f-493d-4807-9bb2-ae5bec9a28c3",
   "metadata": {},
   "outputs": [
    {
     "name": "stdout",
     "output_type": "stream",
     "text": [
      "(47, 4)\n",
      "<class 'pandas.core.frame.DataFrame'>\n",
      "RangeIndex: 47 entries, 0 to 46\n",
      "Data columns (total 4 columns):\n",
      " #   Column  Non-Null Count  Dtype \n",
      "---  ------  --------------  ----- \n",
      " 0   ID      47 non-null     int64 \n",
      " 1   Univ    47 non-null     object\n",
      " 2   Grade   47 non-null     int64 \n",
      " 3   Time    47 non-null     int64 \n",
      "dtypes: int64(3), object(1)\n",
      "memory usage: 1.6+ KB\n",
      "None\n"
     ]
    },
    {
     "data": {
      "text/html": [
       "<div>\n",
       "<style scoped>\n",
       "    .dataframe tbody tr th:only-of-type {\n",
       "        vertical-align: middle;\n",
       "    }\n",
       "\n",
       "    .dataframe tbody tr th {\n",
       "        vertical-align: top;\n",
       "    }\n",
       "\n",
       "    .dataframe thead th {\n",
       "        text-align: right;\n",
       "    }\n",
       "</style>\n",
       "<table border=\"1\" class=\"dataframe\">\n",
       "  <thead>\n",
       "    <tr style=\"text-align: right;\">\n",
       "      <th></th>\n",
       "      <th>ID</th>\n",
       "      <th>Univ</th>\n",
       "      <th>Grade</th>\n",
       "      <th>Time</th>\n",
       "    </tr>\n",
       "  </thead>\n",
       "  <tbody>\n",
       "    <tr>\n",
       "      <th>0</th>\n",
       "      <td>1001</td>\n",
       "      <td>D</td>\n",
       "      <td>3</td>\n",
       "      <td>1870</td>\n",
       "    </tr>\n",
       "    <tr>\n",
       "      <th>1</th>\n",
       "      <td>1004</td>\n",
       "      <td>C</td>\n",
       "      <td>1</td>\n",
       "      <td>1957</td>\n",
       "    </tr>\n",
       "    <tr>\n",
       "      <th>2</th>\n",
       "      <td>1006</td>\n",
       "      <td>D</td>\n",
       "      <td>2</td>\n",
       "      <td>2063</td>\n",
       "    </tr>\n",
       "    <tr>\n",
       "      <th>3</th>\n",
       "      <td>1007</td>\n",
       "      <td>D</td>\n",
       "      <td>3</td>\n",
       "      <td>1839</td>\n",
       "    </tr>\n",
       "    <tr>\n",
       "      <th>4</th>\n",
       "      <td>1008</td>\n",
       "      <td>C</td>\n",
       "      <td>2</td>\n",
       "      <td>1740</td>\n",
       "    </tr>\n",
       "  </tbody>\n",
       "</table>\n",
       "</div>"
      ],
      "text/plain": [
       "     ID Univ  Grade  Time\n",
       "0  1001    D      3  1870\n",
       "1  1004    C      1  1957\n",
       "2  1006    D      2  2063\n",
       "3  1007    D      3  1839\n",
       "4  1008    C      2  1740"
      ]
     },
     "metadata": {},
     "output_type": "display_data"
    }
   ],
   "source": [
    "print(df1.shape)\n",
    "print(df1.info())\n",
    "display(df1.head())"
   ]
  },
  {
   "cell_type": "markdown",
   "id": "e31280f2-3d9c-4b24-9534-84e99abcab8a",
   "metadata": {},
   "source": [
    "#### univ列の種類とそれぞれ何人所属しているか。最頻値"
   ]
  },
  {
   "cell_type": "code",
   "execution_count": 4,
   "id": "a145dc25-3aed-4dfb-843b-b926eacfdbf8",
   "metadata": {},
   "outputs": [
    {
     "name": "stdout",
     "output_type": "stream",
     "text": [
      "Univ\n",
      "A    16\n",
      "D    15\n",
      "C     8\n",
      "B     8\n",
      "Name: count, dtype: int64\n",
      "0    A\n",
      "Name: Univ, dtype: object\n"
     ]
    }
   ],
   "source": [
    "print(df1[\"Univ\"].value_counts())\n",
    "print(df1[\"Univ\"].mode())"
   ]
  },
  {
   "cell_type": "markdown",
   "id": "58f833bc-a355-42a5-92e5-cb527b0a2463",
   "metadata": {},
   "source": [
    "#### Grade, Timeの平均値と標準偏差を求める"
   ]
  },
  {
   "cell_type": "code",
   "execution_count": 5,
   "id": "e29c97d4-7346-4210-8e52-c12ac4c5acc7",
   "metadata": {},
   "outputs": [
    {
     "name": "stdout",
     "output_type": "stream",
     "text": [
      "2.5319148936170213\n",
      "1.1004162024826796\n",
      "1913.276595744681\n",
      "90.93062384794521\n"
     ]
    }
   ],
   "source": [
    "print(df1[\"Grade\"].mean())\n",
    "print(df1[\"Grade\"].std())\n",
    "print(df1[\"Time\"].mean())\n",
    "print(df1[\"Time\"].std())"
   ]
  },
  {
   "cell_type": "markdown",
   "id": "0fddf12f-db9a-4f26-9ade-4bd7aa6d0c98",
   "metadata": {},
   "source": [
    "#### Timeの箱ひげ図。縦軸にラベル"
   ]
  },
  {
   "cell_type": "code",
   "execution_count": 6,
   "id": "fe6cc3e6-3f89-4b33-a8de-3dd834e67dbc",
   "metadata": {},
   "outputs": [
    {
     "data": {
      "image/png": "[encoded data removed]",
      "text/plain": [
       "<Figure size 640x480 with 1 Axes>"
      ]
     },
     "metadata": {},
     "output_type": "display_data"
    }
   ],
   "source": [
    "plt.boxplot(df1[\"Time\"])\n",
    "plt.ylabel('Time [sec.]')\n",
    "plt.show()"
   ]
  },
  {
   "cell_type": "markdown",
   "id": "b385b91d-db04-43bd-9524-9aea181ee4c3",
   "metadata": {},
   "source": [
    "#### ヒストグラムを書く"
   ]
  },
  {
   "cell_type": "code",
   "execution_count": 7,
   "id": "77f47f84-2588-4f91-852f-28087c305206",
   "metadata": {},
   "outputs": [
    {
     "data": {
      "image/png": "[encoded data removed]",
      "text/plain": [
       "<Figure size 640x480 with 1 Axes>"
      ]
     },
     "metadata": {},
     "output_type": "display_data"
    }
   ],
   "source": [
    "plt.hist(df1['Time'], bins=12)\n",
    "plt.xlabel('Time [sec.]')\n",
    "plt.ylabel('Frequency')\n",
    "plt.show()"
   ]
  },
  {
   "cell_type": "code",
   "execution_count": null,
   "id": "c739eb2b-2711-476b-b68c-34a67c078009",
   "metadata": {},
   "outputs": [],
   "source": []
  }
 ],
 "metadata": {
  "kernelspec": {
   "display_name": "Python 3 (ipykernel)",
   "language": "python",
   "name": "python3"
  },
  "language_info": {
   "codemirror_mode": {
    "name": "ipython",
    "version": 3
   },
   "file_extension": ".py",
   "mimetype": "text/x-python",
   "name": "python",
   "nbconvert_exporter": "python",
   "pygments_lexer": "ipython3",
   "version": "3.9.15"
  }
 },
 "nbformat": 4,
 "nbformat_minor": 5
}
