{
 "cells": [
  {
   "cell_type": "markdown",
   "id": "2a0377fc-e443-4806-b563-536135008296",
   "metadata": {},
   "source": [
    "#### 必要なライブラリのインポート"
   ]
  },
  {
   "cell_type": "code",
   "execution_count": 1,
   "id": "7e02f936-3907-4462-a8a8-b7b08101eac8",
   "metadata": {},
   "outputs": [],
   "source": [
    "import pandas as pd"
   ]
  },
  {
   "cell_type": "markdown",
   "id": "032c5fb2-c768-46ba-988a-8e83a203d365",
   "metadata": {},
   "source": [
    "#### csvファイルを読み込んでdf1に代入"
   ]
  },
  {
   "cell_type": "code",
   "execution_count": 2,
   "id": "263a4fb8-1cd4-46b3-98c7-f32803f448fc",
   "metadata": {},
   "outputs": [],
   "source": [
    "df1 = pd.read_csv(\"../cs3-02/wholesale_customers.csv\", sep=\",\", skiprows=13, header=0)\n"
   ]
  },
  {
   "cell_type": "markdown",
   "id": "391f411b-212b-4e69-b78f-db732cc90168",
   "metadata": {},
   "source": [
    "#### df1の行数と列数、各列のデータ型と欠損地でないデータの数、先頭の５行の表示"
   ]
  },
  {
   "cell_type": "code",
   "execution_count": 3,
   "id": "ccec2074-f734-4f7f-af9d-5ab8b4ad8684",
   "metadata": {},
   "outputs": [
    {
     "name": "stdout",
     "output_type": "stream",
     "text": [
      "(440, 8)\n",
      "<class 'pandas.core.frame.DataFrame'>\n",
      "RangeIndex: 440 entries, 0 to 439\n",
      "Data columns (total 8 columns):\n",
      " #   Column            Non-Null Count  Dtype \n",
      "---  ------            --------------  ----- \n",
      " 0   Channel           440 non-null    int64 \n",
      " 1   Region            440 non-null    object\n",
      " 2   Fresh             440 non-null    int64 \n",
      " 3   Milk              440 non-null    int64 \n",
      " 4   Grocery           440 non-null    int64 \n",
      " 5   Frozen            440 non-null    int64 \n",
      " 6   Detergents_Paper  440 non-null    int64 \n",
      " 7   Delicatessen      440 non-null    int64 \n",
      "dtypes: int64(7), object(1)\n",
      "memory usage: 27.6+ KB\n",
      "None\n"
     ]
    },
    {
     "data": {
      "text/html": [
       "<div>\n",
       "<style scoped>\n",
       "    .dataframe tbody tr th:only-of-type {\n",
       "        vertical-align: middle;\n",
       "    }\n",
       "\n",
       "    .dataframe tbody tr th {\n",
       "        vertical-align: top;\n",
       "    }\n",
       "\n",
       "    .dataframe thead th {\n",
       "        text-align: right;\n",
       "    }\n",
       "</style>\n",
       "<table border=\"1\" class=\"dataframe\">\n",
       "  <thead>\n",
       "    <tr style=\"text-align: right;\">\n",
       "      <th></th>\n",
       "      <th>Channel</th>\n",
       "      <th>Region</th>\n",
       "      <th>Fresh</th>\n",
       "      <th>Milk</th>\n",
       "      <th>Grocery</th>\n",
       "      <th>Frozen</th>\n",
       "      <th>Detergents_Paper</th>\n",
       "      <th>Delicatessen</th>\n",
       "    </tr>\n",
       "  </thead>\n",
       "  <tbody>\n",
       "    <tr>\n",
       "      <th>0</th>\n",
       "      <td>2</td>\n",
       "      <td>Other</td>\n",
       "      <td>12669</td>\n",
       "      <td>9656</td>\n",
       "      <td>7561</td>\n",
       "      <td>214</td>\n",
       "      <td>2674</td>\n",
       "      <td>1338</td>\n",
       "    </tr>\n",
       "    <tr>\n",
       "      <th>1</th>\n",
       "      <td>2</td>\n",
       "      <td>Other</td>\n",
       "      <td>7057</td>\n",
       "      <td>9810</td>\n",
       "      <td>9568</td>\n",
       "      <td>1762</td>\n",
       "      <td>3293</td>\n",
       "      <td>1776</td>\n",
       "    </tr>\n",
       "    <tr>\n",
       "      <th>2</th>\n",
       "      <td>2</td>\n",
       "      <td>Other</td>\n",
       "      <td>6353</td>\n",
       "      <td>8808</td>\n",
       "      <td>7684</td>\n",
       "      <td>2405</td>\n",
       "      <td>3516</td>\n",
       "      <td>7844</td>\n",
       "    </tr>\n",
       "    <tr>\n",
       "      <th>3</th>\n",
       "      <td>1</td>\n",
       "      <td>Other</td>\n",
       "      <td>13265</td>\n",
       "      <td>1196</td>\n",
       "      <td>4221</td>\n",
       "      <td>6404</td>\n",
       "      <td>507</td>\n",
       "      <td>1788</td>\n",
       "    </tr>\n",
       "    <tr>\n",
       "      <th>4</th>\n",
       "      <td>2</td>\n",
       "      <td>Other</td>\n",
       "      <td>22615</td>\n",
       "      <td>5410</td>\n",
       "      <td>7198</td>\n",
       "      <td>3915</td>\n",
       "      <td>1777</td>\n",
       "      <td>5185</td>\n",
       "    </tr>\n",
       "  </tbody>\n",
       "</table>\n",
       "</div>"
      ],
      "text/plain": [
       "   Channel Region  Fresh  Milk  Grocery  Frozen  Detergents_Paper  \\\n",
       "0        2  Other  12669  9656     7561     214              2674   \n",
       "1        2  Other   7057  9810     9568    1762              3293   \n",
       "2        2  Other   6353  8808     7684    2405              3516   \n",
       "3        1  Other  13265  1196     4221    6404               507   \n",
       "4        2  Other  22615  5410     7198    3915              1777   \n",
       "\n",
       "   Delicatessen  \n",
       "0          1338  \n",
       "1          1776  \n",
       "2          7844  \n",
       "3          1788  \n",
       "4          5185  "
      ]
     },
     "metadata": {},
     "output_type": "display_data"
    }
   ],
   "source": [
    "print(df1.shape)\n",
    "print(df1.info())\n",
    "display(df1.head())"
   ]
  },
  {
   "cell_type": "markdown",
   "id": "12acb73f-e4d9-4621-bf0a-019b27bd658a",
   "metadata": {},
   "source": [
    "#### Region列において、Oportoが現れる回数を表示"
   ]
  },
  {
   "cell_type": "code",
   "execution_count": 4,
   "id": "15332c28-5bc9-4729-8368-7e8542c2097c",
   "metadata": {},
   "outputs": [
    {
     "name": "stdout",
     "output_type": "stream",
     "text": [
      "Region\n",
      "Other     316\n",
      "Lisbon     77\n",
      "Oporto     47\n",
      "Name: count, dtype: int64\n"
     ]
    }
   ],
   "source": [
    "print(df1[\"Region\"].value_counts())"
   ]
  },
  {
   "cell_type": "markdown",
   "id": "54e7f742-3b8d-4671-b2ea-f99c3cc6fd6d",
   "metadata": {},
   "source": [
    "#### Milk列の平均値を表示"
   ]
  },
  {
   "cell_type": "code",
   "execution_count": 5,
   "id": "b265c612-5710-44f7-ae28-cb19f1f620c0",
   "metadata": {},
   "outputs": [
    {
     "name": "stdout",
     "output_type": "stream",
     "text": [
      "5796.27\n"
     ]
    }
   ],
   "source": [
    "print(df1[\"Milk\"].mean().round(2))"
   ]
  },
  {
   "cell_type": "markdown",
   "id": "984223b3-1ac7-47b4-bd14-329d02fd3ca0",
   "metadata": {},
   "source": [
    "#### df1のGroceryの最大値を求めよ"
   ]
  },
  {
   "cell_type": "code",
   "execution_count": 6,
   "id": "a3e50385-42f5-4ac5-bfef-6dda3fb4e2c7",
   "metadata": {},
   "outputs": [
    {
     "name": "stdout",
     "output_type": "stream",
     "text": [
      "92780\n"
     ]
    }
   ],
   "source": [
    "print(df1[\"Grocery\"].max())"
   ]
  },
  {
   "cell_type": "markdown",
   "id": "d9536155-eccb-457e-89c6-4bf7eb207b97",
   "metadata": {},
   "source": [
    "#### df1のDetergents＿Paperの中央値を求めよ"
   ]
  },
  {
   "cell_type": "code",
   "execution_count": 7,
   "id": "8c9e9af7-6cfa-44a7-92ec-a04f78de10c8",
   "metadata": {},
   "outputs": [
    {
     "name": "stdout",
     "output_type": "stream",
     "text": [
      "816.5\n"
     ]
    }
   ],
   "source": [
    "print(df1[\"Detergents_Paper\"].median())"
   ]
  },
  {
   "cell_type": "code",
   "execution_count": null,
   "id": "87cd778b-57e9-44d7-ab81-b2685381fdd1",
   "metadata": {},
   "outputs": [],
   "source": []
  }
 ],
 "metadata": {
  "kernelspec": {
   "display_name": "Python 3 (ipykernel)",
   "language": "python",
   "name": "python3"
  },
  "language_info": {
   "codemirror_mode": {
    "name": "ipython",
    "version": 3
   },
   "file_extension": ".py",
   "mimetype": "text/x-python",
   "name": "python",
   "nbconvert_exporter": "python",
   "pygments_lexer": "ipython3",
   "version": "3.9.15"
  }
 },
 "nbformat": 4,
 "nbformat_minor": 5
}
