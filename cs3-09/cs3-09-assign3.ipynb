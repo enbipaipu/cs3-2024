{
 "cells": [
  {
   "cell_type": "code",
   "execution_count": 1,
   "id": "f89a8e40-01fb-48cf-8d17-99d79942c671",
   "metadata": {},
   "outputs": [],
   "source": [
    "import numpy as np"
   ]
  },
  {
   "cell_type": "markdown",
   "id": "de1e97b9-1f6e-4a2b-bdc9-3d29dc8b2e74",
   "metadata": {},
   "source": [
    "### 1"
   ]
  },
  {
   "cell_type": "code",
   "execution_count": 2,
   "id": "b2790006-241a-4107-a711-57594f72b480",
   "metadata": {},
   "outputs": [],
   "source": [
    "def step(x:float):\n",
    "    return 1 if x > 0 else 0"
   ]
  },
  {
   "cell_type": "code",
   "execution_count": 3,
   "id": "446f4ad5-fa00-4afd-b8af-328b2f3a047e",
   "metadata": {},
   "outputs": [
    {
     "name": "stdout",
     "output_type": "stream",
     "text": [
      "-1.0 :  0\n",
      "-0.9 :  0\n",
      "-0.8 :  0\n",
      "-0.7000000000000001 :  0\n",
      "-0.6000000000000001 :  0\n",
      "-0.5 :  0\n",
      "-0.4 :  0\n",
      "-0.30000000000000004 :  0\n",
      "-0.2 :  0\n",
      "-0.1 :  0\n",
      "0.0 :  0\n",
      "0.1 :  1\n",
      "0.2 :  1\n",
      "0.30000000000000004 :  1\n",
      "0.4 :  1\n",
      "0.5 :  1\n",
      "0.6000000000000001 :  1\n",
      "0.7000000000000001 :  1\n",
      "0.8 :  1\n",
      "0.9 :  1\n"
     ]
    }
   ],
   "source": [
    "for s in range(-10, 10, 1):\n",
    "    t = s*0.1\n",
    "    print(t, \": \", step(t))"
   ]
  },
  {
   "cell_type": "markdown",
   "id": "86f2b33c-3df2-4f86-b6c6-c63044233bc1",
   "metadata": {},
   "source": [
    "### 2"
   ]
  },
  {
   "cell_type": "code",
   "execution_count": 4,
   "id": "73bb8a9c-2a93-451f-8ca9-f57c57d46f37",
   "metadata": {},
   "outputs": [],
   "source": [
    "def nn(w:np.ndarray, theta:float, x:np.ndarray):\n",
    "    return step(sum(w*x)-theta)"
   ]
  },
  {
   "cell_type": "code",
   "execution_count": 6,
   "id": "e003045d-f621-4462-a51f-5f73c5b5e889",
   "metadata": {},
   "outputs": [
    {
     "name": "stdout",
     "output_type": "stream",
     "text": [
      "1\n"
     ]
    }
   ],
   "source": [
    "W = np.array([1, 2, 3, 4, 5])\n",
    "X = np.array([3, 4, 5, 6, 7])\n",
    "THETA = 10\n",
    "\n",
    "print(nn(W, THETA, X))"
   ]
  },
  {
   "cell_type": "markdown",
   "id": "1cefa3a7-14e5-42e0-ae9e-91614dadb18c",
   "metadata": {},
   "source": [
    "### 3"
   ]
  },
  {
   "cell_type": "code",
   "execution_count": 15,
   "id": "c61b2c3d-98d6-421f-a75d-4658c527112f",
   "metadata": {},
   "outputs": [
    {
     "name": "stdout",
     "output_type": "stream",
     "text": [
      "w :  [0.9 1.1]\n",
      "theta : 1.6\n"
     ]
    }
   ],
   "source": [
    "lis = np.array([[0, 0], [0, 1], [1, 0], [1, 1]])\n",
    "T = [0, 0, 0, 1]\n",
    "\n",
    "alpha = 0.2\n",
    "w = np.array([0.5, 0.7])\n",
    "theta = 2.0\n",
    "\n",
    "n = 0\n",
    "before_w = []\n",
    "before_theta = []\n",
    "\n",
    "Another_round = True\n",
    "\n",
    "while(Another_round):\n",
    "    before_w = w\n",
    "    before_theta = theta\n",
    "    \n",
    "    for s in range(4):\n",
    "        y = nn(w, theta, lis[s])\n",
    "        for i in range(2):\n",
    "            w[i] = w[i] + alpha * (T[s]-y)*lis[s][i]\n",
    "        theta = theta - alpha * (T[s]-y)\n",
    "\n",
    "        \n",
    "    if before_w[0] == w[0] and before_w[1] == w[1] and before_theta == theta:\n",
    "        Another_round = False\n",
    "    \n",
    "\n",
    "\n",
    "print(\"w : \", w)\n",
    "print(\"theta :\", theta)"
   ]
  },
  {
   "cell_type": "code",
   "execution_count": null,
   "id": "c4afa6e4-eae8-4a12-a612-8eecab4ce108",
   "metadata": {},
   "outputs": [],
   "source": []
  }
 ],
 "metadata": {
  "kernelspec": {
   "display_name": "Python 3 (ipykernel)",
   "language": "python",
   "name": "python3"
  },
  "language_info": {
   "codemirror_mode": {
    "name": "ipython",
    "version": 3
   },
   "file_extension": ".py",
   "mimetype": "text/x-python",
   "name": "python",
   "nbconvert_exporter": "python",
   "pygments_lexer": "ipython3",
   "version": "3.9.15"
  }
 },
 "nbformat": 4,
 "nbformat_minor": 5
}
