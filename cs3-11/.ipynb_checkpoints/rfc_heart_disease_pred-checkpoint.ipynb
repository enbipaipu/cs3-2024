{
 "cells": [
  {
   "cell_type": "markdown",
   "id": "a402df24-d3e7-4120-8b5c-bf5da7553f53",
   "metadata": {},
   "source": [
    "### ランダムフォレスト分類器　(RFC)"
   ]
  },
  {
   "cell_type": "code",
   "execution_count": 1,
   "id": "9a872af5-8dc2-4e91-8bf0-581e129046b7",
   "metadata": {},
   "outputs": [],
   "source": [
    "import numpy as np\n",
    "import pandas as pd\n",
    "import matplotlib.pyplot as plt\n",
    "from sklearn.ensemble import RandomForestClassifier\n",
    "from sklearn.model_selection import train_test_split\n",
    "from sklearn.metrics import accuracy_score\n",
    "from joblib import load"
   ]
  },
  {
   "cell_type": "code",
   "execution_count": 2,
   "id": "6ae91a11-6812-49fc-a465-9de2755b2ba0",
   "metadata": {},
   "outputs": [
    {
     "name": "stdout",
     "output_type": "stream",
     "text": [
      "(2000, 9)\n",
      "<class 'pandas.core.frame.DataFrame'>\n",
      "RangeIndex: 2000 entries, 0 to 1999\n",
      "Data columns (total 9 columns):\n",
      " #   Column           Non-Null Count  Dtype  \n",
      "---  ------           --------------  -----  \n",
      " 0   HeartDisease     2000 non-null   int64  \n",
      " 1   BMI              2000 non-null   float64\n",
      " 2   Smoking          2000 non-null   int64  \n",
      " 3   AlcoholDrinking  2000 non-null   int64  \n",
      " 4   Stroke           2000 non-null   int64  \n",
      " 5   M/F              2000 non-null   object \n",
      " 6   AgeCategory      2000 non-null   int64  \n",
      " 7   GenHealth        2000 non-null   int64  \n",
      " 8   SleepTime        2000 non-null   float64\n",
      "dtypes: float64(2), int64(6), object(1)\n",
      "memory usage: 140.8+ KB\n",
      "None\n"
     ]
    },
    {
     "data": {
      "text/html": [
       "<div>\n",
       "<style scoped>\n",
       "    .dataframe tbody tr th:only-of-type {\n",
       "        vertical-align: middle;\n",
       "    }\n",
       "\n",
       "    .dataframe tbody tr th {\n",
       "        vertical-align: top;\n",
       "    }\n",
       "\n",
       "    .dataframe thead th {\n",
       "        text-align: right;\n",
       "    }\n",
       "</style>\n",
       "<table border=\"1\" class=\"dataframe\">\n",
       "  <thead>\n",
       "    <tr style=\"text-align: right;\">\n",
       "      <th></th>\n",
       "      <th>HeartDisease</th>\n",
       "      <th>BMI</th>\n",
       "      <th>Smoking</th>\n",
       "      <th>AlcoholDrinking</th>\n",
       "      <th>Stroke</th>\n",
       "      <th>M/F</th>\n",
       "      <th>AgeCategory</th>\n",
       "      <th>GenHealth</th>\n",
       "      <th>SleepTime</th>\n",
       "    </tr>\n",
       "  </thead>\n",
       "  <tbody>\n",
       "    <tr>\n",
       "      <th>0</th>\n",
       "      <td>0</td>\n",
       "      <td>24.37</td>\n",
       "      <td>0</td>\n",
       "      <td>0</td>\n",
       "      <td>0</td>\n",
       "      <td>M</td>\n",
       "      <td>0</td>\n",
       "      <td>4</td>\n",
       "      <td>7.0</td>\n",
       "    </tr>\n",
       "    <tr>\n",
       "      <th>1</th>\n",
       "      <td>0</td>\n",
       "      <td>41.20</td>\n",
       "      <td>0</td>\n",
       "      <td>0</td>\n",
       "      <td>0</td>\n",
       "      <td>F</td>\n",
       "      <td>1</td>\n",
       "      <td>3</td>\n",
       "      <td>7.0</td>\n",
       "    </tr>\n",
       "    <tr>\n",
       "      <th>2</th>\n",
       "      <td>0</td>\n",
       "      <td>19.80</td>\n",
       "      <td>0</td>\n",
       "      <td>0</td>\n",
       "      <td>0</td>\n",
       "      <td>M</td>\n",
       "      <td>10</td>\n",
       "      <td>4</td>\n",
       "      <td>6.0</td>\n",
       "    </tr>\n",
       "    <tr>\n",
       "      <th>3</th>\n",
       "      <td>0</td>\n",
       "      <td>24.33</td>\n",
       "      <td>1</td>\n",
       "      <td>0</td>\n",
       "      <td>0</td>\n",
       "      <td>M</td>\n",
       "      <td>8</td>\n",
       "      <td>2</td>\n",
       "      <td>8.0</td>\n",
       "    </tr>\n",
       "    <tr>\n",
       "      <th>4</th>\n",
       "      <td>0</td>\n",
       "      <td>19.74</td>\n",
       "      <td>0</td>\n",
       "      <td>0</td>\n",
       "      <td>0</td>\n",
       "      <td>F</td>\n",
       "      <td>0</td>\n",
       "      <td>4</td>\n",
       "      <td>8.0</td>\n",
       "    </tr>\n",
       "  </tbody>\n",
       "</table>\n",
       "</div>"
      ],
      "text/plain": [
       "   HeartDisease    BMI  Smoking  AlcoholDrinking  Stroke M/F  AgeCategory  \\\n",
       "0             0  24.37        0                0       0   M            0   \n",
       "1             0  41.20        0                0       0   F            1   \n",
       "2             0  19.80        0                0       0   M           10   \n",
       "3             0  24.33        1                0       0   M            8   \n",
       "4             0  19.74        0                0       0   F            0   \n",
       "\n",
       "   GenHealth  SleepTime  \n",
       "0          4        7.0  \n",
       "1          3        7.0  \n",
       "2          4        6.0  \n",
       "3          2        8.0  \n",
       "4          4        8.0  "
      ]
     },
     "metadata": {},
     "output_type": "display_data"
    }
   ],
   "source": [
    "df = pd.read_csv(\"../cs3-08/heart_disease-mid.csv\")\n",
    "print(df.shape)\n",
    "print(df.info())\n",
    "display(df.head())"
   ]
  },
  {
   "cell_type": "markdown",
   "id": "9af640ea-d420-4fd9-ad15-df747a9b262a",
   "metadata": {},
   "source": [
    "### 特徴量と正解ラベルを分ける"
   ]
  },
  {
   "cell_type": "code",
   "execution_count": 3,
   "id": "ebc10564-42e4-44b7-bf30-1651dd5508ec",
   "metadata": {},
   "outputs": [
    {
     "name": "stdout",
     "output_type": "stream",
     "text": [
      "X: (2000, 8)\n"
     ]
    },
    {
     "data": {
      "text/html": [
       "<div>\n",
       "<style scoped>\n",
       "    .dataframe tbody tr th:only-of-type {\n",
       "        vertical-align: middle;\n",
       "    }\n",
       "\n",
       "    .dataframe tbody tr th {\n",
       "        vertical-align: top;\n",
       "    }\n",
       "\n",
       "    .dataframe thead th {\n",
       "        text-align: right;\n",
       "    }\n",
       "</style>\n",
       "<table border=\"1\" class=\"dataframe\">\n",
       "  <thead>\n",
       "    <tr style=\"text-align: right;\">\n",
       "      <th></th>\n",
       "      <th>BMI</th>\n",
       "      <th>Smoking</th>\n",
       "      <th>AlcoholDrinking</th>\n",
       "      <th>Stroke</th>\n",
       "      <th>M/F</th>\n",
       "      <th>AgeCategory</th>\n",
       "      <th>GenHealth</th>\n",
       "      <th>SleepTime</th>\n",
       "    </tr>\n",
       "  </thead>\n",
       "  <tbody>\n",
       "    <tr>\n",
       "      <th>0</th>\n",
       "      <td>24.37</td>\n",
       "      <td>0</td>\n",
       "      <td>0</td>\n",
       "      <td>0</td>\n",
       "      <td>M</td>\n",
       "      <td>0</td>\n",
       "      <td>4</td>\n",
       "      <td>7.0</td>\n",
       "    </tr>\n",
       "    <tr>\n",
       "      <th>1</th>\n",
       "      <td>41.20</td>\n",
       "      <td>0</td>\n",
       "      <td>0</td>\n",
       "      <td>0</td>\n",
       "      <td>F</td>\n",
       "      <td>1</td>\n",
       "      <td>3</td>\n",
       "      <td>7.0</td>\n",
       "    </tr>\n",
       "    <tr>\n",
       "      <th>2</th>\n",
       "      <td>19.80</td>\n",
       "      <td>0</td>\n",
       "      <td>0</td>\n",
       "      <td>0</td>\n",
       "      <td>M</td>\n",
       "      <td>10</td>\n",
       "      <td>4</td>\n",
       "      <td>6.0</td>\n",
       "    </tr>\n",
       "    <tr>\n",
       "      <th>3</th>\n",
       "      <td>24.33</td>\n",
       "      <td>1</td>\n",
       "      <td>0</td>\n",
       "      <td>0</td>\n",
       "      <td>M</td>\n",
       "      <td>8</td>\n",
       "      <td>2</td>\n",
       "      <td>8.0</td>\n",
       "    </tr>\n",
       "    <tr>\n",
       "      <th>4</th>\n",
       "      <td>19.74</td>\n",
       "      <td>0</td>\n",
       "      <td>0</td>\n",
       "      <td>0</td>\n",
       "      <td>F</td>\n",
       "      <td>0</td>\n",
       "      <td>4</td>\n",
       "      <td>8.0</td>\n",
       "    </tr>\n",
       "  </tbody>\n",
       "</table>\n",
       "</div>"
      ],
      "text/plain": [
       "     BMI  Smoking  AlcoholDrinking  Stroke M/F  AgeCategory  GenHealth  \\\n",
       "0  24.37        0                0       0   M            0          4   \n",
       "1  41.20        0                0       0   F            1          3   \n",
       "2  19.80        0                0       0   M           10          4   \n",
       "3  24.33        1                0       0   M            8          2   \n",
       "4  19.74        0                0       0   F            0          4   \n",
       "\n",
       "   SleepTime  \n",
       "0        7.0  \n",
       "1        7.0  \n",
       "2        6.0  \n",
       "3        8.0  \n",
       "4        8.0  "
      ]
     },
     "metadata": {},
     "output_type": "display_data"
    },
    {
     "name": "stdout",
     "output_type": "stream",
     "text": [
      "y: (2000,)\n",
      "0    0\n",
      "1    0\n",
      "2    0\n",
      "3    0\n",
      "4    0\n",
      "Name: HeartDisease, dtype: int64\n"
     ]
    }
   ],
   "source": [
    "X = df.drop(columns=  \"HeartDisease\")\n",
    "y = df[\"HeartDisease\"]\n",
    "print(\"X:\", X.shape)\n",
    "display(X.head())\n",
    "print(\"y:\", y.shape)\n",
    "print(y.head())"
   ]
  },
  {
   "cell_type": "code",
   "execution_count": 4,
   "id": "a19aee65-80f8-4d46-877f-fdb8e5e67b65",
   "metadata": {},
   "outputs": [
    {
     "name": "stdout",
     "output_type": "stream",
     "text": [
      "HeartDisease\n",
      "0    1000\n",
      "1    1000\n",
      "Name: count, dtype: int64\n"
     ]
    }
   ],
   "source": [
    "print(y.value_counts())"
   ]
  },
  {
   "cell_type": "markdown",
   "id": "f55f4f62-94aa-4e1b-8780-2dcc6e337f1b",
   "metadata": {},
   "source": [
    "### ダミー変数化"
   ]
  },
  {
   "cell_type": "code",
   "execution_count": 5,
   "id": "c38ae73c-e4c3-4d19-adcd-97bc2d05ce3e",
   "metadata": {},
   "outputs": [
    {
     "name": "stdout",
     "output_type": "stream",
     "text": [
      "X_dumm: (2000, 8)\n"
     ]
    },
    {
     "data": {
      "text/html": [
       "<div>\n",
       "<style scoped>\n",
       "    .dataframe tbody tr th:only-of-type {\n",
       "        vertical-align: middle;\n",
       "    }\n",
       "\n",
       "    .dataframe tbody tr th {\n",
       "        vertical-align: top;\n",
       "    }\n",
       "\n",
       "    .dataframe thead th {\n",
       "        text-align: right;\n",
       "    }\n",
       "</style>\n",
       "<table border=\"1\" class=\"dataframe\">\n",
       "  <thead>\n",
       "    <tr style=\"text-align: right;\">\n",
       "      <th></th>\n",
       "      <th>BMI</th>\n",
       "      <th>Smoking</th>\n",
       "      <th>AlcoholDrinking</th>\n",
       "      <th>Stroke</th>\n",
       "      <th>AgeCategory</th>\n",
       "      <th>GenHealth</th>\n",
       "      <th>SleepTime</th>\n",
       "      <th>M/F_M</th>\n",
       "    </tr>\n",
       "  </thead>\n",
       "  <tbody>\n",
       "    <tr>\n",
       "      <th>0</th>\n",
       "      <td>24.37</td>\n",
       "      <td>0</td>\n",
       "      <td>0</td>\n",
       "      <td>0</td>\n",
       "      <td>0</td>\n",
       "      <td>4</td>\n",
       "      <td>7.0</td>\n",
       "      <td>1</td>\n",
       "    </tr>\n",
       "    <tr>\n",
       "      <th>1</th>\n",
       "      <td>41.20</td>\n",
       "      <td>0</td>\n",
       "      <td>0</td>\n",
       "      <td>0</td>\n",
       "      <td>1</td>\n",
       "      <td>3</td>\n",
       "      <td>7.0</td>\n",
       "      <td>0</td>\n",
       "    </tr>\n",
       "    <tr>\n",
       "      <th>2</th>\n",
       "      <td>19.80</td>\n",
       "      <td>0</td>\n",
       "      <td>0</td>\n",
       "      <td>0</td>\n",
       "      <td>10</td>\n",
       "      <td>4</td>\n",
       "      <td>6.0</td>\n",
       "      <td>1</td>\n",
       "    </tr>\n",
       "    <tr>\n",
       "      <th>3</th>\n",
       "      <td>24.33</td>\n",
       "      <td>1</td>\n",
       "      <td>0</td>\n",
       "      <td>0</td>\n",
       "      <td>8</td>\n",
       "      <td>2</td>\n",
       "      <td>8.0</td>\n",
       "      <td>1</td>\n",
       "    </tr>\n",
       "    <tr>\n",
       "      <th>4</th>\n",
       "      <td>19.74</td>\n",
       "      <td>0</td>\n",
       "      <td>0</td>\n",
       "      <td>0</td>\n",
       "      <td>0</td>\n",
       "      <td>4</td>\n",
       "      <td>8.0</td>\n",
       "      <td>0</td>\n",
       "    </tr>\n",
       "  </tbody>\n",
       "</table>\n",
       "</div>"
      ],
      "text/plain": [
       "     BMI  Smoking  AlcoholDrinking  Stroke  AgeCategory  GenHealth  SleepTime  \\\n",
       "0  24.37        0                0       0            0          4        7.0   \n",
       "1  41.20        0                0       0            1          3        7.0   \n",
       "2  19.80        0                0       0           10          4        6.0   \n",
       "3  24.33        1                0       0            8          2        8.0   \n",
       "4  19.74        0                0       0            0          4        8.0   \n",
       "\n",
       "   M/F_M  \n",
       "0      1  \n",
       "1      0  \n",
       "2      1  \n",
       "3      1  \n",
       "4      0  "
      ]
     },
     "metadata": {},
     "output_type": "display_data"
    }
   ],
   "source": [
    "X_dumm = pd.get_dummies(X, drop_first=True, dtype=\"uint8\")\n",
    "print(\"X_dumm:\", X_dumm.shape)\n",
    "display(X_dumm.head())"
   ]
  },
  {
   "cell_type": "markdown",
   "id": "31773662-b634-444b-afce-bfe483280bf2",
   "metadata": {},
   "source": [
    "### トレーニングとテストのためにxとyを分割する"
   ]
  },
  {
   "cell_type": "markdown",
   "id": "c20d54a6-ac8b-468d-91d1-777f252ae802",
   "metadata": {},
   "source": [
    "X_train, X_test, y_train, y_test = train_test_split(X_dumm, y, test_size=0.3, random_state=7, stratify=y)  \n",
    "- X_train, X_test: 訓練用、テスト用の特徴データ\n",
    "- y_train, y_test: 訓練用、テスト用の正解ラベル\n",
    "  \n",
    "- 第1引数：全入力データX\n",
    "- 第2引数：全正解ラベルy\n",
    "- test_size: テスト用の割合\n",
    "- random_state: 乱数列を固定\n",
    "- stratify=y: 元のyの各ラベルの比率を維持するようにtrain/testの分割が行われる"
   ]
  },
  {
   "cell_type": "code",
   "execution_count": 6,
   "id": "7ca44277-50b2-406b-9576-69b4b5c7a4be",
   "metadata": {},
   "outputs": [],
   "source": [
    "X_train, X_test, y_train, y_test = train_test_split(X_dumm, y, test_size=0.3, random_state=7, stratify=y)\n"
   ]
  },
  {
   "cell_type": "code",
   "execution_count": 7,
   "id": "d05bbcda-92a9-41d4-8404-f56641c28ac5",
   "metadata": {},
   "outputs": [
    {
     "name": "stdout",
     "output_type": "stream",
     "text": [
      "(1400, 8)\n",
      "(1400,)\n",
      "HeartDisease\n",
      "0    700\n",
      "1    700\n",
      "Name: count, dtype: int64\n",
      "(600, 8)\n",
      "(600,)\n",
      "HeartDisease\n",
      "0    300\n",
      "1    300\n",
      "Name: count, dtype: int64\n"
     ]
    }
   ],
   "source": [
    "print(X_train.shape)\n",
    "print(y_train.shape)\n",
    "print(y_train.value_counts())\n",
    "\n",
    "\n",
    "print(X_test.shape)\n",
    "print(y_test.shape)\n",
    "print(y_test.value_counts())"
   ]
  },
  {
   "cell_type": "markdown",
   "id": "551545eb-7f51-41cc-b01e-166d79a79e55",
   "metadata": {},
   "source": [
    "### ファイルから訓練用RFCモデルを読み込む\n",
    "load(model_file)で学習済みモデルにする"
   ]
  },
  {
   "cell_type": "code",
   "execution_count": 8,
   "id": "2f7c8a12-c513-417b-ae9e-020bdfb328b0",
   "metadata": {},
   "outputs": [
    {
     "name": "stdout",
     "output_type": "stream",
     "text": [
      "RandomForestClassifier(n_estimators=500, random_state=11)\n"
     ]
    }
   ],
   "source": [
    "tag = \"heart_disease\"\n",
    "\n",
    "model_file = \"rfc_{}.joblib\".format(tag)\n",
    "rfc = load(model_file)\n",
    "print(rfc)"
   ]
  },
  {
   "cell_type": "markdown",
   "id": "3da6b33e-b65a-41ba-a147-a3451fa49155",
   "metadata": {},
   "source": [
    "### テストデータからの予測"
   ]
  },
  {
   "cell_type": "code",
   "execution_count": 10,
   "id": "81e665ef-7b8a-47b1-9090-bfe011db75d1",
   "metadata": {},
   "outputs": [
    {
     "data": {
      "text/html": [
       "<div>\n",
       "<style scoped>\n",
       "    .dataframe tbody tr th:only-of-type {\n",
       "        vertical-align: middle;\n",
       "    }\n",
       "\n",
       "    .dataframe tbody tr th {\n",
       "        vertical-align: top;\n",
       "    }\n",
       "\n",
       "    .dataframe thead th {\n",
       "        text-align: right;\n",
       "    }\n",
       "</style>\n",
       "<table border=\"1\" class=\"dataframe\">\n",
       "  <thead>\n",
       "    <tr style=\"text-align: right;\">\n",
       "      <th>col_0</th>\n",
       "      <th>0</th>\n",
       "      <th>1</th>\n",
       "    </tr>\n",
       "    <tr>\n",
       "      <th>HeartDisease</th>\n",
       "      <th></th>\n",
       "      <th></th>\n",
       "    </tr>\n",
       "  </thead>\n",
       "  <tbody>\n",
       "    <tr>\n",
       "      <th>0</th>\n",
       "      <td>229</td>\n",
       "      <td>71</td>\n",
       "    </tr>\n",
       "    <tr>\n",
       "      <th>1</th>\n",
       "      <td>92</td>\n",
       "      <td>208</td>\n",
       "    </tr>\n",
       "  </tbody>\n",
       "</table>\n",
       "</div>"
      ],
      "text/plain": [
       "col_0           0    1\n",
       "HeartDisease          \n",
       "0             229   71\n",
       "1              92  208"
      ]
     },
     "metadata": {},
     "output_type": "display_data"
    }
   ],
   "source": [
    "y_test_pred = rfc.predict(X_test)\n",
    "display(pd.crosstab(y_test, y_test_pred))\n"
   ]
  },
  {
   "cell_type": "code",
   "execution_count": 11,
   "id": "7b85a632-f2a6-4c63-a708-0939a1ace7dd",
   "metadata": {},
   "outputs": [
    {
     "name": "stdout",
     "output_type": "stream",
     "text": [
      "Accuracy for test data:  0.7283333333333334\n"
     ]
    }
   ],
   "source": [
    "acc = accuracy_score(y_test, y_test_pred)\n",
    "print(\"Accuracy for test data: \",acc)"
   ]
  },
  {
   "cell_type": "code",
   "execution_count": 12,
   "id": "f3684bc6-99eb-44f7-952a-fcb2a056da3d",
   "metadata": {},
   "outputs": [
    {
     "name": "stdout",
     "output_type": "stream",
     "text": [
      "X for prediction:\n"
     ]
    },
    {
     "data": {
      "text/html": [
       "<div>\n",
       "<style scoped>\n",
       "    .dataframe tbody tr th:only-of-type {\n",
       "        vertical-align: middle;\n",
       "    }\n",
       "\n",
       "    .dataframe tbody tr th {\n",
       "        vertical-align: top;\n",
       "    }\n",
       "\n",
       "    .dataframe thead th {\n",
       "        text-align: right;\n",
       "    }\n",
       "</style>\n",
       "<table border=\"1\" class=\"dataframe\">\n",
       "  <thead>\n",
       "    <tr style=\"text-align: right;\">\n",
       "      <th></th>\n",
       "      <th>BMI</th>\n",
       "      <th>Smoking</th>\n",
       "      <th>AlcoholDrinking</th>\n",
       "      <th>Stroke</th>\n",
       "      <th>AgeCategory</th>\n",
       "      <th>GenHealth</th>\n",
       "      <th>SleepTime</th>\n",
       "      <th>M/F_M</th>\n",
       "    </tr>\n",
       "  </thead>\n",
       "  <tbody>\n",
       "    <tr>\n",
       "      <th>0</th>\n",
       "      <td>20.0</td>\n",
       "      <td>0</td>\n",
       "      <td>1</td>\n",
       "      <td>0</td>\n",
       "      <td>0</td>\n",
       "      <td>4</td>\n",
       "      <td>8.0</td>\n",
       "      <td>0</td>\n",
       "    </tr>\n",
       "    <tr>\n",
       "      <th>1</th>\n",
       "      <td>70.0</td>\n",
       "      <td>1</td>\n",
       "      <td>0</td>\n",
       "      <td>1</td>\n",
       "      <td>12</td>\n",
       "      <td>0</td>\n",
       "      <td>4.0</td>\n",
       "      <td>1</td>\n",
       "    </tr>\n",
       "  </tbody>\n",
       "</table>\n",
       "</div>"
      ],
      "text/plain": [
       "    BMI  Smoking  AlcoholDrinking  Stroke  AgeCategory  GenHealth  SleepTime  \\\n",
       "0  20.0        0                1       0            0          4        8.0   \n",
       "1  70.0        1                0       1           12          0        4.0   \n",
       "\n",
       "   M/F_M  \n",
       "0      0  \n",
       "1      1  "
      ]
     },
     "metadata": {},
     "output_type": "display_data"
    }
   ],
   "source": [
    "X_test2 = pd.DataFrame([ [20.0, 0, 1, 0, 0, 4, 8.0, 0],\n",
    "                         [70.0, 1, 0, 1, 12, 0, 4.0, 1],\n",
    "                       ],\n",
    "                       columns=X_dumm.columns)  # example\n",
    "print('X for prediction:')\n",
    "display(X_test2)"
   ]
  },
  {
   "cell_type": "code",
   "execution_count": 13,
   "id": "4725ca07-9488-4eac-86e4-54bcf592a0a0",
   "metadata": {},
   "outputs": [
    {
     "name": "stdout",
     "output_type": "stream",
     "text": [
      "[[0.996 0.004]\n",
      " [0.078 0.922]]\n",
      "[0 1]\n"
     ]
    }
   ],
   "source": [
    "y_test_pred_proba2 = rfc.predict_proba(X_test2)\n",
    "y_test_pred2 = rfc.predict(X_test2)\n",
    "print(y_test_pred_proba2)\n",
    "print(y_test_pred2)"
   ]
  },
  {
   "cell_type": "code",
   "execution_count": null,
   "id": "a66156d0-05dc-496a-960e-54c1f1c3cf2a",
   "metadata": {},
   "outputs": [],
   "source": []
  }
 ],
 "metadata": {
  "kernelspec": {
   "display_name": "Python 3 (ipykernel)",
   "language": "python",
   "name": "python3"
  },
  "language_info": {
   "codemirror_mode": {
    "name": "ipython",
    "version": 3
   },
   "file_extension": ".py",
   "mimetype": "text/x-python",
   "name": "python",
   "nbconvert_exporter": "python",
   "pygments_lexer": "ipython3",
   "version": "3.9.15"
  }
 },
 "nbformat": 4,
 "nbformat_minor": 5
}
