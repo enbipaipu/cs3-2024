{
 "cells": [
  {
   "cell_type": "markdown",
   "id": "9462a8b2-b777-43d2-bb11-7a2c7d855a8d",
   "metadata": {},
   "source": [
    "### ファイルとディレクトリ"
   ]
  },
  {
   "cell_type": "code",
   "execution_count": 1,
   "id": "34a2fed4-f5f6-4ead-9bc9-ef90911f5e5a",
   "metadata": {},
   "outputs": [],
   "source": [
    "import os, shutil, glob"
   ]
  },
  {
   "cell_type": "code",
   "execution_count": 2,
   "id": "703d4286-7321-4024-a42c-a15d9554e6e0",
   "metadata": {},
   "outputs": [],
   "source": [
    "d = 'dir1'"
   ]
  },
  {
   "cell_type": "markdown",
   "id": "b0613935-3578-4faf-9ff3-87e8dff36b16",
   "metadata": {},
   "source": [
    "### dirが存在するとき、ファイルを削除"
   ]
  },
  {
   "cell_type": "code",
   "execution_count": 3,
   "id": "e57fbf4c-74cf-48ec-b969-85822ec0f848",
   "metadata": {},
   "outputs": [],
   "source": [
    "if os.path.isdir(d):\n",
    "    shutil.rmtree(d)"
   ]
  },
  {
   "cell_type": "markdown",
   "id": "66a94d6b-74c4-42df-acac-d3ecc23ced3e",
   "metadata": {},
   "source": [
    "### dirを作成し、その中にファイルを入れる"
   ]
  },
  {
   "cell_type": "code",
   "execution_count": 5,
   "id": "31749e91-8b9c-42b2-a594-fa63040fa36d",
   "metadata": {},
   "outputs": [
    {
     "name": "stdout",
     "output_type": "stream",
     "text": [
      "dir1\\file0.txt\n",
      "dir1\\file1.txt\n",
      "dir1\\file2.txt\n",
      "dir1\\file3.txt\n"
     ]
    }
   ],
   "source": [
    "os.makedirs(d)\n",
    "for i in range(4):\n",
    "    file = 'file{}.txt'.format(i)\n",
    "    file_path = os.path.join(d, file)\n",
    "    print(file_path)\n",
    "    with open(file_path, 'w') as f:\n",
    "        f.write('Top line of {}\\n'.format(file))\n",
    "        f.write('Second line of {}\\n'.format(file))\n",
    "        "
   ]
  },
  {
   "cell_type": "markdown",
   "id": "864c5c8d-c4a1-4fe5-9346-c0584abeaf65",
   "metadata": {},
   "source": [
    "### dirからファイルを読み込む"
   ]
  },
  {
   "cell_type": "code",
   "execution_count": 7,
   "id": "74ee1859-28b5-4962-88c3-7a877af201cf",
   "metadata": {},
   "outputs": [
    {
     "name": "stdout",
     "output_type": "stream",
     "text": [
      "dir1\\file0.txt\n",
      "Top line of file0.txt\n",
      "Second line of file0.txt\n",
      "dir1\\file1.txt\n",
      "Top line of file1.txt\n",
      "Second line of file1.txt\n",
      "dir1\\file2.txt\n",
      "Top line of file2.txt\n",
      "Second line of file2.txt\n",
      "dir1\\file3.txt\n",
      "Top line of file3.txt\n",
      "Second line of file3.txt\n"
     ]
    }
   ],
   "source": [
    "file_pat = '{}/*.txt'.format(d)\n",
    "for file_path in glob.glob(file_pat):\n",
    "    print(file_path)\n",
    "    with open(file_path, 'r') as f:\n",
    "        for line in f:\n",
    "            print(line, end=\"\")"
   ]
  },
  {
   "cell_type": "markdown",
   "id": "3aa40a4f-cee1-402d-8919-86a3a6a7c557",
   "metadata": {},
   "source": [
    "### ファイルとディレクトリのパス名操作"
   ]
  },
  {
   "cell_type": "markdown",
   "id": "7d04bf9d-398d-4f06-bd0e-c8b3d8e7bbae",
   "metadata": {},
   "source": [
    "os.path.abspath(path)\n",
    "- パス名の絶対パスを返す\n",
    "\n",
    "os.path.basename(path)\n",
    "- パス名の末尾のファイル名を返す\n",
    "\n",
    "os.path.dirname(path)\n",
    "- パス名の中のディレクトリ名だけを返す\n",
    "\n",
    "os.path.splitext(path)\n",
    "- パス名を拡張子部分とそれ以外に分ける\n",
    "\n",
    "os.path.exists(path)\n",
    "- パス名が指すファイルが存在したらTrue\n",
    "\n",
    "os.path.isfile(path)\n",
    "- パス名が 存在する一般ファイル ならTrue\n",
    "\n",
    "os.path.isdir(path)\n",
    "- パス名が存在するディレクトリならtrue\n",
    "\n",
    "os.path.join(path1, path2, ...)\n",
    "- 複数のパス名を結合したパス名を返す"
   ]
  },
  {
   "cell_type": "markdown",
   "id": "ecca6a42-dc27-466d-b31f-a0e7d225a2aa",
   "metadata": {},
   "source": [
    "### ディレクトリ・ファイルの作成・削除"
   ]
  },
  {
   "cell_type": "markdown",
   "id": "a512f066-eacc-451b-952b-2448211ff248",
   "metadata": {},
   "source": [
    "os.makedirs(dir)\n",
    "- dirディレクトリを作成\n",
    "\n",
    "shutil.rmtree(dir)\n",
    "- dirディレクトリを削除\n",
    "\n",
    "os.remove(path)\n",
    "- ファイルを削除\n",
    "\n",
    "os.rename(old_path, new_path)\n",
    "- old_pathからnew_pathに名前を変更"
   ]
  },
  {
   "cell_type": "markdown",
   "id": "b195207a-8d07-4725-b43d-d4ee43f0e298",
   "metadata": {},
   "source": [
    "### globを使用したファイル群取得"
   ]
  },
  {
   "cell_type": "markdown",
   "id": "0ca94162-b915-489e-abb0-5bc2a1767e13",
   "metadata": {},
   "source": [
    "glob.glob(pathのパターン)\n",
    "- $*$ : 0文字以上の任意の文字\n",
    "- ? : 任意の文字１文字\n",
    "- [a-z] : a~zまでの任意の文字１つ\n",
    "- [0-9] : 0-9までの任意の数字１つ"
   ]
  },
  {
   "cell_type": "markdown",
   "id": "cd290091-9f18-41d3-9b31-24603b218521",
   "metadata": {},
   "source": [
    "### ファイルへの書き込みと読み込み"
   ]
  },
  {
   "cell_type": "markdown",
   "id": "4af31506-c631-40b7-b800-7ab049097906",
   "metadata": {},
   "source": [
    "with open(\"file.txt\", \"w\") as f  \n",
    "    f.write(\"hello\")　＜－helloを書き込む  \n",
    "\n",
    "with open(\"file.txt\", \"r\") as f  \n",
    "    for line in f:  \n",
    "    print(line, end=\"\")  "
   ]
  },
  {
   "cell_type": "code",
   "execution_count": null,
   "id": "32a4b0e3-95fb-46b5-9ac5-b01adc17ede2",
   "metadata": {},
   "outputs": [],
   "source": []
  }
 ],
 "metadata": {
  "kernelspec": {
   "display_name": "Python 3 (ipykernel)",
   "language": "python",
   "name": "python3"
  },
  "language_info": {
   "codemirror_mode": {
    "name": "ipython",
    "version": 3
   },
   "file_extension": ".py",
   "mimetype": "text/x-python",
   "name": "python",
   "nbconvert_exporter": "python",
   "pygments_lexer": "ipython3",
   "version": "3.9.15"
  }
 },
 "nbformat": 4,
 "nbformat_minor": 5
}
