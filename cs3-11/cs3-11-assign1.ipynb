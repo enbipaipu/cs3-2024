{
 "cells": [
  {
   "cell_type": "code",
   "execution_count": 1,
   "id": "0b25611a-df99-480b-a0b6-19a203f88698",
   "metadata": {},
   "outputs": [],
   "source": [
    "import os, shutil, glob"
   ]
  },
  {
   "cell_type": "markdown",
   "id": "b683f1b3-2e7f-4d06-912c-1812f7f07183",
   "metadata": {},
   "source": [
    "### 1"
   ]
  },
  {
   "cell_type": "code",
   "execution_count": 2,
   "id": "f4824b04-b13e-4b12-9b90-e7607faabda2",
   "metadata": {},
   "outputs": [],
   "source": [
    "d = \"num\"\n",
    "if os.path.isdir(d):\n",
    "    shutil.rmtree(d)"
   ]
  },
  {
   "cell_type": "markdown",
   "id": "d3294e36-2962-40ef-a06f-a0f4d504214d",
   "metadata": {},
   "source": [
    "###　2"
   ]
  },
  {
   "cell_type": "code",
   "execution_count": 3,
   "id": "16bdda8a-2e51-429a-a53c-3435ea35b8db",
   "metadata": {},
   "outputs": [
    {
     "name": "stdout",
     "output_type": "stream",
     "text": [
      "num\\1.txt\n",
      "num\\2.txt\n",
      "num\\3.txt\n",
      "num\\4.txt\n",
      "num\\5.txt\n"
     ]
    }
   ],
   "source": [
    "os.makedirs(d)\n",
    "for i in range(1, 6):\n",
    "    file = '{}.txt'.format(i)\n",
    "    file_path = os.path.join(d, file)\n",
    "    print(file_path)\n",
    "    with open(file_path, 'w') as f:\n",
    "        f.write('{}\\n'.format(i))"
   ]
  },
  {
   "cell_type": "markdown",
   "id": "48830ecf-3a6a-43a6-a89e-f152007b204e",
   "metadata": {},
   "source": [
    "### 3 "
   ]
  },
  {
   "cell_type": "code",
   "execution_count": 5,
   "id": "2fa418ab-5715-4dac-90fd-3dc397567fff",
   "metadata": {},
   "outputs": [],
   "source": [
    "file_pat = '{}/*.txt'.format(d)\n",
    "SUM = 0\n",
    "for file_path in glob.glob(file_pat):\n",
    "    with open(file_path, 'r') as f:\n",
    "        for line in f:\n",
    "            SUM += int(line)"
   ]
  },
  {
   "cell_type": "markdown",
   "id": "49f67f26-ad80-40b7-b6c0-730b2748e848",
   "metadata": {},
   "source": [
    "### 4"
   ]
  },
  {
   "cell_type": "code",
   "execution_count": 6,
   "id": "69d7b4ff-7b84-4ef7-a636-1fbc10862494",
   "metadata": {},
   "outputs": [
    {
     "name": "stdout",
     "output_type": "stream",
     "text": [
      "15\n"
     ]
    }
   ],
   "source": [
    "print(SUM)"
   ]
  },
  {
   "cell_type": "code",
   "execution_count": null,
   "id": "2739c8e3-4d0f-4c3a-acf6-ac918c31e2d9",
   "metadata": {},
   "outputs": [],
   "source": []
  }
 ],
 "metadata": {
  "kernelspec": {
   "display_name": "Python 3 (ipykernel)",
   "language": "python",
   "name": "python3"
  },
  "language_info": {
   "codemirror_mode": {
    "name": "ipython",
    "version": 3
   },
   "file_extension": ".py",
   "mimetype": "text/x-python",
   "name": "python",
   "nbconvert_exporter": "python",
   "pygments_lexer": "ipython3",
   "version": "3.9.15"
  }
 },
 "nbformat": 4,
 "nbformat_minor": 5
}
