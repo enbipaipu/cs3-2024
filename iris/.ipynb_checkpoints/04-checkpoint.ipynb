{
 "cells": [
  {
   "cell_type": "code",
   "execution_count": 40,
   "id": "6340c05d-6fc9-4981-9bf3-c6f2d7d9b01d",
   "metadata": {},
   "outputs": [],
   "source": [
    "import pandas as pd\n",
    "import matplotlib.pyplot as plt\n",
    "import numpy as np"
   ]
  },
  {
   "cell_type": "code",
   "execution_count": 2,
   "id": "0d45d4e4-a8ed-418c-b465-e2a8416f9ed9",
   "metadata": {},
   "outputs": [
    {
     "name": "stdout",
     "output_type": "stream",
     "text": [
      "(150, 5)\n",
      "<class 'pandas.core.frame.DataFrame'>\n",
      "RangeIndex: 150 entries, 0 to 149\n",
      "Data columns (total 5 columns):\n",
      " #   Column        Non-Null Count  Dtype  \n",
      "---  ------        --------------  -----  \n",
      " 0   sepal.length  150 non-null    float64\n",
      " 1   sepal.width   150 non-null    float64\n",
      " 2   petal.length  150 non-null    float64\n",
      " 3   petal.width   150 non-null    float64\n",
      " 4   variety       150 non-null    object \n",
      "dtypes: float64(4), object(1)\n",
      "memory usage: 6.0+ KB\n",
      "None\n"
     ]
    },
    {
     "data": {
      "text/html": [
       "<div>\n",
       "<style scoped>\n",
       "    .dataframe tbody tr th:only-of-type {\n",
       "        vertical-align: middle;\n",
       "    }\n",
       "\n",
       "    .dataframe tbody tr th {\n",
       "        vertical-align: top;\n",
       "    }\n",
       "\n",
       "    .dataframe thead th {\n",
       "        text-align: right;\n",
       "    }\n",
       "</style>\n",
       "<table border=\"1\" class=\"dataframe\">\n",
       "  <thead>\n",
       "    <tr style=\"text-align: right;\">\n",
       "      <th></th>\n",
       "      <th>sepal.length</th>\n",
       "      <th>sepal.width</th>\n",
       "      <th>petal.length</th>\n",
       "      <th>petal.width</th>\n",
       "      <th>variety</th>\n",
       "    </tr>\n",
       "  </thead>\n",
       "  <tbody>\n",
       "    <tr>\n",
       "      <th>0</th>\n",
       "      <td>5.1</td>\n",
       "      <td>3.5</td>\n",
       "      <td>1.4</td>\n",
       "      <td>0.2</td>\n",
       "      <td>Setosa</td>\n",
       "    </tr>\n",
       "    <tr>\n",
       "      <th>1</th>\n",
       "      <td>4.9</td>\n",
       "      <td>3.0</td>\n",
       "      <td>1.4</td>\n",
       "      <td>0.2</td>\n",
       "      <td>Setosa</td>\n",
       "    </tr>\n",
       "    <tr>\n",
       "      <th>2</th>\n",
       "      <td>4.7</td>\n",
       "      <td>3.2</td>\n",
       "      <td>1.3</td>\n",
       "      <td>0.2</td>\n",
       "      <td>Setosa</td>\n",
       "    </tr>\n",
       "    <tr>\n",
       "      <th>3</th>\n",
       "      <td>4.6</td>\n",
       "      <td>3.1</td>\n",
       "      <td>1.5</td>\n",
       "      <td>0.2</td>\n",
       "      <td>Setosa</td>\n",
       "    </tr>\n",
       "    <tr>\n",
       "      <th>4</th>\n",
       "      <td>5.0</td>\n",
       "      <td>3.6</td>\n",
       "      <td>1.4</td>\n",
       "      <td>0.2</td>\n",
       "      <td>Setosa</td>\n",
       "    </tr>\n",
       "  </tbody>\n",
       "</table>\n",
       "</div>"
      ],
      "text/plain": [
       "   sepal.length  sepal.width  petal.length  petal.width variety\n",
       "0           5.1          3.5           1.4          0.2  Setosa\n",
       "1           4.9          3.0           1.4          0.2  Setosa\n",
       "2           4.7          3.2           1.3          0.2  Setosa\n",
       "3           4.6          3.1           1.5          0.2  Setosa\n",
       "4           5.0          3.6           1.4          0.2  Setosa"
      ]
     },
     "metadata": {},
     "output_type": "display_data"
    }
   ],
   "source": [
    "df = pd.read_csv(\"iris.csv\", sep=\",\")\n",
    "print(df.shape)\n",
    "print(df.info())\n",
    "display(df.head())"
   ]
  },
  {
   "cell_type": "code",
   "execution_count": 8,
   "id": "75ba1ce7-f536-4769-8335-61d02dea72e1",
   "metadata": {},
   "outputs": [
    {
     "name": "stdout",
     "output_type": "stream",
     "text": [
      "variety\n",
      "Setosa        50\n",
      "Versicolor    50\n",
      "Virginica     50\n",
      "Name: count, dtype: int64\n"
     ]
    }
   ],
   "source": [
    "print(df[\"variety\"].value_counts())"
   ]
  },
  {
   "cell_type": "code",
   "execution_count": 9,
   "id": "e10aecb9-bdb3-464e-9765-273c8f49f325",
   "metadata": {},
   "outputs": [],
   "source": [
    "df_setosa = df[df[\"variety\"]==\"Setosa\"]\n",
    "df_Versicolor = df[df[\"variety\"]==\"Versicolor\"]\n",
    "df_Virginica = df[df[\"variety\"]==\"Virginica\"]"
   ]
  },
  {
   "cell_type": "code",
   "execution_count": 37,
   "id": "a9a61a4f-7c22-4433-b8b3-cb1f3af8664b",
   "metadata": {},
   "outputs": [
    {
     "data": {
      "text/html": [
       "<div>\n",
       "<style scoped>\n",
       "    .dataframe tbody tr th:only-of-type {\n",
       "        vertical-align: middle;\n",
       "    }\n",
       "\n",
       "    .dataframe tbody tr th {\n",
       "        vertical-align: top;\n",
       "    }\n",
       "\n",
       "    .dataframe thead th {\n",
       "        text-align: right;\n",
       "    }\n",
       "</style>\n",
       "<table border=\"1\" class=\"dataframe\">\n",
       "  <thead>\n",
       "    <tr style=\"text-align: right;\">\n",
       "      <th></th>\n",
       "      <th>sepal.length</th>\n",
       "      <th>sepal.width</th>\n",
       "      <th>petal.length</th>\n",
       "      <th>petal.width</th>\n",
       "    </tr>\n",
       "  </thead>\n",
       "  <tbody>\n",
       "    <tr>\n",
       "      <th>setosa</th>\n",
       "      <td>5.006</td>\n",
       "      <td>3.428</td>\n",
       "      <td>1.462</td>\n",
       "      <td>0.246</td>\n",
       "    </tr>\n",
       "    <tr>\n",
       "      <th>versicolor</th>\n",
       "      <td>5.936</td>\n",
       "      <td>2.770</td>\n",
       "      <td>4.260</td>\n",
       "      <td>1.326</td>\n",
       "    </tr>\n",
       "    <tr>\n",
       "      <th>virginica</th>\n",
       "      <td>6.588</td>\n",
       "      <td>2.974</td>\n",
       "      <td>5.552</td>\n",
       "      <td>2.026</td>\n",
       "    </tr>\n",
       "  </tbody>\n",
       "</table>\n",
       "</div>"
      ],
      "text/plain": [
       "            sepal.length  sepal.width  petal.length  petal.width\n",
       "setosa             5.006        3.428         1.462        0.246\n",
       "versicolor         5.936        2.770         4.260        1.326\n",
       "virginica          6.588        2.974         5.552        2.026"
      ]
     },
     "metadata": {},
     "output_type": "display_data"
    }
   ],
   "source": [
    "df_length_mean = []\n",
    "\n",
    "df_length_mean.append([df_setosa[\"sepal.length\"].mean(),df_setosa[\"sepal.width\"].mean(), \n",
    "                       df_setosa[\"petal.length\"].mean(), df_setosa[\"petal.width\"].mean()])\n",
    "\n",
    "df_length_mean.append([df_Versicolor[\"sepal.length\"].mean(),df_Versicolor[\"sepal.width\"].mean(), \n",
    "                       df_Versicolor[\"petal.length\"].mean(), df_Versicolor[\"petal.width\"].mean()])\n",
    "\n",
    "df_length_mean.append([df_Virginica[\"sepal.length\"].mean(),df_Virginica[\"sepal.width\"].mean(), \n",
    "                       df_Virginica[\"petal.length\"].mean(), df_Virginica[\"petal.width\"].mean()])\n",
    "    \n",
    "dff = pd.DataFrame(data=df_length_mean, index=[\"setosa\", \"versicolor\", \"virginica\"],\n",
    "                   columns=[\"sepal.length\",\"sepal.width\", \"petal.length\", \"petal.width\"])\n",
    "display(dff)"
   ]
  },
  {
   "cell_type": "code",
   "execution_count": 38,
   "id": "0a2f3923-5a3c-48d6-a193-dbea5cef87f3",
   "metadata": {},
   "outputs": [
    {
     "name": "stdout",
     "output_type": "stream",
     "text": [
      "            sepal.length  sepal.width  petal.length  petal.width\n",
      "setosa             5.006        3.428         1.462        0.246\n",
      "versicolor         5.936        2.770         4.260        1.326\n",
      "virginica          6.588        2.974         5.552        2.026\n"
     ]
    }
   ],
   "source": [
    "print(dff)"
   ]
  },
  {
   "cell_type": "code",
   "execution_count": 55,
   "id": "4de10d18-d1d6-4b97-8588-8935e73286de",
   "metadata": {},
   "outputs": [
    {
     "name": "stdout",
     "output_type": "stream",
     "text": [
      "Index(['sepal.length', 'sepal.width', 'petal.length', 'petal.width'], dtype='object')\n",
      "        sepal.length  sepal.width  petal.length  petal.width\n",
      "setosa         5.006        3.428         1.462        0.246\n"
     ]
    }
   ],
   "source": [
    "x = dff.columns\n",
    "he = dff[dff.index==\"setosa\"]\n",
    "print(x)\n",
    "print(he)"
   ]
  },
  {
   "cell_type": "code",
   "execution_count": 60,
   "id": "78b227c6-f6a5-4255-98f3-172bea368815",
   "metadata": {},
   "outputs": [
    {
     "data": {
      "image/png": "[encoded data removed]",
      "text/plain": [
       "<Figure size 640x480 with 1 Axes>"
      ]
     },
     "metadata": {},
     "output_type": "display_data"
    }
   ],
   "source": [
    "\n",
    "x = dff.columns\n",
    "width = 0.25\n",
    "\n",
    "x_axis = np.arange(len(x))\n",
    "plt.bar(x_axis - width, dff.iloc[0], width=width, label='Setosa')\n",
    "plt.bar(x_axis, dff.iloc[1], width=width, label='Versicolor')  \n",
    "plt.bar(x_axis + width, dff.iloc[2], width=width, label='Virginica')\n",
    "\n",
    "plt.xlabel('Features')\n",
    "plt.ylabel('Values')  \n",
    "plt.title('Measurements')\n",
    "plt.xticks(x_axis, x)\n",
    "plt.legend()\n",
    "plt.show()\n"
   ]
  },
  {
   "cell_type": "code",
   "execution_count": null,
   "id": "bb7af9fa-9d29-4ebe-b7c8-20ee6a9a61d9",
   "metadata": {},
   "outputs": [],
   "source": []
  }
 ],
 "metadata": {
  "kernelspec": {
   "display_name": "Python 3 (ipykernel)",
   "language": "python",
   "name": "python3"
  },
  "language_info": {
   "codemirror_mode": {
    "name": "ipython",
    "version": 3
   },
   "file_extension": ".py",
   "mimetype": "text/x-python",
   "name": "python",
   "nbconvert_exporter": "python",
   "pygments_lexer": "ipython3",
   "version": "3.9.15"
  }
 },
 "nbformat": 4,
 "nbformat_minor": 5
}
