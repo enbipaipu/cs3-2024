{
 "cells": [
  {
   "cell_type": "code",
   "execution_count": 1,
   "id": "9c67dc99-1de7-4f19-9b9e-bc1722e66d0d",
   "metadata": {},
   "outputs": [],
   "source": [
    "import numpy as np\n",
    "import pandas as pd\n",
    "import matplotlib.pyplot as plt\n",
    "import seaborn as sns\n",
    "import statsmodels.api as sm\n",
    "from sklearn.preprocessing import scale\n",
    "from sklearn.metrics import accuracy_score"
   ]
  },
  {
   "cell_type": "code",
   "execution_count": 2,
   "id": "be1d9663-5fee-48f8-8b4a-17a98ca5e4ce",
   "metadata": {},
   "outputs": [
    {
     "name": "stdout",
     "output_type": "stream",
     "text": [
      "(20, 4)\n",
      "<class 'pandas.core.frame.DataFrame'>\n",
      "RangeIndex: 20 entries, 0 to 19\n",
      "Data columns (total 4 columns):\n",
      " #   Column   Non-Null Count  Dtype  \n",
      "---  ------   --------------  -----  \n",
      " 0   ID       20 non-null     int64  \n",
      " 1   Alcohol  20 non-null     float64\n",
      " 2   Smoking  20 non-null     int64  \n",
      " 3   Stroke   20 non-null     int64  \n",
      "dtypes: float64(1), int64(3)\n",
      "memory usage: 768.0 bytes\n",
      "None\n"
     ]
    },
    {
     "data": {
      "text/html": [
       "<div>\n",
       "<style scoped>\n",
       "    .dataframe tbody tr th:only-of-type {\n",
       "        vertical-align: middle;\n",
       "    }\n",
       "\n",
       "    .dataframe tbody tr th {\n",
       "        vertical-align: top;\n",
       "    }\n",
       "\n",
       "    .dataframe thead th {\n",
       "        text-align: right;\n",
       "    }\n",
       "</style>\n",
       "<table border=\"1\" class=\"dataframe\">\n",
       "  <thead>\n",
       "    <tr style=\"text-align: right;\">\n",
       "      <th></th>\n",
       "      <th>ID</th>\n",
       "      <th>Alcohol</th>\n",
       "      <th>Smoking</th>\n",
       "      <th>Stroke</th>\n",
       "    </tr>\n",
       "  </thead>\n",
       "  <tbody>\n",
       "    <tr>\n",
       "      <th>0</th>\n",
       "      <td>1</td>\n",
       "      <td>1.3</td>\n",
       "      <td>2</td>\n",
       "      <td>1</td>\n",
       "    </tr>\n",
       "    <tr>\n",
       "      <th>1</th>\n",
       "      <td>2</td>\n",
       "      <td>0.9</td>\n",
       "      <td>0</td>\n",
       "      <td>0</td>\n",
       "    </tr>\n",
       "    <tr>\n",
       "      <th>2</th>\n",
       "      <td>3</td>\n",
       "      <td>0.7</td>\n",
       "      <td>3</td>\n",
       "      <td>1</td>\n",
       "    </tr>\n",
       "    <tr>\n",
       "      <th>3</th>\n",
       "      <td>4</td>\n",
       "      <td>0.8</td>\n",
       "      <td>0</td>\n",
       "      <td>0</td>\n",
       "    </tr>\n",
       "    <tr>\n",
       "      <th>4</th>\n",
       "      <td>5</td>\n",
       "      <td>1.7</td>\n",
       "      <td>3</td>\n",
       "      <td>1</td>\n",
       "    </tr>\n",
       "  </tbody>\n",
       "</table>\n",
       "</div>"
      ],
      "text/plain": [
       "   ID  Alcohol  Smoking  Stroke\n",
       "0   1      1.3        2       1\n",
       "1   2      0.9        0       0\n",
       "2   3      0.7        3       1\n",
       "3   4      0.8        0       0\n",
       "4   5      1.7        3       1"
      ]
     },
     "metadata": {},
     "output_type": "display_data"
    }
   ],
   "source": [
    "df = pd.read_csv(\"Stroke_small.csv\")\n",
    "print(df.shape)\n",
    "print(df.info())\n",
    "display(df.head())"
   ]
  },
  {
   "cell_type": "markdown",
   "id": "300e20d1-47d0-4228-855d-545af749d5f5",
   "metadata": {},
   "source": [
    "### 1"
   ]
  },
  {
   "cell_type": "code",
   "execution_count": 3,
   "id": "203fd810-d9c7-4bfe-a4b0-55093df588e0",
   "metadata": {},
   "outputs": [
    {
     "data": {
      "text/html": [
       "<div>\n",
       "<style scoped>\n",
       "    .dataframe tbody tr th:only-of-type {\n",
       "        vertical-align: middle;\n",
       "    }\n",
       "\n",
       "    .dataframe tbody tr th {\n",
       "        vertical-align: top;\n",
       "    }\n",
       "\n",
       "    .dataframe thead th {\n",
       "        text-align: right;\n",
       "    }\n",
       "</style>\n",
       "<table border=\"1\" class=\"dataframe\">\n",
       "  <thead>\n",
       "    <tr style=\"text-align: right;\">\n",
       "      <th></th>\n",
       "      <th>Alcohol</th>\n",
       "      <th>Smoking</th>\n",
       "      <th>Stroke</th>\n",
       "    </tr>\n",
       "  </thead>\n",
       "  <tbody>\n",
       "    <tr>\n",
       "      <th>0</th>\n",
       "      <td>1.3</td>\n",
       "      <td>2</td>\n",
       "      <td>1</td>\n",
       "    </tr>\n",
       "    <tr>\n",
       "      <th>1</th>\n",
       "      <td>0.9</td>\n",
       "      <td>0</td>\n",
       "      <td>0</td>\n",
       "    </tr>\n",
       "    <tr>\n",
       "      <th>2</th>\n",
       "      <td>0.7</td>\n",
       "      <td>3</td>\n",
       "      <td>1</td>\n",
       "    </tr>\n",
       "    <tr>\n",
       "      <th>3</th>\n",
       "      <td>0.8</td>\n",
       "      <td>0</td>\n",
       "      <td>0</td>\n",
       "    </tr>\n",
       "    <tr>\n",
       "      <th>4</th>\n",
       "      <td>1.7</td>\n",
       "      <td>3</td>\n",
       "      <td>1</td>\n",
       "    </tr>\n",
       "  </tbody>\n",
       "</table>\n",
       "</div>"
      ],
      "text/plain": [
       "   Alcohol  Smoking  Stroke\n",
       "0      1.3        2       1\n",
       "1      0.9        0       0\n",
       "2      0.7        3       1\n",
       "3      0.8        0       0\n",
       "4      1.7        3       1"
      ]
     },
     "metadata": {},
     "output_type": "display_data"
    }
   ],
   "source": [
    "df = df.loc[:, \"Alcohol\":]\n",
    "display(df.head())"
   ]
  },
  {
   "cell_type": "markdown",
   "id": "bd3dc039-3659-4543-9fae-855ad195e292",
   "metadata": {},
   "source": [
    "### 2"
   ]
  },
  {
   "cell_type": "code",
   "execution_count": 4,
   "id": "c2f00ba6-f871-4ab2-9317-3fe09f301132",
   "metadata": {},
   "outputs": [
    {
     "data": {
      "text/html": [
       "<div>\n",
       "<style scoped>\n",
       "    .dataframe tbody tr th:only-of-type {\n",
       "        vertical-align: middle;\n",
       "    }\n",
       "\n",
       "    .dataframe tbody tr th {\n",
       "        vertical-align: top;\n",
       "    }\n",
       "\n",
       "    .dataframe thead th {\n",
       "        text-align: right;\n",
       "    }\n",
       "</style>\n",
       "<table border=\"1\" class=\"dataframe\">\n",
       "  <thead>\n",
       "    <tr style=\"text-align: right;\">\n",
       "      <th></th>\n",
       "      <th>Alcohol</th>\n",
       "      <th>Smoking</th>\n",
       "    </tr>\n",
       "  </thead>\n",
       "  <tbody>\n",
       "    <tr>\n",
       "      <th>0</th>\n",
       "      <td>1.3</td>\n",
       "      <td>2</td>\n",
       "    </tr>\n",
       "    <tr>\n",
       "      <th>1</th>\n",
       "      <td>0.9</td>\n",
       "      <td>0</td>\n",
       "    </tr>\n",
       "    <tr>\n",
       "      <th>2</th>\n",
       "      <td>0.7</td>\n",
       "      <td>3</td>\n",
       "    </tr>\n",
       "    <tr>\n",
       "      <th>3</th>\n",
       "      <td>0.8</td>\n",
       "      <td>0</td>\n",
       "    </tr>\n",
       "    <tr>\n",
       "      <th>4</th>\n",
       "      <td>1.7</td>\n",
       "      <td>3</td>\n",
       "    </tr>\n",
       "  </tbody>\n",
       "</table>\n",
       "</div>"
      ],
      "text/plain": [
       "   Alcohol  Smoking\n",
       "0      1.3        2\n",
       "1      0.9        0\n",
       "2      0.7        3\n",
       "3      0.8        0\n",
       "4      1.7        3"
      ]
     },
     "metadata": {},
     "output_type": "display_data"
    },
    {
     "data": {
      "text/plain": [
       "0    1\n",
       "1    0\n",
       "2    1\n",
       "3    0\n",
       "4    1\n",
       "Name: Stroke, dtype: int64"
      ]
     },
     "metadata": {},
     "output_type": "display_data"
    }
   ],
   "source": [
    "X = df[[\"Alcohol\", \"Smoking\"]]\n",
    "display(X.head())\n",
    "\n",
    "y = df[\"Stroke\"]\n",
    "display(y.head())"
   ]
  },
  {
   "cell_type": "markdown",
   "id": "2f7f44f3-78e9-481f-981d-e7d42fd051c0",
   "metadata": {},
   "source": [
    "### 3"
   ]
  },
  {
   "cell_type": "code",
   "execution_count": 5,
   "id": "3196ee55-23cf-430a-88e9-1b0c730bd6cc",
   "metadata": {},
   "outputs": [
    {
     "name": "stdout",
     "output_type": "stream",
     "text": [
      "Stroke\n",
      "0    11\n",
      "1     9\n",
      "Name: count, dtype: int64\n"
     ]
    }
   ],
   "source": [
    "print(y.value_counts())"
   ]
  },
  {
   "cell_type": "markdown",
   "id": "e5aeded3-851d-41a9-b0d9-c28a0c0fff6b",
   "metadata": {},
   "source": [
    "### 4"
   ]
  },
  {
   "cell_type": "code",
   "execution_count": 6,
   "id": "81c5f3e3-4952-4e76-99bf-c407e87f9bb7",
   "metadata": {},
   "outputs": [
    {
     "name": "stdout",
     "output_type": "stream",
     "text": [
      "Optimization terminated successfully.\n",
      "         Current function value: 0.465424\n",
      "         Iterations 6\n",
      "                           Logit Regression Results                           \n",
      "==============================================================================\n",
      "Dep. Variable:                 Stroke   No. Observations:                   20\n",
      "Model:                          Logit   Df Residuals:                       17\n",
      "Method:                           MLE   Df Model:                            2\n",
      "Date:                Fri, 07 Jun 2024   Pseudo R-squ.:                  0.3236\n",
      "Time:                        18:46:59   Log-Likelihood:                -9.3085\n",
      "converged:                       True   LL-Null:                       -13.763\n",
      "Covariance Type:            nonrobust   LLR p-value:                   0.01163\n",
      "==============================================================================\n",
      "                 coef    std err          z      P>|z|      [0.025      0.975]\n",
      "------------------------------------------------------------------------------\n",
      "const         -2.7878      2.005     -1.390      0.164      -6.718       1.143\n",
      "Alcohol        0.3945      1.578      0.250      0.803      -2.697       3.486\n",
      "Smoking        1.3069      0.600      2.179      0.029       0.131       2.483\n",
      "==============================================================================\n"
     ]
    }
   ],
   "source": [
    "X_dumm_c = sm.add_constant(X)\n",
    "model = sm.Logit(y, X_dumm_c)\n",
    "results = model.fit()\n",
    "print(results.summary())"
   ]
  },
  {
   "cell_type": "markdown",
   "id": "39d5c3cb-f748-4911-893b-4ddfa7338d08",
   "metadata": {},
   "source": [
    "### 5"
   ]
  },
  {
   "cell_type": "code",
   "execution_count": 7,
   "id": "c47d841e-fb44-49e8-8ee1-a0572dd26f9a",
   "metadata": {},
   "outputs": [
    {
     "name": "stdout",
     "output_type": "stream",
     "text": [
      "Predicted y: \n",
      "0    0.583928\n",
      "1    0.080715\n",
      "2    0.803621\n",
      "3    0.077835\n",
      "4    0.858590\n",
      "dtype: float64\n",
      "0    1\n",
      "1    0\n",
      "2    1\n",
      "3    0\n",
      "4    1\n",
      "dtype: int32\n"
     ]
    }
   ],
   "source": [
    "y_pred = results.predict(X_dumm_c)\n",
    "print(\"Predicted y: \")\n",
    "print(y_pred.head())\n",
    "y_pred_bin = (y_pred >= 0.5).astype(\"int\")\n",
    "print(y_pred_bin.head())"
   ]
  },
  {
   "cell_type": "code",
   "execution_count": 8,
   "id": "eb986e9f-4a50-4184-85cf-7867bc7f2ab8",
   "metadata": {},
   "outputs": [
    {
     "name": "stdout",
     "output_type": "stream",
     "text": [
      "命中率:  0.85\n"
     ]
    }
   ],
   "source": [
    "acc = accuracy_score(y, y_pred_bin)\n",
    "print(\"命中率: \", acc)"
   ]
  },
  {
   "cell_type": "markdown",
   "id": "69773ce1-b070-47e4-95c4-e64b57e333bd",
   "metadata": {},
   "source": [
    "### 6"
   ]
  },
  {
   "cell_type": "code",
   "execution_count": 9,
   "id": "d5b1723d-5070-4547-8a05-ba997d1da851",
   "metadata": {},
   "outputs": [
    {
     "name": "stdout",
     "output_type": "stream",
     "text": [
      "const      0.061559\n",
      "Alcohol    1.483704\n",
      "Smoking    3.694664\n",
      "dtype: float64\n"
     ]
    }
   ],
   "source": [
    "print(np.exp(results.params))"
   ]
  },
  {
   "cell_type": "markdown",
   "id": "0e4387e2-6ca3-4701-b2b0-bfd0955fd4ee",
   "metadata": {},
   "source": [
    "### 7"
   ]
  },
  {
   "cell_type": "code",
   "execution_count": 10,
   "id": "b63979b1-7848-49c6-a930-4b2c619abbe3",
   "metadata": {},
   "outputs": [
    {
     "name": "stdout",
     "output_type": "stream",
     "text": [
      "Optimization terminated successfully.\n",
      "         Current function value: 0.465424\n",
      "         Iterations 6\n",
      "Smoking    1.573703\n",
      "const     -0.338199\n",
      "Alcohol    0.151988\n",
      "dtype: float64\n"
     ]
    }
   ],
   "source": [
    "X_scaled_ar = scale(X)\n",
    "X_scaled = pd.DataFrame(X_scaled_ar, columns=X.columns)\n",
    "X_scaled_c = sm.add_constant(X_scaled)\n",
    "\n",
    "model = sm.Logit(y, X_scaled_c)\n",
    "results_scaled = model.fit()\n",
    "print(results_scaled.params.sort_values(key=np.abs, ascending=False))"
   ]
  },
  {
   "cell_type": "markdown",
   "id": "cff1741b-9a50-4fcc-92ef-738646fc5822",
   "metadata": {},
   "source": [
    "### 8"
   ]
  },
  {
   "cell_type": "code",
   "execution_count": 11,
   "id": "d57ca0e8-ffaf-4d89-bc20-a6b82569e9c7",
   "metadata": {},
   "outputs": [
    {
     "name": "stdout",
     "output_type": "stream",
     "text": [
      "Predicted y: \n",
      "0    0.203832\n",
      "1    0.230641\n",
      "dtype: float64\n"
     ]
    }
   ],
   "source": [
    "X_test = pd.DataFrame([[0.3, 1], [0.7, 1]], columns=X.columns)\n",
    "X_test_c = sm.add_constant(X_test, has_constant=\"add\")\n",
    "y_test = results.predict(X_test_c)\n",
    "print(\"Predicted y: \")\n",
    "print(y_test)"
   ]
  },
  {
   "cell_type": "code",
   "execution_count": null,
   "id": "02e55565-3f3c-421a-8d24-cb71c0163ee1",
   "metadata": {},
   "outputs": [],
   "source": []
  }
 ],
 "metadata": {
  "kernelspec": {
   "display_name": "Python 3 (ipykernel)",
   "language": "python",
   "name": "python3"
  },
  "language_info": {
   "codemirror_mode": {
    "name": "ipython",
    "version": 3
   },
   "file_extension": ".py",
   "mimetype": "text/x-python",
   "name": "python",
   "nbconvert_exporter": "python",
   "pygments_lexer": "ipython3",
   "version": "3.9.15"
  }
 },
 "nbformat": 4,
 "nbformat_minor": 5
}
