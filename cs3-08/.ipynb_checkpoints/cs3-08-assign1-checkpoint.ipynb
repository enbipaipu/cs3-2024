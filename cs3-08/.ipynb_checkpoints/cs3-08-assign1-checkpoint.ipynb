{
 "cells": [
  {
   "cell_type": "code",
   "execution_count": 1,
   "id": "09336c19-ee95-4353-afdc-4505e6ef631b",
   "metadata": {},
   "outputs": [],
   "source": [
    "import numpy as np\n",
    "import pandas as pd\n",
    "import matplotlib.pyplot as plt\n",
    "import seaborn as sns\n",
    "import statsmodels.api as sm\n",
    "from sklearn.preprocessing import scale\n",
    "from sklearn.metrics import mean_squared_error"
   ]
  },
  {
   "cell_type": "code",
   "execution_count": 2,
   "id": "063e1cb0-b836-4208-9422-243dff0dc93f",
   "metadata": {},
   "outputs": [
    {
     "name": "stdout",
     "output_type": "stream",
     "text": [
      "(24, 4)\n",
      "<class 'pandas.core.frame.DataFrame'>\n",
      "RangeIndex: 24 entries, 0 to 23\n",
      "Data columns (total 4 columns):\n",
      " #   Column       Non-Null Count  Dtype \n",
      "---  ------       --------------  ----- \n",
      " 0   Temperature  24 non-null     int64 \n",
      " 1   Humidity     24 non-null     int64 \n",
      " 2   place        24 non-null     object\n",
      " 3   Sales        24 non-null     int64 \n",
      "dtypes: int64(3), object(1)\n",
      "memory usage: 896.0+ bytes\n",
      "None\n"
     ]
    },
    {
     "data": {
      "text/html": [
       "<div>\n",
       "<style scoped>\n",
       "    .dataframe tbody tr th:only-of-type {\n",
       "        vertical-align: middle;\n",
       "    }\n",
       "\n",
       "    .dataframe tbody tr th {\n",
       "        vertical-align: top;\n",
       "    }\n",
       "\n",
       "    .dataframe thead th {\n",
       "        text-align: right;\n",
       "    }\n",
       "</style>\n",
       "<table border=\"1\" class=\"dataframe\">\n",
       "  <thead>\n",
       "    <tr style=\"text-align: right;\">\n",
       "      <th></th>\n",
       "      <th>Temperature</th>\n",
       "      <th>Humidity</th>\n",
       "      <th>place</th>\n",
       "      <th>Sales</th>\n",
       "    </tr>\n",
       "  </thead>\n",
       "  <tbody>\n",
       "    <tr>\n",
       "      <th>0</th>\n",
       "      <td>9</td>\n",
       "      <td>55</td>\n",
       "      <td>A</td>\n",
       "      <td>30</td>\n",
       "    </tr>\n",
       "    <tr>\n",
       "      <th>1</th>\n",
       "      <td>10</td>\n",
       "      <td>45</td>\n",
       "      <td>B</td>\n",
       "      <td>40</td>\n",
       "    </tr>\n",
       "    <tr>\n",
       "      <th>2</th>\n",
       "      <td>12</td>\n",
       "      <td>44</td>\n",
       "      <td>A</td>\n",
       "      <td>33</td>\n",
       "    </tr>\n",
       "    <tr>\n",
       "      <th>3</th>\n",
       "      <td>15</td>\n",
       "      <td>30</td>\n",
       "      <td>B</td>\n",
       "      <td>20</td>\n",
       "    </tr>\n",
       "    <tr>\n",
       "      <th>4</th>\n",
       "      <td>15</td>\n",
       "      <td>30</td>\n",
       "      <td>A</td>\n",
       "      <td>20</td>\n",
       "    </tr>\n",
       "  </tbody>\n",
       "</table>\n",
       "</div>"
      ],
      "text/plain": [
       "   Temperature  Humidity place  Sales\n",
       "0            9        55     A     30\n",
       "1           10        45     B     40\n",
       "2           12        44     A     33\n",
       "3           15        30     B     20\n",
       "4           15        30     A     20"
      ]
     },
     "metadata": {},
     "output_type": "display_data"
    }
   ],
   "source": [
    "df = pd.read_csv(\"POS_vending.csv\")\n",
    "print(df.shape)\n",
    "print(df.info())\n",
    "display(df.head())"
   ]
  },
  {
   "cell_type": "markdown",
   "id": "6ff786b1-9cb2-48ce-9c95-f2c316f253ac",
   "metadata": {},
   "source": [
    "### 2"
   ]
  },
  {
   "cell_type": "code",
   "execution_count": 3,
   "id": "89bd9a74-a232-4914-bedf-01e3e9acaaeb",
   "metadata": {},
   "outputs": [
    {
     "data": {
      "text/html": [
       "<div>\n",
       "<style scoped>\n",
       "    .dataframe tbody tr th:only-of-type {\n",
       "        vertical-align: middle;\n",
       "    }\n",
       "\n",
       "    .dataframe tbody tr th {\n",
       "        vertical-align: top;\n",
       "    }\n",
       "\n",
       "    .dataframe thead th {\n",
       "        text-align: right;\n",
       "    }\n",
       "</style>\n",
       "<table border=\"1\" class=\"dataframe\">\n",
       "  <thead>\n",
       "    <tr style=\"text-align: right;\">\n",
       "      <th></th>\n",
       "      <th>Temperature</th>\n",
       "      <th>Humidity</th>\n",
       "      <th>place</th>\n",
       "    </tr>\n",
       "  </thead>\n",
       "  <tbody>\n",
       "    <tr>\n",
       "      <th>0</th>\n",
       "      <td>9</td>\n",
       "      <td>55</td>\n",
       "      <td>A</td>\n",
       "    </tr>\n",
       "    <tr>\n",
       "      <th>1</th>\n",
       "      <td>10</td>\n",
       "      <td>45</td>\n",
       "      <td>B</td>\n",
       "    </tr>\n",
       "    <tr>\n",
       "      <th>2</th>\n",
       "      <td>12</td>\n",
       "      <td>44</td>\n",
       "      <td>A</td>\n",
       "    </tr>\n",
       "    <tr>\n",
       "      <th>3</th>\n",
       "      <td>15</td>\n",
       "      <td>30</td>\n",
       "      <td>B</td>\n",
       "    </tr>\n",
       "    <tr>\n",
       "      <th>4</th>\n",
       "      <td>15</td>\n",
       "      <td>30</td>\n",
       "      <td>A</td>\n",
       "    </tr>\n",
       "  </tbody>\n",
       "</table>\n",
       "</div>"
      ],
      "text/plain": [
       "   Temperature  Humidity place\n",
       "0            9        55     A\n",
       "1           10        45     B\n",
       "2           12        44     A\n",
       "3           15        30     B\n",
       "4           15        30     A"
      ]
     },
     "metadata": {},
     "output_type": "display_data"
    },
    {
     "name": "stdout",
     "output_type": "stream",
     "text": [
      "<class 'pandas.core.frame.DataFrame'>\n",
      "0    30\n",
      "1    40\n",
      "2    33\n",
      "3    20\n",
      "4    20\n",
      "Name: Sales, dtype: int64\n",
      "<class 'pandas.core.series.Series'>\n"
     ]
    }
   ],
   "source": [
    "X = df.loc[:, :\"place\"]\n",
    "y = df[\"Sales\"]\n",
    "\n",
    "display(X.head())\n",
    "print(type(X))\n",
    "print(y.head())\n",
    "print(type(y))"
   ]
  },
  {
   "cell_type": "markdown",
   "id": "7e79db77-5b64-43d0-8b22-93455ade9035",
   "metadata": {},
   "source": [
    "### 3"
   ]
  },
  {
   "cell_type": "code",
   "execution_count": 4,
   "id": "9b50b8e6-725b-4cd5-8232-55f9002dec22",
   "metadata": {},
   "outputs": [
    {
     "name": "stdout",
     "output_type": "stream",
     "text": [
      "X_dumm:  (24, 3)\n"
     ]
    },
    {
     "data": {
      "text/html": [
       "<div>\n",
       "<style scoped>\n",
       "    .dataframe tbody tr th:only-of-type {\n",
       "        vertical-align: middle;\n",
       "    }\n",
       "\n",
       "    .dataframe tbody tr th {\n",
       "        vertical-align: top;\n",
       "    }\n",
       "\n",
       "    .dataframe thead th {\n",
       "        text-align: right;\n",
       "    }\n",
       "</style>\n",
       "<table border=\"1\" class=\"dataframe\">\n",
       "  <thead>\n",
       "    <tr style=\"text-align: right;\">\n",
       "      <th></th>\n",
       "      <th>Temperature</th>\n",
       "      <th>Humidity</th>\n",
       "      <th>place</th>\n",
       "    </tr>\n",
       "  </thead>\n",
       "  <tbody>\n",
       "    <tr>\n",
       "      <th>0</th>\n",
       "      <td>9</td>\n",
       "      <td>55</td>\n",
       "      <td>1</td>\n",
       "    </tr>\n",
       "    <tr>\n",
       "      <th>1</th>\n",
       "      <td>10</td>\n",
       "      <td>45</td>\n",
       "      <td>2</td>\n",
       "    </tr>\n",
       "    <tr>\n",
       "      <th>2</th>\n",
       "      <td>12</td>\n",
       "      <td>44</td>\n",
       "      <td>1</td>\n",
       "    </tr>\n",
       "    <tr>\n",
       "      <th>3</th>\n",
       "      <td>15</td>\n",
       "      <td>30</td>\n",
       "      <td>2</td>\n",
       "    </tr>\n",
       "    <tr>\n",
       "      <th>4</th>\n",
       "      <td>15</td>\n",
       "      <td>30</td>\n",
       "      <td>1</td>\n",
       "    </tr>\n",
       "  </tbody>\n",
       "</table>\n",
       "</div>"
      ],
      "text/plain": [
       "   Temperature  Humidity  place\n",
       "0            9        55      1\n",
       "1           10        45      2\n",
       "2           12        44      1\n",
       "3           15        30      2\n",
       "4           15        30      1"
      ]
     },
     "metadata": {},
     "output_type": "display_data"
    }
   ],
   "source": [
    "X[\"place\"] = X[\"place\"].replace({\"A\":\"1\", \"B\":\"2\"}).astype(\"int\")\n",
    "X_dumm = pd.get_dummies(X, drop_first=True, dtype=\"uint8\")\n",
    "print(\"X_dumm: \", X_dumm.shape)\n",
    "display(X_dumm.head())"
   ]
  },
  {
   "cell_type": "markdown",
   "id": "bd6cb736-e4e2-4e39-89e6-d92db87a7d96",
   "metadata": {},
   "source": [
    "### 4"
   ]
  },
  {
   "cell_type": "code",
   "execution_count": 5,
   "id": "bae22d17-f586-4f6d-9f62-affddb1cd6d4",
   "metadata": {},
   "outputs": [
    {
     "name": "stdout",
     "output_type": "stream",
     "text": [
      "                            OLS Regression Results                            \n",
      "==============================================================================\n",
      "Dep. Variable:                  Sales   R-squared:                       0.710\n",
      "Model:                            OLS   Adj. R-squared:                  0.666\n",
      "Method:                 Least Squares   F-statistic:                     16.32\n",
      "Date:                Mon, 10 Jun 2024   Prob (F-statistic):           1.34e-05\n",
      "Time:                        12:09:48   Log-Likelihood:                -82.070\n",
      "No. Observations:                  24   AIC:                             172.1\n",
      "Df Residuals:                      20   BIC:                             176.9\n",
      "Df Model:                           3                                         \n",
      "Covariance Type:            nonrobust                                         \n",
      "===============================================================================\n",
      "                  coef    std err          t      P>|t|      [0.025      0.975]\n",
      "-------------------------------------------------------------------------------\n",
      "const          65.6894      8.763      7.496      0.000      47.409      83.969\n",
      "Temperature    -1.9666      0.368     -5.343      0.000      -2.734      -1.199\n",
      "Humidity       -0.4208      0.184     -2.281      0.034      -0.806      -0.036\n",
      "place           1.2974      3.323      0.390      0.700      -5.634       8.229\n",
      "==============================================================================\n",
      "Omnibus:                        1.225   Durbin-Watson:                   1.377\n",
      "Prob(Omnibus):                  0.542   Jarque-Bera (JB):                0.336\n",
      "Skew:                          -0.234   Prob(JB):                        0.845\n",
      "Kurtosis:                       3.342   Cond. No.                         243.\n",
      "==============================================================================\n",
      "\n",
      "Notes:\n",
      "[1] Standard Errors assume that the covariance matrix of the errors is correctly specified.\n"
     ]
    }
   ],
   "source": [
    "X_dumm_c = sm.add_constant(X_dumm)\n",
    "model = sm.OLS(y, X_dumm_c)\n",
    "results = model.fit()\n",
    "print(results.summary())"
   ]
  },
  {
   "cell_type": "code",
   "execution_count": 6,
   "id": "aa0bfbae-8d8b-4fa0-b3c1-a622a826d247",
   "metadata": {},
   "outputs": [
    {
     "name": "stdout",
     "output_type": "stream",
     "text": [
      "Adj R2 0.6664663033528457\n"
     ]
    }
   ],
   "source": [
    "print(\"Adj R2\", results.rsquared_adj)"
   ]
  },
  {
   "cell_type": "markdown",
   "id": "57e8d5a5-2c9d-4ae2-b5de-d892075051dc",
   "metadata": {},
   "source": [
    "### 5"
   ]
  },
  {
   "cell_type": "code",
   "execution_count": 7,
   "id": "219d6006-bc6e-43c3-ae6c-86c2fff098e1",
   "metadata": {},
   "outputs": [
    {
     "name": "stdout",
     "output_type": "stream",
     "text": [
      "const          65.689423\n",
      "Temperature    -1.966592\n",
      "Humidity       -0.420791\n",
      "place           1.297446\n",
      "dtype: float64\n"
     ]
    }
   ],
   "source": [
    "print(results.params)"
   ]
  },
  {
   "cell_type": "markdown",
   "id": "f683df36-9d63-4e60-b6ea-1d1947f11bab",
   "metadata": {},
   "source": [
    "### 6"
   ]
  },
  {
   "cell_type": "code",
   "execution_count": 8,
   "id": "c36f4a1b-807a-4b15-98b3-1be813af59af",
   "metadata": {},
   "outputs": [
    {
     "name": "stdout",
     "output_type": "stream",
     "text": [
      "                                 OLS Regression Results                                \n",
      "=======================================================================================\n",
      "Dep. Variable:                  Sales   R-squared (uncentered):                   0.710\n",
      "Model:                            OLS   Adj. R-squared (uncentered):              0.669\n",
      "Method:                 Least Squares   F-statistic:                              17.14\n",
      "Date:                Mon, 10 Jun 2024   Prob (F-statistic):                    7.36e-06\n",
      "Time:                        12:09:48   Log-Likelihood:                         -19.201\n",
      "No. Observations:                  24   AIC:                                      44.40\n",
      "Df Residuals:                      21   BIC:                                      47.94\n",
      "Df Model:                           3                                                  \n",
      "Covariance Type:            nonrobust                                                  \n",
      "===============================================================================\n",
      "                  coef    std err          t      P>|t|      [0.025      0.975]\n",
      "-------------------------------------------------------------------------------\n",
      "Temperature    -0.6915      0.126     -5.475      0.000      -0.954      -0.429\n",
      "Humidity       -0.2958      0.127     -2.338      0.029      -0.559      -0.033\n",
      "place           0.0473      0.118      0.400      0.693      -0.198       0.293\n",
      "==============================================================================\n",
      "Omnibus:                        1.225   Durbin-Watson:                   1.377\n",
      "Prob(Omnibus):                  0.542   Jarque-Bera (JB):                0.336\n",
      "Skew:                          -0.234   Prob(JB):                        0.845\n",
      "Kurtosis:                       3.342   Cond. No.                         1.48\n",
      "==============================================================================\n",
      "\n",
      "Notes:\n",
      "[1] R² is computed without centering (uncentered) since the model does not contain a constant.\n",
      "[2] Standard Errors assume that the covariance matrix of the errors is correctly specified.\n"
     ]
    }
   ],
   "source": [
    "X_scaled_ar = scale(X_dumm)\n",
    "y_scaled_ar = scale(y)\n",
    "\n",
    "X_scaled = pd.DataFrame(X_scaled_ar, columns=X_dumm.columns)\n",
    "y_scaled = pd.Series(y_scaled_ar, name=y.name)\n",
    "\n",
    "mode = sm.OLS(y_scaled, X_scaled)\n",
    "results_scaled = mode.fit()\n",
    "\n",
    "print(results_scaled.summary())"
   ]
  },
  {
   "cell_type": "code",
   "execution_count": 9,
   "id": "6354e310-4e17-477b-b55b-73ad714a89f0",
   "metadata": {},
   "outputs": [
    {
     "name": "stdout",
     "output_type": "stream",
     "text": [
      "Temperature   -0.691497\n",
      "Humidity      -0.295762\n",
      "place          0.047250\n",
      "dtype: float64\n"
     ]
    }
   ],
   "source": [
    "print(results_scaled.params.sort_values(key=np.abs, ascending=False))"
   ]
  },
  {
   "cell_type": "markdown",
   "id": "41b9e8c5-ba81-4b64-a499-5dd343c18a40",
   "metadata": {},
   "source": [
    "### 7"
   ]
  },
  {
   "cell_type": "code",
   "execution_count": 10,
   "id": "c9caee6c-87ae-4d86-afae-da01b4ee539c",
   "metadata": {},
   "outputs": [
    {
     "name": "stdout",
     "output_type": "stream",
     "text": [
      "X for preediction: \n"
     ]
    },
    {
     "data": {
      "text/html": [
       "<div>\n",
       "<style scoped>\n",
       "    .dataframe tbody tr th:only-of-type {\n",
       "        vertical-align: middle;\n",
       "    }\n",
       "\n",
       "    .dataframe tbody tr th {\n",
       "        vertical-align: top;\n",
       "    }\n",
       "\n",
       "    .dataframe thead th {\n",
       "        text-align: right;\n",
       "    }\n",
       "</style>\n",
       "<table border=\"1\" class=\"dataframe\">\n",
       "  <thead>\n",
       "    <tr style=\"text-align: right;\">\n",
       "      <th></th>\n",
       "      <th>Temperature</th>\n",
       "      <th>Humidity</th>\n",
       "      <th>place</th>\n",
       "    </tr>\n",
       "  </thead>\n",
       "  <tbody>\n",
       "    <tr>\n",
       "      <th>0</th>\n",
       "      <td>4</td>\n",
       "      <td>30</td>\n",
       "      <td>2</td>\n",
       "    </tr>\n",
       "  </tbody>\n",
       "</table>\n",
       "</div>"
      ],
      "text/plain": [
       "   Temperature  Humidity  place\n",
       "0            4        30      2"
      ]
     },
     "metadata": {},
     "output_type": "display_data"
    },
    {
     "name": "stdout",
     "output_type": "stream",
     "text": [
      "predictred y:\n",
      "0    47.794211\n",
      "dtype: float64\n"
     ]
    }
   ],
   "source": [
    "X_test = pd.DataFrame([[4, 30, 2]], columns =X_dumm.columns)\n",
    "\n",
    "print(\"X for preediction: \")\n",
    "display(X_test)\n",
    "\n",
    "X_test_c =sm.add_constant(X_test, has_constant = \"add\")\n",
    "y_test = results.predict(X_test_c)\n",
    "print(\"predictred y:\")\n",
    "print(y_test)"
   ]
  },
  {
   "cell_type": "markdown",
   "id": "9d0e0aea-d5ba-4670-baee-34f5f12ad86b",
   "metadata": {},
   "source": [
    "### 8"
   ]
  },
  {
   "cell_type": "code",
   "execution_count": 11,
   "id": "3765fdc4-e26b-4e5d-a036-d263b563468a",
   "metadata": {},
   "outputs": [
    {
     "data": {
      "image/png": "[encoded data removed]",
      "text/plain": [
       "<Figure size 640x480 with 1 Axes>"
      ]
     },
     "metadata": {},
     "output_type": "display_data"
    }
   ],
   "source": [
    "y_pred = results.predict(X_dumm_c)\n",
    "\n",
    "y_min = np.append(y_pred, y).min()\n",
    "y_max = np.append(y_pred, y).max()\n",
    "\n",
    "y_margin = (y_max -y_min)*0.1\n",
    "y_min -= y_margin\n",
    "y_max += y_margin\n",
    "\n",
    "plt.scatter(y_pred, y, alpha=0.3)\n",
    "plt.plot([y_min, y_max], [y_min, y_max])\n",
    "plt.gca().set_aspect(\"equal\", adjustable=\"box\")\n",
    "plt.xlim(y_min, y_max)\n",
    "plt.ylim(y_min, y_max)\n",
    "plt.xlabel(\"pred\")\n",
    "plt.ylabel(\"True\")\n",
    "plt.show() "
   ]
  },
  {
   "cell_type": "markdown",
   "id": "79e30f48-871c-4d62-8083-d78c769d52a4",
   "metadata": {},
   "source": [
    "### 9"
   ]
  },
  {
   "cell_type": "code",
   "execution_count": 12,
   "id": "b1d8e74f-b794-4040-8c2b-a60a6c0fe989",
   "metadata": {},
   "outputs": [
    {
     "name": "stdout",
     "output_type": "stream",
     "text": [
      "mse:  54.67001979689733\n",
      "RMSE:  7.393917756974129\n"
     ]
    }
   ],
   "source": [
    "mse = mean_squared_error(y, y_pred)\n",
    "print(\"mse: \",mse,)\n",
    "print(\"RMSE: \",  np.sqrt(mse))"
   ]
  }
 ],
 "metadata": {
  "kernelspec": {
   "display_name": "Python 3 (ipykernel)",
   "language": "python",
   "name": "python3"
  },
  "language_info": {
   "codemirror_mode": {
    "name": "ipython",
    "version": 3
   },
   "file_extension": ".py",
   "mimetype": "text/x-python",
   "name": "python",
   "nbconvert_exporter": "python",
   "pygments_lexer": "ipython3",
   "version": "3.9.15"
  }
 },
 "nbformat": 4,
 "nbformat_minor": 5
}
