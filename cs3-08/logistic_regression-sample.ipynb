{
 "cells": [
  {
   "cell_type": "code",
   "execution_count": 1,
   "id": "94e4d798-d390-43de-bcf6-af7ae427d2bc",
   "metadata": {},
   "outputs": [],
   "source": [
    "import numpy as np\n",
    "import pandas as pd\n",
    "import matplotlib.pyplot as plt\n",
    "import seaborn as sns\n",
    "import statsmodels.api as sm\n",
    "from sklearn.preprocessing import scale\n",
    "from sklearn.metrics import accuracy_score"
   ]
  },
  {
   "cell_type": "code",
   "execution_count": 2,
   "id": "e776d10f-6e06-49e7-9772-c136be401ee4",
   "metadata": {},
   "outputs": [
    {
     "name": "stdout",
     "output_type": "stream",
     "text": [
      "(2000, 9)\n",
      "<class 'pandas.core.frame.DataFrame'>\n",
      "RangeIndex: 2000 entries, 0 to 1999\n",
      "Data columns (total 9 columns):\n",
      " #   Column           Non-Null Count  Dtype  \n",
      "---  ------           --------------  -----  \n",
      " 0   HeartDisease     2000 non-null   int64  \n",
      " 1   BMI              2000 non-null   float64\n",
      " 2   Smoking          2000 non-null   int64  \n",
      " 3   AlcoholDrinking  2000 non-null   int64  \n",
      " 4   Stroke           2000 non-null   int64  \n",
      " 5   M/F              2000 non-null   object \n",
      " 6   AgeCategory      2000 non-null   int64  \n",
      " 7   GenHealth        2000 non-null   int64  \n",
      " 8   SleepTime        2000 non-null   float64\n",
      "dtypes: float64(2), int64(6), object(1)\n",
      "memory usage: 140.8+ KB\n",
      "None\n"
     ]
    },
    {
     "data": {
      "text/html": [
       "<div>\n",
       "<style scoped>\n",
       "    .dataframe tbody tr th:only-of-type {\n",
       "        vertical-align: middle;\n",
       "    }\n",
       "\n",
       "    .dataframe tbody tr th {\n",
       "        vertical-align: top;\n",
       "    }\n",
       "\n",
       "    .dataframe thead th {\n",
       "        text-align: right;\n",
       "    }\n",
       "</style>\n",
       "<table border=\"1\" class=\"dataframe\">\n",
       "  <thead>\n",
       "    <tr style=\"text-align: right;\">\n",
       "      <th></th>\n",
       "      <th>HeartDisease</th>\n",
       "      <th>BMI</th>\n",
       "      <th>Smoking</th>\n",
       "      <th>AlcoholDrinking</th>\n",
       "      <th>Stroke</th>\n",
       "      <th>M/F</th>\n",
       "      <th>AgeCategory</th>\n",
       "      <th>GenHealth</th>\n",
       "      <th>SleepTime</th>\n",
       "    </tr>\n",
       "  </thead>\n",
       "  <tbody>\n",
       "    <tr>\n",
       "      <th>0</th>\n",
       "      <td>0</td>\n",
       "      <td>24.37</td>\n",
       "      <td>0</td>\n",
       "      <td>0</td>\n",
       "      <td>0</td>\n",
       "      <td>M</td>\n",
       "      <td>0</td>\n",
       "      <td>4</td>\n",
       "      <td>7.0</td>\n",
       "    </tr>\n",
       "    <tr>\n",
       "      <th>1</th>\n",
       "      <td>0</td>\n",
       "      <td>41.20</td>\n",
       "      <td>0</td>\n",
       "      <td>0</td>\n",
       "      <td>0</td>\n",
       "      <td>F</td>\n",
       "      <td>1</td>\n",
       "      <td>3</td>\n",
       "      <td>7.0</td>\n",
       "    </tr>\n",
       "    <tr>\n",
       "      <th>2</th>\n",
       "      <td>0</td>\n",
       "      <td>19.80</td>\n",
       "      <td>0</td>\n",
       "      <td>0</td>\n",
       "      <td>0</td>\n",
       "      <td>M</td>\n",
       "      <td>10</td>\n",
       "      <td>4</td>\n",
       "      <td>6.0</td>\n",
       "    </tr>\n",
       "    <tr>\n",
       "      <th>3</th>\n",
       "      <td>0</td>\n",
       "      <td>24.33</td>\n",
       "      <td>1</td>\n",
       "      <td>0</td>\n",
       "      <td>0</td>\n",
       "      <td>M</td>\n",
       "      <td>8</td>\n",
       "      <td>2</td>\n",
       "      <td>8.0</td>\n",
       "    </tr>\n",
       "    <tr>\n",
       "      <th>4</th>\n",
       "      <td>0</td>\n",
       "      <td>19.74</td>\n",
       "      <td>0</td>\n",
       "      <td>0</td>\n",
       "      <td>0</td>\n",
       "      <td>F</td>\n",
       "      <td>0</td>\n",
       "      <td>4</td>\n",
       "      <td>8.0</td>\n",
       "    </tr>\n",
       "  </tbody>\n",
       "</table>\n",
       "</div>"
      ],
      "text/plain": [
       "   HeartDisease    BMI  Smoking  AlcoholDrinking  Stroke M/F  AgeCategory  \\\n",
       "0             0  24.37        0                0       0   M            0   \n",
       "1             0  41.20        0                0       0   F            1   \n",
       "2             0  19.80        0                0       0   M           10   \n",
       "3             0  24.33        1                0       0   M            8   \n",
       "4             0  19.74        0                0       0   F            0   \n",
       "\n",
       "   GenHealth  SleepTime  \n",
       "0          4        7.0  \n",
       "1          3        7.0  \n",
       "2          4        6.0  \n",
       "3          2        8.0  \n",
       "4          4        8.0  "
      ]
     },
     "metadata": {},
     "output_type": "display_data"
    }
   ],
   "source": [
    "df = pd.read_csv(\"heart_disease-mid.csv\")\n",
    "print(df.shape)\n",
    "print(df.info())\n",
    "display(df.head())"
   ]
  },
  {
   "cell_type": "markdown",
   "id": "b148fe26-58a9-4983-b47f-6afd00dfe627",
   "metadata": {},
   "source": [
    "### 説明変数と目的変数を分ける"
   ]
  },
  {
   "cell_type": "code",
   "execution_count": 6,
   "id": "40c1b3a5-c530-4be1-be62-21b2d56380fb",
   "metadata": {},
   "outputs": [
    {
     "name": "stdout",
     "output_type": "stream",
     "text": [
      "x:  (2000, 8)\n"
     ]
    },
    {
     "data": {
      "text/html": [
       "<div>\n",
       "<style scoped>\n",
       "    .dataframe tbody tr th:only-of-type {\n",
       "        vertical-align: middle;\n",
       "    }\n",
       "\n",
       "    .dataframe tbody tr th {\n",
       "        vertical-align: top;\n",
       "    }\n",
       "\n",
       "    .dataframe thead th {\n",
       "        text-align: right;\n",
       "    }\n",
       "</style>\n",
       "<table border=\"1\" class=\"dataframe\">\n",
       "  <thead>\n",
       "    <tr style=\"text-align: right;\">\n",
       "      <th></th>\n",
       "      <th>BMI</th>\n",
       "      <th>Smoking</th>\n",
       "      <th>AlcoholDrinking</th>\n",
       "      <th>Stroke</th>\n",
       "      <th>M/F</th>\n",
       "      <th>AgeCategory</th>\n",
       "      <th>GenHealth</th>\n",
       "      <th>SleepTime</th>\n",
       "    </tr>\n",
       "  </thead>\n",
       "  <tbody>\n",
       "    <tr>\n",
       "      <th>0</th>\n",
       "      <td>24.37</td>\n",
       "      <td>0</td>\n",
       "      <td>0</td>\n",
       "      <td>0</td>\n",
       "      <td>M</td>\n",
       "      <td>0</td>\n",
       "      <td>4</td>\n",
       "      <td>7.0</td>\n",
       "    </tr>\n",
       "    <tr>\n",
       "      <th>1</th>\n",
       "      <td>41.20</td>\n",
       "      <td>0</td>\n",
       "      <td>0</td>\n",
       "      <td>0</td>\n",
       "      <td>F</td>\n",
       "      <td>1</td>\n",
       "      <td>3</td>\n",
       "      <td>7.0</td>\n",
       "    </tr>\n",
       "    <tr>\n",
       "      <th>2</th>\n",
       "      <td>19.80</td>\n",
       "      <td>0</td>\n",
       "      <td>0</td>\n",
       "      <td>0</td>\n",
       "      <td>M</td>\n",
       "      <td>10</td>\n",
       "      <td>4</td>\n",
       "      <td>6.0</td>\n",
       "    </tr>\n",
       "    <tr>\n",
       "      <th>3</th>\n",
       "      <td>24.33</td>\n",
       "      <td>1</td>\n",
       "      <td>0</td>\n",
       "      <td>0</td>\n",
       "      <td>M</td>\n",
       "      <td>8</td>\n",
       "      <td>2</td>\n",
       "      <td>8.0</td>\n",
       "    </tr>\n",
       "    <tr>\n",
       "      <th>4</th>\n",
       "      <td>19.74</td>\n",
       "      <td>0</td>\n",
       "      <td>0</td>\n",
       "      <td>0</td>\n",
       "      <td>F</td>\n",
       "      <td>0</td>\n",
       "      <td>4</td>\n",
       "      <td>8.0</td>\n",
       "    </tr>\n",
       "  </tbody>\n",
       "</table>\n",
       "</div>"
      ],
      "text/plain": [
       "     BMI  Smoking  AlcoholDrinking  Stroke M/F  AgeCategory  GenHealth  \\\n",
       "0  24.37        0                0       0   M            0          4   \n",
       "1  41.20        0                0       0   F            1          3   \n",
       "2  19.80        0                0       0   M           10          4   \n",
       "3  24.33        1                0       0   M            8          2   \n",
       "4  19.74        0                0       0   F            0          4   \n",
       "\n",
       "   SleepTime  \n",
       "0        7.0  \n",
       "1        7.0  \n",
       "2        6.0  \n",
       "3        8.0  \n",
       "4        8.0  "
      ]
     },
     "metadata": {},
     "output_type": "display_data"
    },
    {
     "name": "stdout",
     "output_type": "stream",
     "text": [
      "y:  (2000,)\n",
      "0    0\n",
      "1    0\n",
      "2    0\n",
      "3    0\n",
      "4    0\n",
      "Name: HeartDisease, dtype: int64\n"
     ]
    }
   ],
   "source": [
    "X = df.loc[:, \"BMI\":]\n",
    "y = df[\"HeartDisease\"]\n",
    "\n",
    "print(\"x: \", X.shape)\n",
    "display(X.head())\n",
    "print(\"y: \",y.shape)\n",
    "print(y.head())"
   ]
  },
  {
   "cell_type": "code",
   "execution_count": 7,
   "id": "9d18c503-75bb-43bb-b583-11605e8b82d3",
   "metadata": {},
   "outputs": [
    {
     "name": "stdout",
     "output_type": "stream",
     "text": [
      "HeartDisease\n",
      "0    1000\n",
      "1    1000\n",
      "Name: count, dtype: int64\n"
     ]
    }
   ],
   "source": [
    "print(y.value_counts())"
   ]
  },
  {
   "cell_type": "markdown",
   "id": "912c72ee-ddf8-406b-abde-8f56484914a3",
   "metadata": {},
   "source": [
    "### ダミー変数化"
   ]
  },
  {
   "cell_type": "code",
   "execution_count": 9,
   "id": "dbfa250e-4d2f-4fc2-a3c9-a9cf09715702",
   "metadata": {},
   "outputs": [
    {
     "name": "stdout",
     "output_type": "stream",
     "text": [
      "X_dumm:  (2000, 8)\n"
     ]
    },
    {
     "data": {
      "text/html": [
       "<div>\n",
       "<style scoped>\n",
       "    .dataframe tbody tr th:only-of-type {\n",
       "        vertical-align: middle;\n",
       "    }\n",
       "\n",
       "    .dataframe tbody tr th {\n",
       "        vertical-align: top;\n",
       "    }\n",
       "\n",
       "    .dataframe thead th {\n",
       "        text-align: right;\n",
       "    }\n",
       "</style>\n",
       "<table border=\"1\" class=\"dataframe\">\n",
       "  <thead>\n",
       "    <tr style=\"text-align: right;\">\n",
       "      <th></th>\n",
       "      <th>BMI</th>\n",
       "      <th>Smoking</th>\n",
       "      <th>AlcoholDrinking</th>\n",
       "      <th>Stroke</th>\n",
       "      <th>AgeCategory</th>\n",
       "      <th>GenHealth</th>\n",
       "      <th>SleepTime</th>\n",
       "      <th>M/F_M</th>\n",
       "    </tr>\n",
       "  </thead>\n",
       "  <tbody>\n",
       "    <tr>\n",
       "      <th>0</th>\n",
       "      <td>24.37</td>\n",
       "      <td>0</td>\n",
       "      <td>0</td>\n",
       "      <td>0</td>\n",
       "      <td>0</td>\n",
       "      <td>4</td>\n",
       "      <td>7.0</td>\n",
       "      <td>1</td>\n",
       "    </tr>\n",
       "    <tr>\n",
       "      <th>1</th>\n",
       "      <td>41.20</td>\n",
       "      <td>0</td>\n",
       "      <td>0</td>\n",
       "      <td>0</td>\n",
       "      <td>1</td>\n",
       "      <td>3</td>\n",
       "      <td>7.0</td>\n",
       "      <td>0</td>\n",
       "    </tr>\n",
       "    <tr>\n",
       "      <th>2</th>\n",
       "      <td>19.80</td>\n",
       "      <td>0</td>\n",
       "      <td>0</td>\n",
       "      <td>0</td>\n",
       "      <td>10</td>\n",
       "      <td>4</td>\n",
       "      <td>6.0</td>\n",
       "      <td>1</td>\n",
       "    </tr>\n",
       "    <tr>\n",
       "      <th>3</th>\n",
       "      <td>24.33</td>\n",
       "      <td>1</td>\n",
       "      <td>0</td>\n",
       "      <td>0</td>\n",
       "      <td>8</td>\n",
       "      <td>2</td>\n",
       "      <td>8.0</td>\n",
       "      <td>1</td>\n",
       "    </tr>\n",
       "    <tr>\n",
       "      <th>4</th>\n",
       "      <td>19.74</td>\n",
       "      <td>0</td>\n",
       "      <td>0</td>\n",
       "      <td>0</td>\n",
       "      <td>0</td>\n",
       "      <td>4</td>\n",
       "      <td>8.0</td>\n",
       "      <td>0</td>\n",
       "    </tr>\n",
       "  </tbody>\n",
       "</table>\n",
       "</div>"
      ],
      "text/plain": [
       "     BMI  Smoking  AlcoholDrinking  Stroke  AgeCategory  GenHealth  SleepTime  \\\n",
       "0  24.37        0                0       0            0          4        7.0   \n",
       "1  41.20        0                0       0            1          3        7.0   \n",
       "2  19.80        0                0       0           10          4        6.0   \n",
       "3  24.33        1                0       0            8          2        8.0   \n",
       "4  19.74        0                0       0            0          4        8.0   \n",
       "\n",
       "   M/F_M  \n",
       "0      1  \n",
       "1      0  \n",
       "2      1  \n",
       "3      1  \n",
       "4      0  "
      ]
     },
     "metadata": {},
     "output_type": "display_data"
    }
   ],
   "source": [
    "X_dumm = pd.get_dummies(X, drop_first=True, dtype=\"uint8\")\n",
    "print(\"X_dumm: \", X_dumm.shape)\n",
    "display(X_dumm.head())"
   ]
  },
  {
   "cell_type": "markdown",
   "id": "7e212b17-80d7-4fa9-a851-eb0a4cfe4338",
   "metadata": {},
   "source": [
    "### 標準化なしでロジスティクス回帰分析"
   ]
  },
  {
   "cell_type": "code",
   "execution_count": 11,
   "id": "d03b8048-e1ae-4d61-ad4a-c9927cf433c7",
   "metadata": {},
   "outputs": [
    {
     "name": "stdout",
     "output_type": "stream",
     "text": [
      "Optimization terminated successfully.\n",
      "         Current function value: 0.488728\n",
      "         Iterations 6\n",
      "                           Logit Regression Results                           \n",
      "==============================================================================\n",
      "Dep. Variable:           HeartDisease   No. Observations:                 2000\n",
      "Model:                          Logit   Df Residuals:                     1991\n",
      "Method:                           MLE   Df Model:                            8\n",
      "Date:                Fri, 07 Jun 2024   Pseudo R-squ.:                  0.2949\n",
      "Time:                        16:54:11   Log-Likelihood:                -977.46\n",
      "converged:                       True   LL-Null:                       -1386.3\n",
      "Covariance Type:            nonrobust   LLR p-value:                3.189e-171\n",
      "===================================================================================\n",
      "                      coef    std err          z      P>|z|      [0.025      0.975]\n",
      "-----------------------------------------------------------------------------------\n",
      "const              -2.7243      0.449     -6.072      0.000      -3.604      -1.845\n",
      "BMI                 0.0344      0.009      3.921      0.000       0.017       0.052\n",
      "Smoking             0.6621      0.113      5.870      0.000       0.441       0.883\n",
      "AlcoholDrinking    -0.5801      0.279     -2.080      0.037      -1.127      -0.034\n",
      "Stroke              1.0242      0.233      4.388      0.000       0.567       1.482\n",
      "AgeCategory         0.3219      0.021     15.446      0.000       0.281       0.363\n",
      "GenHealth          -0.6798      0.057    -11.953      0.000      -0.791      -0.568\n",
      "SleepTime          -0.0175      0.038     -0.467      0.640      -0.091       0.056\n",
      "M/F_M               0.6221      0.114      5.469      0.000       0.399       0.845\n",
      "===================================================================================\n"
     ]
    }
   ],
   "source": [
    "X_dumm_c = sm.add_constant(X_dumm)\n",
    "model = sm.Logit(y, X_dumm_c)\n",
    "results = model.fit()\n",
    "print(results.summary())"
   ]
  },
  {
   "cell_type": "markdown",
   "id": "392bf0c8-7aae-4aeb-b39b-d55bace29e6f",
   "metadata": {},
   "source": [
    "### 命中率"
   ]
  },
  {
   "cell_type": "code",
   "execution_count": 12,
   "id": "4bf82cc7-4771-43bf-b14f-0c17f504cdba",
   "metadata": {},
   "outputs": [
    {
     "name": "stdout",
     "output_type": "stream",
     "text": [
      "Predicted y: \n",
      "0    0.016228\n",
      "1    0.041271\n",
      "2    0.263944\n",
      "3    0.616141\n",
      "4    0.007364\n",
      "dtype: float64\n",
      "0    0\n",
      "1    0\n",
      "2    0\n",
      "3    1\n",
      "4    0\n",
      "dtype: int32\n"
     ]
    }
   ],
   "source": [
    "y_pred = results.predict(X_dumm_c)\n",
    "print(\"Predicted y: \")\n",
    "print(y_pred.head())\n",
    "y_pred_bin = (y_pred >= 0.5).astype(\"int\")\n",
    "print(y_pred_bin.head())"
   ]
  },
  {
   "cell_type": "code",
   "execution_count": 21,
   "id": "af7cda86-e8ae-436d-9c61-02e71c293c95",
   "metadata": {},
   "outputs": [
    {
     "name": "stdout",
     "output_type": "stream",
     "text": [
      "命中率:  0.768\n"
     ]
    }
   ],
   "source": [
    "acc = accuracy_score(y, y_pred_bin)\n",
    "print(\"命中率: \", acc)\n"
   ]
  },
  {
   "cell_type": "markdown",
   "id": "16682b7d-ba43-45be-a826-12e3eb0202e5",
   "metadata": {},
   "source": [
    "### 回帰係数からオッズ比を求める"
   ]
  },
  {
   "cell_type": "code",
   "execution_count": 14,
   "id": "8b7d6173-a3bb-4316-8fdf-71f05758006f",
   "metadata": {},
   "outputs": [
    {
     "name": "stdout",
     "output_type": "stream",
     "text": [
      "Odds ratio\n",
      "const              0.065594\n",
      "BMI                1.035041\n",
      "Smoking            1.938841\n",
      "AlcoholDrinking    0.559827\n",
      "Stroke             2.784954\n",
      "AgeCategory        1.379735\n",
      "GenHealth          0.506740\n",
      "SleepTime          0.982617\n",
      "M/F_M              1.862844\n",
      "dtype: float64\n"
     ]
    }
   ],
   "source": [
    "print(\"Odds ratio\")\n",
    "print(np.exp(results.params))"
   ]
  },
  {
   "cell_type": "markdown",
   "id": "2cafa504-320c-4a59-a493-3efeae15d16a",
   "metadata": {},
   "source": [
    "### 全説明変数を標準化してロジスティク回帰分析"
   ]
  },
  {
   "cell_type": "code",
   "execution_count": 15,
   "id": "c646839b-a7a3-48f7-bff3-dedea4815dcc",
   "metadata": {},
   "outputs": [
    {
     "name": "stdout",
     "output_type": "stream",
     "text": [
      "Optimization terminated successfully.\n",
      "         Current function value: 0.488728\n",
      "         Iterations 6\n",
      "                           Logit Regression Results                           \n",
      "==============================================================================\n",
      "Dep. Variable:           HeartDisease   No. Observations:                 2000\n",
      "Model:                          Logit   Df Residuals:                     1991\n",
      "Method:                           MLE   Df Model:                            8\n",
      "Date:                Fri, 07 Jun 2024   Pseudo R-squ.:                  0.2949\n",
      "Time:                        17:01:42   Log-Likelihood:                -977.46\n",
      "converged:                       True   LL-Null:                       -1386.3\n",
      "Covariance Type:            nonrobust   LLR p-value:                3.189e-171\n",
      "===================================================================================\n",
      "                      coef    std err          z      P>|z|      [0.025      0.975]\n",
      "-----------------------------------------------------------------------------------\n",
      "const              -0.0702      0.058     -1.221      0.222      -0.183       0.043\n",
      "BMI                 0.2281      0.058      3.921      0.000       0.114       0.342\n",
      "Smoking             0.3310      0.056      5.870      0.000       0.221       0.442\n",
      "AlcoholDrinking    -0.1209      0.058     -2.080      0.037      -0.235      -0.007\n",
      "Stroke              0.3003      0.068      4.388      0.000       0.166       0.434\n",
      "AgeCategory         1.0922      0.071     15.446      0.000       0.954       1.231\n",
      "GenHealth          -0.7668      0.064    -11.953      0.000      -0.892      -0.641\n",
      "SleepTime          -0.0272      0.058     -0.467      0.640      -0.141       0.087\n",
      "M/F_M               0.3102      0.057      5.469      0.000       0.199       0.421\n",
      "===================================================================================\n"
     ]
    }
   ],
   "source": [
    "X_scaled_ar = scale(X_dumm)\n",
    "X_scaled = pd.DataFrame(X_scaled_ar, columns=X_dumm.columns)\n",
    "X_scaled_c = sm.add_constant(X_scaled)\n",
    "\n",
    "model = sm.Logit(y, X_scaled_c)\n",
    "results_scaled = model.fit()\n",
    "print(results_scaled.summary())"
   ]
  },
  {
   "cell_type": "markdown",
   "id": "d8942dc8-2119-4935-875c-1ea8c626112c",
   "metadata": {},
   "source": [
    "### 標準化回帰係数を比較"
   ]
  },
  {
   "cell_type": "code",
   "execution_count": 16,
   "id": "b3c4ad85-0f4d-4a2c-bcd8-2cf36e2fc699",
   "metadata": {},
   "outputs": [
    {
     "name": "stdout",
     "output_type": "stream",
     "text": [
      "AgeCategory        1.092171\n",
      "GenHealth         -0.766751\n",
      "Smoking            0.331045\n",
      "M/F_M              0.310176\n",
      "Stroke             0.300320\n",
      "BMI                0.228071\n",
      "AlcoholDrinking   -0.120897\n",
      "const             -0.070229\n",
      "SleepTime         -0.027165\n",
      "dtype: float64\n"
     ]
    }
   ],
   "source": [
    "print(results_scaled.params.sort_values(key=np.abs, ascending=False))"
   ]
  },
  {
   "cell_type": "markdown",
   "id": "47f6044e-7233-4f0b-9b52-5ba41f74387a",
   "metadata": {},
   "source": [
    "### 得られたモデルを用いて、予測を行う"
   ]
  },
  {
   "cell_type": "code",
   "execution_count": 19,
   "id": "6829720b-e3bf-4bbe-90b7-41d9aac63fc3",
   "metadata": {},
   "outputs": [
    {
     "name": "stdout",
     "output_type": "stream",
     "text": [
      "X for prediction: \n"
     ]
    },
    {
     "data": {
      "text/html": [
       "<div>\n",
       "<style scoped>\n",
       "    .dataframe tbody tr th:only-of-type {\n",
       "        vertical-align: middle;\n",
       "    }\n",
       "\n",
       "    .dataframe tbody tr th {\n",
       "        vertical-align: top;\n",
       "    }\n",
       "\n",
       "    .dataframe thead th {\n",
       "        text-align: right;\n",
       "    }\n",
       "</style>\n",
       "<table border=\"1\" class=\"dataframe\">\n",
       "  <thead>\n",
       "    <tr style=\"text-align: right;\">\n",
       "      <th></th>\n",
       "      <th>BMI</th>\n",
       "      <th>Smoking</th>\n",
       "      <th>AlcoholDrinking</th>\n",
       "      <th>Stroke</th>\n",
       "      <th>AgeCategory</th>\n",
       "      <th>GenHealth</th>\n",
       "      <th>SleepTime</th>\n",
       "      <th>M/F_M</th>\n",
       "    </tr>\n",
       "  </thead>\n",
       "  <tbody>\n",
       "    <tr>\n",
       "      <th>0</th>\n",
       "      <td>20.0</td>\n",
       "      <td>0</td>\n",
       "      <td>1</td>\n",
       "      <td>0</td>\n",
       "      <td>0</td>\n",
       "      <td>4</td>\n",
       "      <td>8.0</td>\n",
       "      <td>0</td>\n",
       "    </tr>\n",
       "    <tr>\n",
       "      <th>1</th>\n",
       "      <td>70.0</td>\n",
       "      <td>1</td>\n",
       "      <td>0</td>\n",
       "      <td>1</td>\n",
       "      <td>12</td>\n",
       "      <td>0</td>\n",
       "      <td>4.0</td>\n",
       "      <td>1</td>\n",
       "    </tr>\n",
       "  </tbody>\n",
       "</table>\n",
       "</div>"
      ],
      "text/plain": [
       "    BMI  Smoking  AlcoholDrinking  Stroke  AgeCategory  GenHealth  SleepTime  \\\n",
       "0  20.0        0                1       0            0          4        8.0   \n",
       "1  70.0        1                0       1           12          0        4.0   \n",
       "\n",
       "   M/F_M  \n",
       "0      0  \n",
       "1      1  "
      ]
     },
     "metadata": {},
     "output_type": "display_data"
    }
   ],
   "source": [
    "X_test = pd.DataFrame([[20.0, 0, 1, 0, 0, 4, 8.0, 0], [70.0, 1, 0, 1, 12, 0, 4.0, 1]], columns=X_dumm.columns)\n",
    "print(\"X for prediction: \")\n",
    "display(X_test)"
   ]
  },
  {
   "cell_type": "code",
   "execution_count": 20,
   "id": "273187c2-f4b6-41e1-8c01-5383a6de6647",
   "metadata": {},
   "outputs": [
    {
     "name": "stdout",
     "output_type": "stream",
     "text": [
      "Predicted y: \n",
      "0    0.004173\n",
      "1    0.996944\n",
      "dtype: float64\n"
     ]
    }
   ],
   "source": [
    "X_test_c = sm.add_constant(X_test, has_constant=\"add\")\n",
    "y_test = results.predict(X_test_c)\n",
    "print(\"Predicted y: \")\n",
    "print(y_test)"
   ]
  },
  {
   "cell_type": "code",
   "execution_count": null,
   "id": "cee98ec6-55cc-4b97-9cd4-4d445bbca98d",
   "metadata": {},
   "outputs": [],
   "source": []
  }
 ],
 "metadata": {
  "kernelspec": {
   "display_name": "Python 3 (ipykernel)",
   "language": "python",
   "name": "python3"
  },
  "language_info": {
   "codemirror_mode": {
    "name": "ipython",
    "version": 3
   },
   "file_extension": ".py",
   "mimetype": "text/x-python",
   "name": "python",
   "nbconvert_exporter": "python",
   "pygments_lexer": "ipython3",
   "version": "3.9.15"
  }
 },
 "nbformat": 4,
 "nbformat_minor": 5
}
