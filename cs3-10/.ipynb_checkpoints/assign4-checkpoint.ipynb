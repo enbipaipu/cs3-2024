{
 "cells": [
  {
   "cell_type": "code",
   "execution_count": 2,
   "id": "38a4b2da-6e94-4f33-bb86-5c6147efa761",
   "metadata": {},
   "outputs": [],
   "source": [
    "TP = 500\n",
    "FP = 150\n",
    "FN = 200\n",
    "TN = 300"
   ]
  },
  {
   "cell_type": "code",
   "execution_count": 4,
   "id": "459363b5-c0b9-427e-9552-e648da1cb1c6",
   "metadata": {},
   "outputs": [
    {
     "name": "stdout",
     "output_type": "stream",
     "text": [
      "適合率 0.77\n",
      "偽陽性 0.33\n",
      "精度 0.70\n"
     ]
    }
   ],
   "source": [
    "print(\"適合率\", \"{:.2f}\".format(TP/(TP+FP)))\n",
    "print(\"偽陽性\", \"{:.2f}\".format(FP/(TN+FP)))\n",
    "print(\"精度\", \"{:.2f}\".format((TP+TN)/(TP+FP+TN+FN)))"
   ]
  }
 ],
 "metadata": {
  "kernelspec": {
   "display_name": "Python 3 (ipykernel)",
   "language": "python",
   "name": "python3"
  },
  "language_info": {
   "codemirror_mode": {
    "name": "ipython",
    "version": 3
   },
   "file_extension": ".py",
   "mimetype": "text/x-python",
   "name": "python",
   "nbconvert_exporter": "python",
   "pygments_lexer": "ipython3",
   "version": "3.9.15"
  }
 },
 "nbformat": 4,
 "nbformat_minor": 5
}
