{
 "cells": [
  {
   "cell_type": "code",
   "execution_count": 1,
   "id": "ce37c628-69e4-4ad5-9f4c-8d4185a4860a",
   "metadata": {},
   "outputs": [],
   "source": [
    "import pandas as pd \n",
    "import matplotlib.pyplot as plt"
   ]
  },
  {
   "cell_type": "code",
   "execution_count": 2,
   "id": "ac1874f8-b526-41fb-948b-54c12c089809",
   "metadata": {},
   "outputs": [
    {
     "name": "stdout",
     "output_type": "stream",
     "text": [
      "(376, 5)\n",
      "<class 'pandas.core.frame.DataFrame'>\n",
      "RangeIndex: 376 entries, 0 to 375\n",
      "Data columns (total 5 columns):\n",
      " #   Column   Non-Null Count  Dtype \n",
      "---  ------   --------------  ----- \n",
      " 0   ShopID   376 non-null    int64 \n",
      " 1   Pref     376 non-null    object\n",
      " 2   Product  376 non-null    object\n",
      " 3   Price    376 non-null    int64 \n",
      " 4   Amount   376 non-null    int64 \n",
      "dtypes: int64(3), object(2)\n",
      "memory usage: 14.8+ KB\n",
      "None\n"
     ]
    },
    {
     "data": {
      "text/html": [
       "<div>\n",
       "<style scoped>\n",
       "    .dataframe tbody tr th:only-of-type {\n",
       "        vertical-align: middle;\n",
       "    }\n",
       "\n",
       "    .dataframe tbody tr th {\n",
       "        vertical-align: top;\n",
       "    }\n",
       "\n",
       "    .dataframe thead th {\n",
       "        text-align: right;\n",
       "    }\n",
       "</style>\n",
       "<table border=\"1\" class=\"dataframe\">\n",
       "  <thead>\n",
       "    <tr style=\"text-align: right;\">\n",
       "      <th></th>\n",
       "      <th>ShopID</th>\n",
       "      <th>Pref</th>\n",
       "      <th>Product</th>\n",
       "      <th>Price</th>\n",
       "      <th>Amount</th>\n",
       "    </tr>\n",
       "  </thead>\n",
       "  <tbody>\n",
       "    <tr>\n",
       "      <th>0</th>\n",
       "      <td>18</td>\n",
       "      <td>Kanagawa</td>\n",
       "      <td>BAT</td>\n",
       "      <td>13800</td>\n",
       "      <td>10</td>\n",
       "    </tr>\n",
       "    <tr>\n",
       "      <th>1</th>\n",
       "      <td>18</td>\n",
       "      <td>Kanagawa</td>\n",
       "      <td>UNIFORM</td>\n",
       "      <td>11800</td>\n",
       "      <td>12</td>\n",
       "    </tr>\n",
       "    <tr>\n",
       "      <th>2</th>\n",
       "      <td>18</td>\n",
       "      <td>Kanagawa</td>\n",
       "      <td>GLOVE</td>\n",
       "      <td>16700</td>\n",
       "      <td>10</td>\n",
       "    </tr>\n",
       "    <tr>\n",
       "      <th>3</th>\n",
       "      <td>18</td>\n",
       "      <td>Kanagawa</td>\n",
       "      <td>SHOES</td>\n",
       "      <td>12800</td>\n",
       "      <td>10</td>\n",
       "    </tr>\n",
       "    <tr>\n",
       "      <th>4</th>\n",
       "      <td>30</td>\n",
       "      <td>Ibaraki</td>\n",
       "      <td>BAT</td>\n",
       "      <td>13800</td>\n",
       "      <td>8</td>\n",
       "    </tr>\n",
       "  </tbody>\n",
       "</table>\n",
       "</div>"
      ],
      "text/plain": [
       "   ShopID      Pref  Product  Price  Amount\n",
       "0      18  Kanagawa      BAT  13800      10\n",
       "1      18  Kanagawa  UNIFORM  11800      12\n",
       "2      18  Kanagawa    GLOVE  16700      10\n",
       "3      18  Kanagawa    SHOES  12800      10\n",
       "4      30   Ibaraki      BAT  13800       8"
      ]
     },
     "metadata": {},
     "output_type": "display_data"
    }
   ],
   "source": [
    "df_baseball = pd.read_csv(\"baseball_shop.csv\", sep=\",\")\n",
    "print(df_baseball.shape)\n",
    "print(df_baseball.info())\n",
    "display(df_baseball.head())"
   ]
  },
  {
   "cell_type": "markdown",
   "id": "0ed45466-f764-4ab2-b619-96cc13e3e583",
   "metadata": {},
   "source": [
    "### 4."
   ]
  },
  {
   "cell_type": "code",
   "execution_count": 5,
   "id": "56550b2b-5bef-4c0d-81e6-0349d16fa2a6",
   "metadata": {},
   "outputs": [
    {
     "name": "stdout",
     "output_type": "stream",
     "text": [
      "Pref\n",
      "Kanagawa    68\n",
      "Tokyo       68\n",
      "Chiba       64\n",
      "Ibaraki     48\n",
      "Saitama     48\n",
      "Tochigi     40\n",
      "Gunma       40\n",
      "Name: count, dtype: int64\n"
     ]
    }
   ],
   "source": [
    "print(df_baseball[\"Pref\"].value_counts())"
   ]
  },
  {
   "cell_type": "markdown",
   "id": "80a3135d-516d-40ae-b781-43cffbe3ae95",
   "metadata": {},
   "source": [
    "### 5."
   ]
  },
  {
   "cell_type": "code",
   "execution_count": 7,
   "id": "f6b316ad-14d2-4eb7-b6c6-d5758e0d71c1",
   "metadata": {},
   "outputs": [
    {
     "data": {
      "text/html": [
       "<div>\n",
       "<style scoped>\n",
       "    .dataframe tbody tr th:only-of-type {\n",
       "        vertical-align: middle;\n",
       "    }\n",
       "\n",
       "    .dataframe tbody tr th {\n",
       "        vertical-align: top;\n",
       "    }\n",
       "\n",
       "    .dataframe thead th {\n",
       "        text-align: right;\n",
       "    }\n",
       "</style>\n",
       "<table border=\"1\" class=\"dataframe\">\n",
       "  <thead>\n",
       "    <tr style=\"text-align: right;\">\n",
       "      <th>Product</th>\n",
       "      <th>BAT</th>\n",
       "      <th>GLOVE</th>\n",
       "      <th>SHOES</th>\n",
       "      <th>UNIFORM</th>\n",
       "      <th>All</th>\n",
       "    </tr>\n",
       "    <tr>\n",
       "      <th>Pref</th>\n",
       "      <th></th>\n",
       "      <th></th>\n",
       "      <th></th>\n",
       "      <th></th>\n",
       "      <th></th>\n",
       "    </tr>\n",
       "  </thead>\n",
       "  <tbody>\n",
       "    <tr>\n",
       "      <th>Chiba</th>\n",
       "      <td>16</td>\n",
       "      <td>16</td>\n",
       "      <td>16</td>\n",
       "      <td>16</td>\n",
       "      <td>64</td>\n",
       "    </tr>\n",
       "    <tr>\n",
       "      <th>Gunma</th>\n",
       "      <td>10</td>\n",
       "      <td>10</td>\n",
       "      <td>10</td>\n",
       "      <td>10</td>\n",
       "      <td>40</td>\n",
       "    </tr>\n",
       "    <tr>\n",
       "      <th>Ibaraki</th>\n",
       "      <td>12</td>\n",
       "      <td>12</td>\n",
       "      <td>12</td>\n",
       "      <td>12</td>\n",
       "      <td>48</td>\n",
       "    </tr>\n",
       "    <tr>\n",
       "      <th>Kanagawa</th>\n",
       "      <td>17</td>\n",
       "      <td>17</td>\n",
       "      <td>17</td>\n",
       "      <td>17</td>\n",
       "      <td>68</td>\n",
       "    </tr>\n",
       "    <tr>\n",
       "      <th>Saitama</th>\n",
       "      <td>12</td>\n",
       "      <td>12</td>\n",
       "      <td>12</td>\n",
       "      <td>12</td>\n",
       "      <td>48</td>\n",
       "    </tr>\n",
       "    <tr>\n",
       "      <th>Tochigi</th>\n",
       "      <td>10</td>\n",
       "      <td>10</td>\n",
       "      <td>10</td>\n",
       "      <td>10</td>\n",
       "      <td>40</td>\n",
       "    </tr>\n",
       "    <tr>\n",
       "      <th>Tokyo</th>\n",
       "      <td>17</td>\n",
       "      <td>17</td>\n",
       "      <td>17</td>\n",
       "      <td>17</td>\n",
       "      <td>68</td>\n",
       "    </tr>\n",
       "    <tr>\n",
       "      <th>All</th>\n",
       "      <td>94</td>\n",
       "      <td>94</td>\n",
       "      <td>94</td>\n",
       "      <td>94</td>\n",
       "      <td>376</td>\n",
       "    </tr>\n",
       "  </tbody>\n",
       "</table>\n",
       "</div>"
      ],
      "text/plain": [
       "Product   BAT  GLOVE  SHOES  UNIFORM  All\n",
       "Pref                                     \n",
       "Chiba      16     16     16       16   64\n",
       "Gunma      10     10     10       10   40\n",
       "Ibaraki    12     12     12       12   48\n",
       "Kanagawa   17     17     17       17   68\n",
       "Saitama    12     12     12       12   48\n",
       "Tochigi    10     10     10       10   40\n",
       "Tokyo      17     17     17       17   68\n",
       "All        94     94     94       94  376"
      ]
     },
     "metadata": {},
     "output_type": "display_data"
    }
   ],
   "source": [
    "display(pd.crosstab(df_baseball[\"Pref\"], df_baseball[\"Product\"], margins=True))"
   ]
  },
  {
   "cell_type": "markdown",
   "id": "4fa230e6-b91a-49dc-ba64-aca988ade914",
   "metadata": {},
   "source": [
    "### 6."
   ]
  },
  {
   "cell_type": "code",
   "execution_count": 11,
   "id": "46876826-c951-4d99-8e06-e85b27f5fb02",
   "metadata": {},
   "outputs": [
    {
     "name": "stdout",
     "output_type": "stream",
     "text": [
      "Pref\n",
      "Chiba       881600\n",
      "Gunma       551000\n",
      "Ibaraki     661200\n",
      "Kanagawa    936700\n",
      "Saitama     661200\n",
      "Tochigi     551000\n",
      "Tokyo       936700\n",
      "Name: Price, dtype: int64\n"
     ]
    }
   ],
   "source": [
    "print(df_baseball.groupby(\"Pref\").sum()[\"Price\"])"
   ]
  },
  {
   "cell_type": "markdown",
   "id": "66cfc8b2-8f4a-489e-9bf4-9953780cb411",
   "metadata": {},
   "source": [
    "### 7."
   ]
  },
  {
   "cell_type": "code",
   "execution_count": 12,
   "id": "26eba181-0381-49df-ae11-4e6277d3ed92",
   "metadata": {},
   "outputs": [
    {
     "data": {
      "text/html": [
       "<div>\n",
       "<style scoped>\n",
       "    .dataframe tbody tr th:only-of-type {\n",
       "        vertical-align: middle;\n",
       "    }\n",
       "\n",
       "    .dataframe tbody tr th {\n",
       "        vertical-align: top;\n",
       "    }\n",
       "\n",
       "    .dataframe thead th {\n",
       "        text-align: right;\n",
       "    }\n",
       "</style>\n",
       "<table border=\"1\" class=\"dataframe\">\n",
       "  <thead>\n",
       "    <tr style=\"text-align: right;\">\n",
       "      <th>Product</th>\n",
       "      <th>BAT</th>\n",
       "      <th>GLOVE</th>\n",
       "      <th>SHOES</th>\n",
       "      <th>UNIFORM</th>\n",
       "    </tr>\n",
       "    <tr>\n",
       "      <th>Pref</th>\n",
       "      <th></th>\n",
       "      <th></th>\n",
       "      <th></th>\n",
       "      <th></th>\n",
       "    </tr>\n",
       "  </thead>\n",
       "  <tbody>\n",
       "    <tr>\n",
       "      <th>Chiba</th>\n",
       "      <td>4.375000</td>\n",
       "      <td>5.562500</td>\n",
       "      <td>6.625000</td>\n",
       "      <td>8.125000</td>\n",
       "    </tr>\n",
       "    <tr>\n",
       "      <th>Gunma</th>\n",
       "      <td>6.800000</td>\n",
       "      <td>8.400000</td>\n",
       "      <td>7.500000</td>\n",
       "      <td>6.100000</td>\n",
       "    </tr>\n",
       "    <tr>\n",
       "      <th>Ibaraki</th>\n",
       "      <td>6.583333</td>\n",
       "      <td>5.750000</td>\n",
       "      <td>7.333333</td>\n",
       "      <td>8.083333</td>\n",
       "    </tr>\n",
       "    <tr>\n",
       "      <th>Kanagawa</th>\n",
       "      <td>5.529412</td>\n",
       "      <td>5.705882</td>\n",
       "      <td>7.235294</td>\n",
       "      <td>6.588235</td>\n",
       "    </tr>\n",
       "    <tr>\n",
       "      <th>Saitama</th>\n",
       "      <td>7.416667</td>\n",
       "      <td>7.500000</td>\n",
       "      <td>8.583333</td>\n",
       "      <td>8.666667</td>\n",
       "    </tr>\n",
       "    <tr>\n",
       "      <th>Tochigi</th>\n",
       "      <td>5.500000</td>\n",
       "      <td>4.300000</td>\n",
       "      <td>6.100000</td>\n",
       "      <td>8.800000</td>\n",
       "    </tr>\n",
       "    <tr>\n",
       "      <th>Tokyo</th>\n",
       "      <td>9.235294</td>\n",
       "      <td>10.000000</td>\n",
       "      <td>9.823529</td>\n",
       "      <td>9.352941</td>\n",
       "    </tr>\n",
       "  </tbody>\n",
       "</table>\n",
       "</div>"
      ],
      "text/plain": [
       "Product        BAT      GLOVE     SHOES   UNIFORM\n",
       "Pref                                             \n",
       "Chiba     4.375000   5.562500  6.625000  8.125000\n",
       "Gunma     6.800000   8.400000  7.500000  6.100000\n",
       "Ibaraki   6.583333   5.750000  7.333333  8.083333\n",
       "Kanagawa  5.529412   5.705882  7.235294  6.588235\n",
       "Saitama   7.416667   7.500000  8.583333  8.666667\n",
       "Tochigi   5.500000   4.300000  6.100000  8.800000\n",
       "Tokyo     9.235294  10.000000  9.823529  9.352941"
      ]
     },
     "metadata": {},
     "output_type": "display_data"
    }
   ],
   "source": [
    "display(df_baseball.pivot_table(index=\"Pref\", columns=\"Product\", values=\"Amount\", aggfunc=\"mean\"))"
   ]
  },
  {
   "cell_type": "code",
   "execution_count": null,
   "id": "75782000-3406-4eaf-a939-2203f03f745e",
   "metadata": {},
   "outputs": [],
   "source": []
  }
 ],
 "metadata": {
  "kernelspec": {
   "display_name": "Python 3 (ipykernel)",
   "language": "python",
   "name": "python3"
  },
  "language_info": {
   "codemirror_mode": {
    "name": "ipython",
    "version": 3
   },
   "file_extension": ".py",
   "mimetype": "text/x-python",
   "name": "python",
   "nbconvert_exporter": "python",
   "pygments_lexer": "ipython3",
   "version": "3.9.15"
  }
 },
 "nbformat": 4,
 "nbformat_minor": 5
}
